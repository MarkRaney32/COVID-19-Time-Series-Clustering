{
 "cells": [
  {
   "cell_type": "markdown",
   "id": "1ba0a761-0fe5-4ee7-9079-5d7b3abcd96e",
   "metadata": {},
   "source": [
    "# Rank Clustering"
   ]
  },
  {
   "cell_type": "code",
   "execution_count": 1,
   "id": "a0ad1828-b628-4cb3-9332-959025b8c17a",
   "metadata": {},
   "outputs": [],
   "source": [
    "import numpy as np\n",
    "import pandas as pd\n",
    "import matplotlib.pyplot as plt\n",
    "import math\n",
    "import ast\n",
    "from datetime import date\n",
    "from copy import deepcopy\n",
    "from functools import lru_cache"
   ]
  },
  {
   "cell_type": "code",
   "execution_count": 2,
   "id": "4e551f0b-e178-4c6d-ba22-b8474f0b4de8",
   "metadata": {},
   "outputs": [],
   "source": [
    "df = pd.read_csv('Data//owid-covid-data.csv')"
   ]
  },
  {
   "cell_type": "code",
   "execution_count": 3,
   "id": "720450b7-ff54-43bf-98f4-e1773ec03ec9",
   "metadata": {},
   "outputs": [],
   "source": [
    "#Filtering for countries using min population and removing the continent samples\n",
    "dfPopThreshold = df[(df.population >= 1000000) & (df.continent.isnull() == False) & (df.date >= '2020-01-22')].copy()\n",
    "countries = list(dfPopThreshold.location.unique())"
   ]
  },
  {
   "cell_type": "code",
   "execution_count": 4,
   "id": "3907bb40-983c-4682-8ebb-de912cce172e",
   "metadata": {},
   "outputs": [],
   "source": [
    "faultyDataCountries = ['Turkmenistan', 'Puerto Rico', 'North Korea']\n",
    "for country in faultyDataCountries:\n",
    "    index = list(countries).index(country)\n",
    "    countries.pop(index)"
   ]
  },
  {
   "cell_type": "code",
   "execution_count": 5,
   "id": "8e6e0782-3967-4f89-b49f-4a11ed0e5f95",
   "metadata": {},
   "outputs": [],
   "source": [
    "def daysFromStart(measureDate):\n",
    "    year, month, day = measureDate.split('-')\n",
    "    return (date(int(year),int(month),int(day)) - date(2020,1,22)).days\n",
    "\n",
    "def plotCases(df, country, var = 'new_cases'):\n",
    "    countryDF = df[df.location == country].copy()\n",
    "    plt.plot(countryDF.date, countryDF[var] / countryDF['population'])\n",
    "    \n",
    "def getTimeSeries(df, country):\n",
    "    countryDF = df[df.location == country].copy()\n",
    "    return countryDF['new_cases'] / countryDF['population']"
   ]
  },
  {
   "cell_type": "code",
   "execution_count": 6,
   "id": "50605dbd-0ccb-44eb-883b-dea6070aeacb",
   "metadata": {},
   "outputs": [],
   "source": [
    "def imputateAndSmooth(df, column, country, method = 'linear', window = 7):\n",
    "    countryDF = df[df['location'] == country].copy()\n",
    "    countryDF.date = (countryDF.date).apply(daysFromStart)\n",
    "    countryDF[column].interpolate(method = method, order = 2, inplace = True)\n",
    "    \n",
    "    #Smoothing\n",
    "    countryDF[column] = countryDF[column].rolling(window = window).mean()[window-1:]\n",
    "    \n",
    "    #Replaces preceding values with zero with the assumption\n",
    "    #That this was before cases arrived / testing began\n",
    "    countryDF[column] = countryDF[column].replace(np.nan, 0)\n",
    "    \n",
    "    return countryDF"
   ]
  },
  {
   "cell_type": "code",
   "execution_count": 7,
   "id": "52faf76b-3707-4b82-a2b4-53ce0eac011b",
   "metadata": {},
   "outputs": [],
   "source": [
    "def finalizeData(df, var = 'new_cases', window = 14):\n",
    "    newDF = pd.DataFrame()\n",
    "    for country in countries:\n",
    "        newDF = pd.concat([newDF,imputateAndSmooth(df,var,country,window = window)], axis = 0)\n",
    "    return newDF"
   ]
  },
  {
   "cell_type": "code",
   "execution_count": 8,
   "id": "2ef7422b-d5d0-4daa-a6cb-9c0f4586a96f",
   "metadata": {},
   "outputs": [],
   "source": [
    "finalDF = finalizeData(dfPopThreshold)"
   ]
  },
  {
   "cell_type": "code",
   "execution_count": 9,
   "id": "8b6fe8cd-bf7a-4be3-b656-59b884801fe2",
   "metadata": {},
   "outputs": [],
   "source": [
    "def createCountryTimeSeries(df, countries):\n",
    "    timeSeriesList = []\n",
    "    for country in countries:\n",
    "        timeSeries = []\n",
    "        countryDF = df[df.location == country]\n",
    "        try:\n",
    "            startDate = countryDF.iloc[1,3] - 1\n",
    "        except:\n",
    "            print(country)\n",
    "        endDate = countryDF.iloc[-1,3]\n",
    "        timeSeriesList.append([0 for i in range(startDate)] + list(countryDF.new_cases / countryDF.population))\n",
    "    return timeSeriesList\n",
    "        "
   ]
  },
  {
   "cell_type": "code",
   "execution_count": 10,
   "id": "aa66f4db-528b-41cb-a73d-c4bdd44276e7",
   "metadata": {},
   "outputs": [],
   "source": [
    "newCaseTimeSeries = createCountryTimeSeries(finalDF, countries)\n",
    "\n",
    "#Creating normalized (local) lists of time series\n",
    "globalMax = -math.inf\n",
    "globalMin = math.inf\n",
    "newCaseTimeSeriesNormalizedLocal = []\n",
    "for i in range(len(newCaseTimeSeries)):\n",
    "    maxVal = max(newCaseTimeSeries[i])\n",
    "    if maxVal > globalMax: globalMax = maxVal\n",
    "    minVal = min(newCaseTimeSeries[i])\n",
    "    if minVal < globalMin: globalMin = minVal\n",
    "    ts = []\n",
    "    for val in newCaseTimeSeries[i]:\n",
    "        ts.append((val - minVal) / (maxVal - minVal))\n",
    "    newCaseTimeSeriesNormalizedLocal.append(ts)\n",
    "\n",
    "#Creating normalized (global) lists of time series\n",
    "newCaseTimeSeriesNormalizedGlobal = []\n",
    "for i in range(len(newCaseTimeSeries)):\n",
    "    ts = []\n",
    "    for val in newCaseTimeSeries[i]:\n",
    "        ts.append((val - globalMin) / (globalMax - globalMin))\n",
    "    newCaseTimeSeriesNormalizedGlobal.append(ts)"
   ]
  },
  {
   "cell_type": "code",
   "execution_count": 13,
   "id": "da55bcbc-f9ae-4f89-bb9d-ce8d2248f2c0",
   "metadata": {},
   "outputs": [],
   "source": [
    "def convertTimeSeriesToRank(TSList, method = 'dense'):\n",
    "    newTSList = []\n",
    "    for TS in TSList:\n",
    "        TSSeries = pd.Series(TS)\n",
    "        TSSeries = TSSeries.rank(method=method)\n",
    "        newTSList.append(list(TSSeries))\n",
    "    return newTSList"
   ]
  },
  {
   "cell_type": "code",
   "execution_count": 12,
   "id": "ae3d57cb-e599-4521-9862-4204b12940e8",
   "metadata": {},
   "outputs": [],
   "source": [
    "rankedNewCaseTimeSeries = convertTimeSeriesToRank(newCaseTimeSeries)"
   ]
  },
  {
   "cell_type": "code",
   "execution_count": 14,
   "id": "399f9894-ee56-440b-b9a2-06640bdc696b",
   "metadata": {},
   "outputs": [],
   "source": [
    "minRankedNewCaseTimeSeries = convertTimeSeriesToRank(newCaseTimeSeries, method = 'min')"
   ]
  },
  {
   "cell_type": "code",
   "execution_count": 25,
   "id": "2f5db32b-d73e-4bc7-9720-2551e59b2cbd",
   "metadata": {},
   "outputs": [
    {
     "name": "stdout",
     "output_type": "stream",
     "text": [
      "Bosnia and Herzegovina\n",
      "Burundi\n",
      "Chad\n",
      "El Salvador\n",
      "Equatorial Guinea\n",
      "Gabon\n",
      "Hungary\n",
      "Liberia\n",
      "Libya\n",
      "Nicaragua\n",
      "Paraguay\n",
      "Tanzania\n",
      "Venezuela\n"
     ]
    }
   ],
   "source": [
    "for ts in range(len(minRankedNewCaseTimeSeries)):\n",
    "    if max(minRankedNewCaseTimeSeries[ts]) != 846:\n",
    "        print(countries[ts])"
   ]
  },
  {
   "cell_type": "code",
   "execution_count": 20,
   "id": "c0fd3fc8-4cfa-400c-a3d0-512912da7f62",
   "metadata": {},
   "outputs": [
    {
     "data": {
      "text/plain": [
       "'Nicaragua'"
      ]
     },
     "execution_count": 20,
     "metadata": {},
     "output_type": "execute_result"
    }
   ],
   "source": [
    "countries[100]"
   ]
  },
  {
   "cell_type": "markdown",
   "id": "b0379cf5-3cfb-4c2a-91f7-2e54e2cd1282",
   "metadata": {},
   "source": [
    "# Clustering"
   ]
  },
  {
   "cell_type": "code",
   "execution_count": 30,
   "id": "923caddb-b95d-4e1d-bc08-12efb104a1ff",
   "metadata": {},
   "outputs": [],
   "source": [
    "import random\n",
    "import re"
   ]
  },
  {
   "cell_type": "code",
   "execution_count": 31,
   "id": "850a6505-6da3-476e-9015-3a34d94f9878",
   "metadata": {},
   "outputs": [],
   "source": [
    "def TSDist(ts1, ts2):\n",
    "    \"\"\"\n",
    "    Average Geometric Distance (Root mean square distance).\n",
    "    Assumes series' of equal length\n",
    "    \"\"\"\n",
    "    squaredDistSum = 0\n",
    "    for i in range(len(ts1)):\n",
    "        squaredDistSum += (ts1[i] - ts2[i])**2\n",
    "    return math.sqrt(squaredDistSum) / len(ts1)"
   ]
  },
  {
   "cell_type": "code",
   "execution_count": 32,
   "id": "889e9688-f4f9-41e7-9642-44ab5ea833b6",
   "metadata": {},
   "outputs": [],
   "source": [
    "def SWMatchEQ(ts1, ts2, maxShiftPerc = 20):\n",
    "    \"\"\"\n",
    "    Sliding window time series matching given two time series' of equal length\n",
    "    \"\"\"\n",
    "    maxTimeShift = int(len(ts1) * (maxShiftPerc / 100))\n",
    "    \n",
    "    #Positive minDistShift denotes the shift of the first time series\n",
    "    minDistShift = 0\n",
    "    minDist = TSDist(ts1, ts2)\n",
    "    \n",
    "    for i in range(maxTimeShift):\n",
    "        dist = TSDist(ts1[i+1:], ts2[:-(i+1)])\n",
    "        if dist < minDist:\n",
    "            minDist = dist\n",
    "            minDistShift = i + 1\n",
    "    for i in range(maxTimeShift):\n",
    "        dist = TSDist(ts2[i+1:], ts1[:-(i+1)])\n",
    "        if dist < minDist:\n",
    "            minDist = dist\n",
    "            minDistShift = -i - 1\n",
    "            \n",
    "    return minDist, minDistShift"
   ]
  },
  {
   "cell_type": "code",
   "execution_count": 33,
   "id": "1a955d61-7865-41eb-a870-5b478d74f78b",
   "metadata": {},
   "outputs": [],
   "source": [
    "def plotShifts(ts1, ts2, shift, yMin = -3, yMax = 3):\n",
    "    if shift != 0:\n",
    "        aMod = ts1[abs(shift):] if shift < 0 else ts1[:-shift]\n",
    "        bMod = ts2[:shift] if shift < 0 else ts2[shift:]\n",
    "        #plt.plot([x for x in range(len(a))], a)\n",
    "        #plt.plot([x for x in range(len(b))], b)\n",
    "        plt.plot([x for x in range(len(aMod))], aMod)\n",
    "        plt.plot([x for x in range(len(bMod))], bMod)\n",
    "    else:\n",
    "        plt.plot([x for x in range(len(ts1))], ts1)\n",
    "        plt.plot([x for x in range(len(ts2))], ts2)\n",
    "    plt.ylim(yMin, yMax)\n",
    "    plt.show()"
   ]
  },
  {
   "cell_type": "code",
   "execution_count": 34,
   "id": "d6753716-faad-4297-a333-fab362e63f39",
   "metadata": {},
   "outputs": [],
   "source": [
    "def TSDistanceMatrix(TSList, maxShiftPerc = 20, verbose = False):\n",
    "    distMatrix = [[0 for y in range(len(TSList))] for x in range(len(TSList))]\n",
    "    for i in range(len(TSList)):\n",
    "        for j in range(i + 1, len(TSList)): \n",
    "            dist, shift = SWMatchEQ(TSList[i], TSList[j], maxShiftPerc=maxShiftPerc)\n",
    "            distMatrix[i][j] = dist\n",
    "        if verbose:\n",
    "            print('{} of {} completed...\\r'.format(i + 1, len(TSList)), end = '')\n",
    "    return distMatrix"
   ]
  },
  {
   "cell_type": "code",
   "execution_count": 35,
   "id": "6dc3a6d4-76d7-40f5-b29b-5445d1086250",
   "metadata": {},
   "outputs": [],
   "source": [
    "@lru_cache(maxsize=1024)\n",
    "def clusterStringToIndexList(clusterString):\n",
    "    \"\"\"\n",
    "    Converts (1,(2,3),(4,5)) -> [1,2,3,4,5]\n",
    "    \"\"\"\n",
    "    return [int(x) for x in re.findall('(\\d+)',clusterString)]"
   ]
  },
  {
   "cell_type": "code",
   "execution_count": 36,
   "id": "38412604-029d-4720-9c23-effa50363784",
   "metadata": {},
   "outputs": [],
   "source": [
    "def aggloClusterAverage(TSList, numberOfClusters, maxShiftPerc = 20, verbose = False, measurement = 'shape'):\n",
    "    \"\"\"\n",
    "    Performs agglomerative hierarchial clustering - distance between clusters is calculated\n",
    "    as the average distance of every combination of time series within the clusters. I.E.\n",
    "    given cluster (A,B) and cluster (C,D), the distance between them is calculated as:\n",
    "    \n",
    "            (dist(A,C) + dist(A,D) + dist(B,C) + dist(B,D)) / (2 * 2)\n",
    "            \n",
    "    Parameters:\n",
    "        TSList: list of time series, parallel to the list countries\n",
    "        maxShiftPerc: the percentage that time series are allowed to be shifted to\n",
    "                      find the optimal matching\n",
    "        distMatrix: distance matrix used to cluster on if one is already calculated\n",
    "        verbose: Boolean set to whether the algorithm prints the clusters as they are formed\n",
    "    \"\"\"\n",
    "    \n",
    "    representativeList = [x for x in range(len(TSList))]\n",
    "    distanceList = [0 for x in range(len(TSList))]\n",
    "    clusterVariances = []\n",
    "    lengthsList = [1 for x in range(len(TSList))]\n",
    "    \n",
    "    while len(representativeList) != numberOfClusters:\n",
    "        #print('\\r{}'.format(len(representativeList)), end = '')\n",
    "        minDist = math.inf\n",
    "        minDisti = -1\n",
    "        minDistj = -1\n",
    "        for i in range(len(representativeList)):\n",
    "            for j in range(i + 1, len(representativeList)):\n",
    "                clusterStringi = str(representativeList[i])\n",
    "                clusterStringj = str(representativeList[j])\n",
    "                \n",
    "                distance = betweenClusterDist(clusterStringi, clusterStringj, measurement = measurement)\n",
    "                \n",
    "                if distance < minDist: \n",
    "                    minDist = distance\n",
    "                    minDisti = i; minDistj = j\n",
    "        \n",
    "        if verbose:\n",
    "            print((representativeList[minDisti], representativeList[minDistj]))\n",
    "        \n",
    "        representativeList.append((representativeList[minDisti], representativeList[minDistj]))\n",
    "        representativeList.pop(minDistj)\n",
    "        representativeList.pop(minDisti)\n",
    "        \n",
    "        lengthsList.append(lengthsList[minDistj] + lengthsList[minDisti])\n",
    "        lengthsList.pop(minDistj)\n",
    "        lengthsList.pop(minDisti)\n",
    "        \n",
    "        distanceList.append(minDist)\n",
    "        distanceList.pop(minDistj)\n",
    "        distanceList.pop(minDisti)\n",
    "        \n",
    "        clusterVariance = 0\n",
    "        for i in range(len(lengthsList)):\n",
    "            proportionTotalTS = lengthsList[i] / len(TSList)\n",
    "            clusterVariance += proportionTotalTS * distanceList[i]\n",
    "        \n",
    "        clusterVariances.insert(0, clusterVariance)\n",
    "        \n",
    "    return representativeList, distanceList, clusterVariances"
   ]
  },
  {
   "cell_type": "code",
   "execution_count": 37,
   "id": "5feebaf3-8b0a-4f9b-a9e0-228572231257",
   "metadata": {},
   "outputs": [],
   "source": [
    "@lru_cache(maxsize=1024)\n",
    "def betweenClusterDist(clusterStringi, clusterStringj, measurement = 'shape'):\n",
    "    clusterListi = clusterStringToIndexList(clusterStringi)\n",
    "    clusterListj = clusterStringToIndexList(clusterStringj)\n",
    "    \n",
    "    totalDist = 0\n",
    "    for itemi in clusterListi:\n",
    "        for itemj in clusterListj:\n",
    "            if measurement == 'shape':\n",
    "                totalDist += distMatrixNormalizedLocal[itemi][itemj]\n",
    "            elif measurement == 'shape&raw':\n",
    "                totalDist += distMatrixSizeShape[itemi][itemj]\n",
    "            else:\n",
    "                totalDist += distMatrix[itemi][itemj]\n",
    "            \n",
    "    distance = totalDist / (len(clusterListi) * len(clusterListj))\n",
    "    return distance\n",
    "    "
   ]
  },
  {
   "cell_type": "markdown",
   "id": "50b74cd3-6d28-4634-bf3a-8e31f1d6ac6f",
   "metadata": {},
   "source": [
    "## Computation"
   ]
  },
  {
   "cell_type": "code",
   "execution_count": 38,
   "id": "f2d1f7ed-be20-4f12-a24e-d08206e8c277",
   "metadata": {},
   "outputs": [],
   "source": [
    "def SRC(ts1, ts2):\n",
    "    \"\"\"\n",
    "    Calculates the spearman rank correlation between two ranked time series\n",
    "    \n",
    "    Parameters:\n",
    "        ts1: first time series\n",
    "        ts2: second time series\n",
    "    \"\"\"\n",
    "    totalDiff = 0\n",
    "    for i in range(len(ts1)):\n",
    "        totalDiff += (ts1[i]-ts2[i])**2\n",
    "    return 1 - ((6 * totalDiff) / (len(ts1) * (len(ts1)**2 - 1)))\n",
    "\n",
    "def scaleAndInvertSRC(src):\n",
    "    \"\"\"\n",
    "    Takes a spearman rank correlation value and normalizes it so that 0 is a perfect correlation\n",
    "    and 1 is perfect negative correlation.\n",
    "    \n",
    "    Parameters:\n",
    "        src: the spearman rank correlation value to normalize\n",
    "    \"\"\"\n",
    "    \n",
    "    return ((src * -1) + 1) / 2"
   ]
  },
  {
   "cell_type": "code",
   "execution_count": 39,
   "id": "28713f4d-a992-40a6-872a-feb759bd1dab",
   "metadata": {},
   "outputs": [],
   "source": [
    "distMatrixRanked = [[0 for x in range(len(rankedNewCaseTimeSeries))] for y in range(len(rankedNewCaseTimeSeries))]"
   ]
  },
  {
   "cell_type": "code",
   "execution_count": 40,
   "id": "d2fab2ab-0bc0-48c5-8c5d-f51f4d24fa44",
   "metadata": {},
   "outputs": [
    {
     "name": "stdout",
     "output_type": "stream",
     "text": [
      "Completed: 157 of 157"
     ]
    }
   ],
   "source": [
    "for i in range(len(minRankedNewCaseTimeSeries)):\n",
    "    for j in range(i + 1, len(minRankedNewCaseTimeSeries)):\n",
    "        dist = SRC(minRankedNewCaseTimeSeries[i], minRankedNewCaseTimeSeries[j])\n",
    "        dist = scaleAndInvertSRC(dist)\n",
    "        distMatrixRanked[i][j] = dist\n",
    "        distMatrixRanked[j][i] = dist\n",
    "    print('\\rCompleted: {} of {}'.format(i + 1, len(minRankedNewCaseTimeSeries)), end = '')"
   ]
  },
  {
   "cell_type": "code",
   "execution_count": 41,
   "id": "abf70c42-c168-4475-b29c-2aaaedc66378",
   "metadata": {},
   "outputs": [],
   "source": [
    "for i in range(len(distMatrixRanked)):\n",
    "    for j in range(i + 1, len(distMatrixRanked)):\n",
    "        distMatrixRanked[j][i] = distMatrixRanked[i][j]\n",
    "        \n",
    "distMatrixRankedDF = pd.DataFrame(distMatrixRanked)\n",
    "distMatrixRankedDF.columns = countries\n",
    "distMatrixRankedDF.index = countries\n",
    "\n",
    "distMatrixRankedDF.to_csv('distance_matrix_min_ranked_normalized.csv')"
   ]
  },
  {
   "cell_type": "code",
   "execution_count": 25,
   "id": "f6019c5c-f8b5-419e-8e2a-2504d5282ecf",
   "metadata": {},
   "outputs": [],
   "source": [
    "distMatrixRankedDF = pd.read_csv('Data/distance_matrix_ranked_normalized.csv', index_col=0)\n",
    "distMatrixRanked = distMatrixRankedDF.values.tolist()"
   ]
  },
  {
   "cell_type": "code",
   "execution_count": 26,
   "id": "b4873e0b-3f50-4a86-aa0f-7f2657ffb2d8",
   "metadata": {},
   "outputs": [
    {
     "data": {
      "text/html": [
       "<div>\n",
       "<style scoped>\n",
       "    .dataframe tbody tr th:only-of-type {\n",
       "        vertical-align: middle;\n",
       "    }\n",
       "\n",
       "    .dataframe tbody tr th {\n",
       "        vertical-align: top;\n",
       "    }\n",
       "\n",
       "    .dataframe thead th {\n",
       "        text-align: right;\n",
       "    }\n",
       "</style>\n",
       "<table border=\"1\" class=\"dataframe\">\n",
       "  <thead>\n",
       "    <tr style=\"text-align: right;\">\n",
       "      <th></th>\n",
       "      <th>Japan</th>\n",
       "      <th>Tanzania</th>\n",
       "    </tr>\n",
       "  </thead>\n",
       "  <tbody>\n",
       "    <tr>\n",
       "      <th>Japan</th>\n",
       "      <td>0.000000</td>\n",
       "      <td>0.852049</td>\n",
       "    </tr>\n",
       "    <tr>\n",
       "      <th>Tanzania</th>\n",
       "      <td>0.852049</td>\n",
       "      <td>0.000000</td>\n",
       "    </tr>\n",
       "  </tbody>\n",
       "</table>\n",
       "</div>"
      ],
      "text/plain": [
       "             Japan  Tanzania\n",
       "Japan     0.000000  0.852049\n",
       "Tanzania  0.852049  0.000000"
      ]
     },
     "execution_count": 26,
     "metadata": {},
     "output_type": "execute_result"
    }
   ],
   "source": [
    "distMatrixRankedDF[['Japan','Tanzania']].loc[['Japan', 'Tanzania']]"
   ]
  },
  {
   "cell_type": "code",
   "execution_count": 27,
   "id": "a2fbb0ac-36fb-4f11-89e3-0989292ea654",
   "metadata": {},
   "outputs": [],
   "source": [
    "def plotCluster(TSL, clusterString, yMin = -3, yMax = 3):\n",
    "    group = clusterStringToIndexList(str(clusterString))\n",
    "    for index in group:\n",
    "        plt.plot([x for x in range(len(TSL[index]))], TSL[index], color = 'silver', alpha = 0.4)\n",
    "    avgTS = averageTS([TSL[x] for x in group])\n",
    "    plt.plot([x for x in range(len(avgTS))], avgTS, color = 'violet')\n",
    "    plt.ylim(yMin, yMax)\n",
    "    plt.show()"
   ]
  },
  {
   "cell_type": "code",
   "execution_count": 29,
   "id": "86d47666-c08e-4849-a38e-721fa3e406cf",
   "metadata": {},
   "outputs": [
    {
     "name": "stdout",
     "output_type": "stream",
     "text": [
      "Done\n"
     ]
    }
   ],
   "source": [
    "with open(r'countries.txt', 'w') as fp:\n",
    "    for item in countries:\n",
    "        # write each item on a new line\n",
    "        fp.write(\"%s\\n\" % item)\n",
    "    print('Done')"
   ]
  },
  {
   "cell_type": "code",
   "execution_count": 32,
   "id": "42617042-1a8c-4ce7-a34e-85c3573832f7",
   "metadata": {},
   "outputs": [],
   "source": [
    "with open('rankedTS.txt', 'r') as fp:\n",
    "    for line in fp:\n",
    "        test.append(ast.literal_eval(line))"
   ]
  }
 ],
 "metadata": {
  "kernelspec": {
   "display_name": "Python 3 (ipykernel)",
   "language": "python",
   "name": "python3"
  },
  "language_info": {
   "codemirror_mode": {
    "name": "ipython",
    "version": 3
   },
   "file_extension": ".py",
   "mimetype": "text/x-python",
   "name": "python",
   "nbconvert_exporter": "python",
   "pygments_lexer": "ipython3",
   "version": "3.8.11"
  }
 },
 "nbformat": 4,
 "nbformat_minor": 5
}
