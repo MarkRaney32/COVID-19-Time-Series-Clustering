{
 "cells": [
  {
   "cell_type": "markdown",
   "id": "bd8d5af3-4598-469d-975c-cdcda644a210",
   "metadata": {},
   "source": [
    "# Fetching Clusters"
   ]
  },
  {
   "cell_type": "code",
   "execution_count": 1,
   "id": "c2e40b2b-7294-499c-85c9-7d8f12c368d6",
   "metadata": {},
   "outputs": [],
   "source": [
    "import numpy as np\n",
    "import pandas as pd\n",
    "import math\n",
    "import re\n",
    "import kneed\n",
    "import ast\n",
    "from functools import lru_cache\n",
    "from copy import deepcopy"
   ]
  },
  {
   "cell_type": "code",
   "execution_count": 2,
   "id": "af199d84-7134-427c-8caf-631c1cb8ae4d",
   "metadata": {},
   "outputs": [],
   "source": [
    "def clusterStringToIndexList(clusterString):\n",
    "    \"\"\"\n",
    "    Converts (1,(2,3),(4,5)) -> [1,2,3,4,5]\n",
    "    \"\"\"\n",
    "    return [int(x) for x in re.findall('(\\d+)',clusterString)]"
   ]
  },
  {
   "cell_type": "code",
   "execution_count": 3,
   "id": "d702603f-f560-4300-ad0d-3e30fce2040d",
   "metadata": {},
   "outputs": [],
   "source": [
    "def aggloClusterAverage(numberOfClusters, numTS = 157, verbose = False, measurement = 'shape', distancePriority = 'min'):\n",
    "    \"\"\"\n",
    "    Performs agglomerative hierarchial clustering - distance between clusters is calculated\n",
    "    as the average distance of every combination of time series within the clusters. I.E.\n",
    "    given cluster (A,B) and cluster (C,D), the distance between them is calculated as:\n",
    "    \n",
    "            (dist(A,C) + dist(A,D) + dist(B,C) + dist(B,D)) / (2 * 2)\n",
    "            \n",
    "    Parameters:\n",
    "        numberOfClusters: the number of clusters to generate\n",
    "        numTS: the number of time series to be clustered\n",
    "        verbose: Boolean set to whether the algorithm prints the clusters as they are formed\n",
    "        measurement: Specifies wich distance matrix to use based on the distance measurement\n",
    "    \"\"\"\n",
    "    \n",
    "    representativeList = [x for x in range(numTS)]\n",
    "    distanceList = [0 for x in range(numTS)]\n",
    "    lengthsList = [1 for x in range(numTS)]\n",
    "    clusterVariances = []\n",
    "    silhouetteCoefficients = []\n",
    "    \n",
    "    # begins with each time series in their own cluster, and combining until\n",
    "    # the desired number of clusters is reached\n",
    "    while len(representativeList) != numberOfClusters:\n",
    "        if distancePriority == 'min':\n",
    "            optDist = math.inf\n",
    "        else:\n",
    "            optDist = -math.inf\n",
    "        optDisti = -1\n",
    "        optDistj = -1\n",
    "        for i in range(len(representativeList)):\n",
    "            for j in range(i + 1, len(representativeList)):\n",
    "                clusterStringi = str(representativeList[i])\n",
    "                clusterStringj = str(representativeList[j])\n",
    "                \n",
    "                # Calculating distance between two clusters using defined measurement method\n",
    "                distance = betweenClusterDist(clusterStringi, clusterStringj, measurement = measurement)\n",
    "                \n",
    "                # Keeping track of min/max distance of examined cluster combos\n",
    "                if (distancePriority == 'min' and distance < optDist) or (distancePriority != 'min' and distance > optDist): \n",
    "                    optDist = distance\n",
    "                    optDisti = i; optDistj = j\n",
    "        \n",
    "        if verbose:\n",
    "            #print((representativeList[optDisti], representativeList[optDistj]))\n",
    "            print(\"{} Clusters distance: {}\".format(len(representativeList), optDist))\n",
    "        \n",
    "        # Messy but it works and speed is not an issue. Each list is parallel to the other\n",
    "        # --------------------------------------------------------------------------------\n",
    "        \n",
    "        # RepresentativeList is used to keep track of the actual cluster strings\n",
    "        representativeList.append((representativeList[optDisti], representativeList[optDistj]))\n",
    "        representativeList.pop(optDistj)\n",
    "        representativeList.pop(optDisti)\n",
    "        \n",
    "        # lengthsList is used to keep track of how many time series exist in\n",
    "        # a cluster such that the average error can be weighted accordingly\n",
    "        lengthsList.append(lengthsList[optDistj] + lengthsList[optDisti])\n",
    "        lengthsList.pop(optDistj)\n",
    "        lengthsList.pop(optDisti)\n",
    "        \n",
    "        # distanceList is used to keep track of the within-cluster error\n",
    "        distanceList.append(optDist)\n",
    "        distanceList.pop(optDistj)\n",
    "        distanceList.pop(optDisti)\n",
    "        \n",
    "        # Using each of the three lists to calculate the average error of all clusters,\n",
    "        # weighted for how many time series are within each cluster. I.E. given two clusters,\n",
    "        # A with 15 time series and error = 20, and B with 5 time series and error = 0, the \n",
    "        # average error is 15 because (20 * 0.75) + (0 * 0.25) = 15\n",
    "        clusterVariance = 0\n",
    "        for i in range(len(lengthsList)):\n",
    "            proportionTotalTS = lengthsList[i] / numTS\n",
    "            clusterVariance += proportionTotalTS * distanceList[i]\n",
    "        \n",
    "        # Used for plotting the change in error as the number of clusters changes\n",
    "        clusterVariances.insert(0, clusterVariance)\n",
    "        \n",
    "        # Calculating Silhoette Coefficient for the current clustering\n",
    "        if len(representativeList) == 1:\n",
    "            silhouetteCoefficients.insert(0, 0)\n",
    "        else:\n",
    "            silhouetteCoefficients.insert(0, silhouetteCoefficient(representativeList, method = measurement))\n",
    "        \n",
    "    return representativeList, distanceList, clusterVariances, silhouetteCoefficients"
   ]
  },
  {
   "cell_type": "code",
   "execution_count": 4,
   "id": "3a3aa107-a8e9-4fe3-96bc-095ed618d846",
   "metadata": {},
   "outputs": [],
   "source": [
    "@lru_cache(maxsize=1024)\n",
    "def betweenClusterDist(clusterStringi, clusterStringj, measurement = 'raw'):\n",
    "    \"\"\"\n",
    "    Calculates the distance between two provided clusters using absolute linkage\n",
    "    and the sliding window euclidean measurement.\n",
    "    Parameters:\n",
    "    \n",
    "        clusterStringi: string representation of the first cluster\n",
    "        clusterStringj:                              second\n",
    "            \n",
    "            ex) (1,(2,3),((4,5),6))\n",
    "            \n",
    "        measurement: Specifies which form of time series to cluster on\n",
    "            'shape'     : normalizes every time series locally \n",
    "                          (each time series has range of 0 to 1) \n",
    "                          so the actual number of cases is not \n",
    "                          considered, just the trends.\n",
    "            'raw'       : uses the raw data, relying entirely on the actual\n",
    "                          number of cases divided by population\n",
    "            'shape&raw' : uses both the raw values and shape to assess distance.\n",
    "                          raw data is normalized on entire dataset, to which that\n",
    "                          value and the 'shape' value are averaged.\n",
    "            'rank'      : uses the ranked list\n",
    "    \"\"\"\n",
    "    clusterListi = clusterStringToIndexList(clusterStringi)\n",
    "    clusterListj = clusterStringToIndexList(clusterStringj)\n",
    "    \n",
    "    totalDist = 0\n",
    "    for itemi in clusterListi:\n",
    "        for itemj in clusterListj:\n",
    "            if measurement == 'shape':\n",
    "                totalDist += distMatrixShape[itemi][itemj]\n",
    "            elif measurement == 'shape&raw':\n",
    "                totalDist += distMatrixSizeShape[itemi][itemj]\n",
    "            elif measurement == 'raw':\n",
    "                totalDist += distMatrixRaw[itemi][itemj]\n",
    "            else:\n",
    "                totalDist += distMatrixRanked[itemi][itemj]\n",
    "            \n",
    "    distance = totalDist / (len(clusterListi) * len(clusterListj))\n",
    "    return distance"
   ]
  },
  {
   "cell_type": "code",
   "execution_count": 5,
   "id": "3f81c04a-af05-4394-a4d6-577d037bb857",
   "metadata": {},
   "outputs": [],
   "source": [
    "# Importing Distance Matrices\n",
    "distMatrixRawDF = pd.read_csv('Data//distance_matrix.csv', index_col=0)\n",
    "distMatrixRaw = distMatrixRawDF.values.tolist()\n",
    "\n",
    "distMatrixShapeDF = pd.read_csv('Data//distance_matrix_normalized.csv', index_col=0)\n",
    "distMatrixShape = distMatrixShapeDF.values.tolist()\n",
    "\n",
    "distMatrixRankedDF = pd.read_csv('Data//distance_matrix_ranked_normalized.csv', index_col=0)\n",
    "distMatrixRanked = distMatrixRankedDF.values.tolist()\n",
    "\n",
    "distMatrixMinRankedDF = pd.read_csv('Data//distance_matrix_min_ranked_normalized.csv', index_col=0)\n",
    "distMatrixMinRankedDF = distMatrixMinRankedDF.drop(['Tanzania', 'Tajikistan'], axis = 0)\n",
    "distMatrixMinRankedDF = distMatrixMinRankedDF.drop(['Tanzania', 'Tajikistan'], axis = 1)\n",
    "distMatrixMinRanked = distMatrixMinRankedDF.values.tolist()\n",
    "\n",
    "distMatrixNormalizedGlobalDF = pd.read_csv('Data//distance_matrix_normalized_global.csv', index_col=0)\n",
    "distMatrixNormalizedGlobal = distMatrixNormalizedGlobalDF.values.tolist()\n",
    "distMatrixSizeShape = [[0 for y in range(len(distMatrixRaw))] for x in range(len(distMatrixRaw))]\n",
    "for i in range(len(distMatrixRaw)):\n",
    "    for j in range(len(distMatrixRaw)):\n",
    "        distMatrixSizeShape[i][j] = (distMatrixNormalizedGlobal[i][j] + distMatrixShape[i][j]) / 2"
   ]
  },
  {
   "cell_type": "code",
   "execution_count": 6,
   "id": "82743a95-0d79-497b-b956-cc17f10f5e5e",
   "metadata": {},
   "outputs": [],
   "source": [
    "def listClusterCountries(clusters, countries):\n",
    "    \"\"\"\n",
    "    Provided a cluster string, this method prints the set of countries contained within each cluster.\n",
    "    Parameters:\n",
    "        clusterString: cluster results. list -> (each element is a single cluster)\n",
    "        countries: list of countries that maps a provided index from the\n",
    "                   cluster string to the name of the country.\n",
    "    \"\"\"\n",
    "    for i in range(len(clusters)):\n",
    "        print(\"Cluster {}:\\n---------\\n\".format(i + 1))\n",
    "        for country in clusterStringToIndexList(str(clusters[i])):\n",
    "            print(countries[country], end = ', ')\n",
    "        print('\\n')"
   ]
  },
  {
   "cell_type": "markdown",
   "id": "f460e682-8eb6-4e6b-b84e-7dbfc01c6bff",
   "metadata": {},
   "source": [
    "**Silhouette Coefficient:**"
   ]
  },
  {
   "cell_type": "code",
   "execution_count": 7,
   "id": "d6b7b92b-171d-42b4-8b01-b366d930f9ae",
   "metadata": {},
   "outputs": [],
   "source": [
    "def singleSilhouetteScore(i, intraCluster, interClusters, dm):\n",
    "    \"\"\"\n",
    "    Calculates the silhouette score for a single sample using the formula:\n",
    "    \n",
    "                            (b-a) / max(a,b)\n",
    "                            \n",
    "    Where:\n",
    "        a = the average intra-cluster distance for i\n",
    "        b = the average inter-cluster distance between i and the cluster\n",
    "            that i is closest to\n",
    "    \n",
    "    Parameters:\n",
    "        i = the sample for which a score is being generated\n",
    "        intraCluste = the cluster of samples that exist in the same cluster as i\n",
    "        interCluster = the list of clusters that i does not belong to\n",
    "        dm = the distance matrix used\n",
    "    \"\"\"\n",
    "    \n",
    "    # Checking if i belongs to a solo cluster\n",
    "    if type(intraCluster) == int:\n",
    "        return 0\n",
    "    \n",
    "    a = intraClusterDist(i, intraCluster, dm)\n",
    "    b = interClusterDist(i, interClusters, dm)\n",
    "    \n",
    "    return (b-a) / max(a,b)\n",
    "        \n",
    "def intraClusterDist(i, cluster, dm):\n",
    "    totalDist = 0\n",
    "    clusterList = clusterStringToIndexList(str(cluster))\n",
    "    for sample in clusterList:\n",
    "        if sample != i:\n",
    "            totalDist += dm[i][sample]\n",
    "    return totalDist / (len(clusterList)-1)\n",
    "\n",
    "def interClusterDist(i, clusters, dm):\n",
    "    minDist = math.inf\n",
    "    for cluster in clusters:\n",
    "        totalDist = 0\n",
    "        clusterList = clusterStringToIndexList(str(cluster))\n",
    "        for sample in clusterList:\n",
    "            totalDist += dm[i][sample]\n",
    "        avgDist = totalDist / len(clusterList)\n",
    "        if avgDist < minDist:\n",
    "            minDist = avgDist\n",
    "    return minDist"
   ]
  },
  {
   "cell_type": "code",
   "execution_count": 8,
   "id": "4a53dd86-f739-4893-872b-8ff36dcbd961",
   "metadata": {},
   "outputs": [],
   "source": [
    "def clusterSilhouetteScore(clustering, cluster, dm):\n",
    "    \"\"\"\n",
    "    Calculates silhoette score for the given cluster as the average silhouette score\n",
    "    of all samples within the cluster\n",
    "    \n",
    "    Parameters:\n",
    "        clustering: cluster generated by our agglomerative\n",
    "                    hierarchical clustering method\n",
    "        cluster:    individual cluster that the score is to\n",
    "                    be generated for\n",
    "        dm:         The distance matrix used\n",
    "    \"\"\"\n",
    "    \n",
    "    totalSS = 0\n",
    "    clusterSamples = clusterStringToIndexList(str(cluster))\n",
    "    for sample in clusterSamples:\n",
    "        totalSS += singleSilhouetteScore(sample, cluster, clustering, dm)\n",
    "    return totalSS / len(clusterSamples)"
   ]
  },
  {
   "cell_type": "code",
   "execution_count": 9,
   "id": "591f628e-031b-4c7e-abc5-70b7a94231f4",
   "metadata": {},
   "outputs": [],
   "source": [
    "def silhouetteCoefficient(clustering, method = 'raw'):\n",
    "    \"\"\"\n",
    "    Calculates the silhouette score for the entire clustering.\n",
    "    \n",
    "    Parameters:\n",
    "        clustering: cluster generated by our agglomerative\n",
    "                    hierarchical clustering method\n",
    "        measurement: Specifies which form of time series to cluster on\n",
    "                'shape'     : normalizes every time series locally \n",
    "                              (each time series has range of 0 to 1) \n",
    "                              so the actual number of cases is not \n",
    "                              considered, just the trends.\n",
    "                'raw'       : uses the raw data, relying entirely on the actual\n",
    "                              number of cases divided by population\n",
    "                'shape&raw' : uses both the raw values and shape to assess distance.\n",
    "                              raw data is normalized on entire dataset, to which that\n",
    "                              value and the 'shape' value are averaged.\n",
    "                'rank'      : uses depth ranked values\n",
    "                'min'       : uses min ranked values\n",
    "    \"\"\"\n",
    "    \n",
    "    # Selecting distance matrix to use\n",
    "    if method == 'raw':\n",
    "        dm = distMatrixRaw\n",
    "    elif method == 'shape':\n",
    "        dm = distMatrixShape\n",
    "    elif method == 'shape&raw':\n",
    "        dm = distMatrixSizeShape\n",
    "    elif method == 'rank':\n",
    "        dm = distMatrixRanked\n",
    "    else:\n",
    "        dm = distMatrixMinRanked\n",
    "        \n",
    "    maxSS = -math.inf\n",
    "    for cluster in clustering:\n",
    "        clusteringCopy = deepcopy(clustering)\n",
    "        clusteringCopy.remove(cluster)\n",
    "        clusterSS = clusterSilhouetteScore(clusteringCopy, cluster, dm)\n",
    "        if clusterSS > maxSS:\n",
    "            maxSS = clusterSS\n",
    "            \n",
    "    return maxSS "
   ]
  },
  {
   "cell_type": "markdown",
   "id": "a18a3afc-3169-4571-9f0a-8d7827ddb9c9",
   "metadata": {},
   "source": [
    "### Results"
   ]
  },
  {
   "cell_type": "code",
   "execution_count": 10,
   "id": "676a4c25-f148-4409-ae61-145498cfd254",
   "metadata": {},
   "outputs": [],
   "source": [
    "from scipy.cluster.hierarchy import dendrogram, linkage\n",
    "from scipy.spatial.distance import squareform\n",
    "import matplotlib.pyplot as plt"
   ]
  },
  {
   "cell_type": "code",
   "execution_count": 11,
   "id": "94471b3f-cade-4e7e-a186-9870aa04bd7f",
   "metadata": {},
   "outputs": [],
   "source": [
    "def normalizeList(l):\n",
    "    maxVal = max(l)\n",
    "    minVal = min(l)\n",
    "    for i in range(len(l)):\n",
    "        l[i] = (l[i] - minVal) / (maxVal - minVal)\n",
    "    return l"
   ]
  },
  {
   "cell_type": "code",
   "execution_count": 12,
   "id": "441807c3-7d3e-4c6b-af35-310fd03b4d1c",
   "metadata": {},
   "outputs": [
    {
     "data": {
      "text/plain": [
       "'Tajikistan'"
      ]
     },
     "execution_count": 12,
     "metadata": {},
     "output_type": "execute_result"
    }
   ],
   "source": [
    "countries = list(distMatrixRawDF.columns)\n",
    "\n",
    "countriesMinRank = [country for country in countries]\n",
    "countriesMinRank.pop(countriesMinRank.index('Tanzania'))\n",
    "countriesMinRank.pop(countriesMinRank.index('Tajikistan'))"
   ]
  },
  {
   "cell_type": "code",
   "execution_count": 126,
   "id": "f28c9ac9-2d4d-4f6d-839d-0850d638791b",
   "metadata": {},
   "outputs": [],
   "source": [
    "betweenClusterDist.cache_clear()\n",
    "\n",
    "#Specify the desired number of clusters as the first parameter\n",
    "clusterRaw, distancesRaw, clusterVariancesRaw, silhouetteCoefficientsRaw = aggloClusterAverage(1, measurement = 'raw')"
   ]
  },
  {
   "cell_type": "code",
   "execution_count": 160,
   "id": "a4380b3a-f122-4cfb-bf20-026552a95845",
   "metadata": {},
   "outputs": [
    {
     "data": {
      "image/png": "[encoded data removed]",
      "text/plain": [
       "<Figure size 432x288 with 1 Axes>"
      ]
     },
     "metadata": {
      "needs_background": "light"
     },
     "output_type": "display_data"
    }
   ],
   "source": [
    "plt.plot([x for x in range(len(silhouetteCoefficientsRaw))], normalizeList(silhouetteCoefficientsRaw.copy()))\n",
    "plt.plot([x for x in range(len(clusterVariancesRaw))], normalizeList(clusterVariancesRaw.copy()))\n",
    "plt.plot([45,45],[0,1],color='red',alpha = 0.5)\n",
    "plt.title(\"Average linkage and silhoette coefficient by cluster count\\n(Raw)\")\n",
    "plt.xlabel(\"Cluster count\")\n",
    "plt.ylabel(\"Normalized average linkage\\nand silhoette coefficient\")\n",
    "plt.legend(['Silhouette Coefficient','Average Linkage','Elbow Point'], loc = 'upper right')\n",
    "plt.savefig('raw.png')"
   ]
  },
  {
   "cell_type": "code",
   "execution_count": 128,
   "id": "73dfa1bc-f3b8-447d-adaa-5b0a66786769",
   "metadata": {},
   "outputs": [],
   "source": [
    "betweenClusterDist.cache_clear()\n",
    "\n",
    "#Specify the desired number of clusters as the first parameter\n",
    "clusterShape, distancesShape, clusterVariancesShape, silhouetteCoefficientsShape = aggloClusterAverage(1, measurement = 'shape')"
   ]
  },
  {
   "cell_type": "code",
   "execution_count": 161,
   "id": "d9a61241-dca8-4000-adfb-208925cebe91",
   "metadata": {},
   "outputs": [
    {
     "data": {
      "image/png": "[encoded data removed]",
      "text/plain": [
       "<Figure size 432x288 with 1 Axes>"
      ]
     },
     "metadata": {
      "needs_background": "light"
     },
     "output_type": "display_data"
    }
   ],
   "source": [
    "plt.plot([x for x in range(len(silhouetteCoefficientsShape))], normalizeList(silhouetteCoefficientsShape.copy()))\n",
    "plt.plot([x for x in range(len(clusterVariancesShape))], normalizeList(clusterVariancesShape.copy()))\n",
    "plt.plot([19,19],[0,1],color='red',alpha = 0.5)\n",
    "plt.title(\"Average linkage and silhoette coefficient by cluster count\\n(Shape)\")\n",
    "plt.xlabel(\"Cluster count\")\n",
    "plt.ylabel(\"Normalized average linkage\\nand silhoette coefficient\")\n",
    "plt.legend(['Silhouette Coefficient','Average Linkage','Elbow Point'], loc = 'upper right')\n",
    "plt.savefig('shape.png')"
   ]
  },
  {
   "cell_type": "code",
   "execution_count": 130,
   "id": "9dcd8a4a-81ce-4cf8-bf83-80c5504dc294",
   "metadata": {},
   "outputs": [],
   "source": [
    "betweenClusterDist.cache_clear()\n",
    "\n",
    "#Specify the desired number of clusters as the first parameter\n",
    "clusterShapeRaw, distancesShapeRaw, clusterVariancesShapeRaw, silhouetteCoefficientsShapeRaw = aggloClusterAverage(1, measurement = 'shape&raw')"
   ]
  },
  {
   "cell_type": "code",
   "execution_count": 131,
   "id": "cb0c43a0-eadb-4857-bf84-fec96e8b9c7e",
   "metadata": {},
   "outputs": [
    {
     "data": {
      "image/png": "[encoded data removed]",
      "text/plain": [
       "<Figure size 432x288 with 1 Axes>"
      ]
     },
     "metadata": {
      "needs_background": "light"
     },
     "output_type": "display_data"
    }
   ],
   "source": [
    "plt.plot([x + 1 for x in range(len(silhouetteCoefficientsShapeRaw))], normalizeList(silhouetteCoefficientsShapeRaw.copy()))\n",
    "plt.plot([x + 1 for x in range(len(clusterVariancesShapeRaw))], normalizeList(clusterVariancesShapeRaw.copy()))\n",
    "plt.title(\"Average linkage and silhoette coefficient by cluster count\\n(Shape & Raw)\")\n",
    "plt.xlabel(\"Cluster count\")\n",
    "plt.ylabel(\"Normalized average linkage and silhoette coefficient\")\n",
    "plt.show()"
   ]
  },
  {
   "cell_type": "code",
   "execution_count": 132,
   "id": "46a6096e-7b2c-4d45-a481-2e2370b1fc0a",
   "metadata": {},
   "outputs": [],
   "source": [
    "betweenClusterDist.cache_clear()\n",
    "\n",
    "#Specify the desired number of clusters as the first parameter\n",
    "clusterShapeRanked, distancesShapeRanked, clusterVariancesShapeRanked, silhouetteCoefficientsShapeRanked = aggloClusterAverage(1, measurement = 'rank')"
   ]
  },
  {
   "cell_type": "code",
   "execution_count": 162,
   "id": "738ab029-ddf4-4d4a-ab4d-6cde861eeee3",
   "metadata": {},
   "outputs": [
    {
     "data": {
      "image/png": "[encoded data removed]",
      "text/plain": [
       "<Figure size 432x288 with 1 Axes>"
      ]
     },
     "metadata": {
      "needs_background": "light"
     },
     "output_type": "display_data"
    }
   ],
   "source": [
    "plt.plot([x + 1 for x in range(len(silhouetteCoefficientsShapeRanked))], normalizeList(silhouetteCoefficientsShapeRanked.copy()))\n",
    "plt.plot([x + 1 for x in range(len(clusterVariancesShapeRanked))], normalizeList(clusterVariancesShapeRanked.copy()))\n",
    "plt.plot([9,9],[0,1],color='red',alpha = 0.5)\n",
    "plt.title(\"Average linkage and silhoette coefficient by cluster count\\n(Ranked)\")\n",
    "plt.xlabel(\"Cluster count\")\n",
    "plt.ylabel(\"Normalized average linkage\\nand silhoette coefficient\")\n",
    "plt.legend(['Silhouette Coefficient','Average Linkage','Elbow Point'], loc = 'upper right')\n",
    "plt.savefig('rank.png')"
   ]
  },
  {
   "cell_type": "code",
   "execution_count": 134,
   "id": "84b32b61-8644-48ed-9f67-65bf1e8e1118",
   "metadata": {},
   "outputs": [],
   "source": [
    "betweenClusterDist.cache_clear()\n",
    "\n",
    "#Specify the desired number of clusters as the first parameter\n",
    "clusterMinRanked, distancesMinRanked, clusterVariancesMinRanked, silhouetteCoefficientsMinRanked = aggloClusterAverage(1, numTS = 155, measurement = 'min')"
   ]
  },
  {
   "cell_type": "code",
   "execution_count": 135,
   "id": "aaeef8ea-c67b-42d6-8ae8-debe57822bf7",
   "metadata": {},
   "outputs": [
    {
     "data": {
      "image/png": "[encoded data removed]",
      "text/plain": [
       "<Figure size 432x288 with 1 Axes>"
      ]
     },
     "metadata": {
      "needs_background": "light"
     },
     "output_type": "display_data"
    }
   ],
   "source": [
    "plt.plot([x + 1 for x in range(len(silhouetteCoefficientsMinRanked))], normalizeList(silhouetteCoefficientsMinRanked.copy()))\n",
    "plt.plot([x + 1 for x in range(len(clusterVariancesMinRanked))], normalizeList(clusterVariancesMinRanked.copy()))\n",
    "plt.title(\"Average linkage and silhoette coefficient by cluster count\\n(Min Ranked)\")\n",
    "plt.xlabel(\"Cluster count\")\n",
    "plt.ylabel(\"Normalized average linkage and silhoette coefficient\")\n",
    "plt.show()"
   ]
  },
  {
   "cell_type": "code",
   "execution_count": 23,
   "id": "460c9e21-e5ba-4973-b53f-f340f725a63b",
   "metadata": {},
   "outputs": [
    {
     "data": {
      "text/plain": [
       "Text(0.5, 1.0, 'Non-Normalized Time Series Dendrogram')"
      ]
     },
     "execution_count": 23,
     "metadata": {},
     "output_type": "execute_result"
    },
    {
     "data": {
      "image/png": "[encoded data removed]",
      "text/plain": [
       "<Figure size 2560x1920 with 1 Axes>"
      ]
     },
     "metadata": {
      "needs_background": "light"
     },
     "output_type": "display_data"
    }
   ],
   "source": [
    "plt.figure(figsize=(32, 24), dpi=80)\n",
    "dists = squareform(distMatrixRanked)\n",
    "linkage_matrix = linkage(dists, \"average\")\n",
    "dendrogram(linkage_matrix, labels=countries, color_threshold=0.22)\n",
    "plt.title(\"Non-Normalized Time Series Dendrogram\")"
   ]
  },
  {
   "cell_type": "code",
   "execution_count": 25,
   "id": "12b9d312-4f11-4d08-8bae-6ec300b41c70",
   "metadata": {},
   "outputs": [],
   "source": [
    "def optimalCluster(SCList, ALList, normalize = True, s = 1.0):\n",
    "    \"\"\"\n",
    "    Finds the optimal cluster count provided the silhouette coefficients and average linkage\n",
    "    \n",
    "    Parameters:\n",
    "        SCList: list of silhouette coefficients\n",
    "        ALList: list of average linkage scores\n",
    "    \"\"\"\n",
    "    \n",
    "    maxScore = -math.inf\n",
    "    maxScoreIndex = -1\n",
    "    \n",
    "    if normalize:\n",
    "        ALL = normalizeList(ALList.copy())\n",
    "        SCL = normalizeList(SCList.copy())\n",
    "    else:\n",
    "        ALL = ALList.copy()\n",
    "        SCL = SCList.copy()\n",
    "    \n",
    "    kneedle = kneed.KneeLocator([x + 1 for x in range(len(ALL))], ALL, S=s, curve=\"convex\", direction=\"decreasing\")\n",
    "    knee = kneedle.knee\n",
    "    print(\"Knee: {}\".format(knee))\n",
    "    \n",
    "    for i in range(1, len(SCL)):\n",
    "        score = abs(SCL[i] - ALL[i]) * (((len(SCL) - abs(i - knee + 1)) / len(SCL))**2)\n",
    "        if score > maxScore:\n",
    "            maxScore = score\n",
    "            maxScoreIndex = i + 1\n",
    "            \n",
    "    return maxScoreIndex"
   ]
  },
  {
   "cell_type": "code",
   "execution_count": 157,
   "id": "cac13784-c69c-4fa0-a626-1267b48f801a",
   "metadata": {},
   "outputs": [
    {
     "name": "stdout",
     "output_type": "stream",
     "text": [
      "Knee: 45\n"
     ]
    },
    {
     "data": {
      "text/plain": [
       "45"
      ]
     },
     "execution_count": 157,
     "metadata": {},
     "output_type": "execute_result"
    }
   ],
   "source": [
    "optimalCluster(silhouetteCoefficientsShapeRaw, clusterVariancesShapeRaw, s = 1)"
   ]
  },
  {
   "cell_type": "code",
   "execution_count": 148,
   "id": "d55246eb-3308-45e5-87b5-0ead2fbc1dea",
   "metadata": {},
   "outputs": [
    {
     "name": "stdout",
     "output_type": "stream",
     "text": [
      "Knee: 11\n"
     ]
    },
    {
     "data": {
      "text/plain": [
       "2"
      ]
     },
     "execution_count": 148,
     "metadata": {},
     "output_type": "execute_result"
    }
   ],
   "source": [
    "optimalCluster(silhouetteCoefficientsShape, clusterVariancesShape, s = 0.5)"
   ]
  },
  {
   "cell_type": "code",
   "execution_count": 34,
   "id": "8c920a71-0bb4-4213-8afe-ecb3511acbc1",
   "metadata": {},
   "outputs": [
    {
     "name": "stdout",
     "output_type": "stream",
     "text": [
      "Knee: 31\n"
     ]
    },
    {
     "data": {
      "text/plain": [
       "58"
      ]
     },
     "execution_count": 34,
     "metadata": {},
     "output_type": "execute_result"
    }
   ],
   "source": [
    "optimalCluster(silhouetteCoefficientsRaw, clusterVariancesRaw, s = 0.5)"
   ]
  },
  {
   "cell_type": "code",
   "execution_count": 138,
   "id": "4ad5ef41-6bf7-4de0-bc37-d6c524a0f988",
   "metadata": {},
   "outputs": [
    {
     "name": "stdout",
     "output_type": "stream",
     "text": [
      "Knee: 9\n"
     ]
    },
    {
     "data": {
      "text/plain": [
       "15"
      ]
     },
     "execution_count": 138,
     "metadata": {},
     "output_type": "execute_result"
    }
   ],
   "source": [
    "optimalCluster(silhouetteCoefficientsShapeRanked, clusterVariancesShapeRanked, s = 0.5)"
   ]
  },
  {
   "cell_type": "code",
   "execution_count": 36,
   "id": "23d25195-5773-4e62-87cd-1bd9bb0b8f4d",
   "metadata": {},
   "outputs": [
    {
     "name": "stdout",
     "output_type": "stream",
     "text": [
      "Knee: 19\n"
     ]
    },
    {
     "data": {
      "text/plain": [
       "24"
      ]
     },
     "execution_count": 36,
     "metadata": {},
     "output_type": "execute_result"
    }
   ],
   "source": [
    "optimalCluster(silhouetteCoefficientsMinRanked, clusterVariancesMinRanked, s = 0.5)"
   ]
  },
  {
   "cell_type": "code",
   "execution_count": 37,
   "id": "e685c15b-5231-433d-8c41-7f04e64c5aa1",
   "metadata": {},
   "outputs": [],
   "source": [
    "def plotCluster(TSL, clusterString, yMin = -3, yMax = 3):\n",
    "    group = clusterStringToIndexList(str(clusterString))\n",
    "    for index in group:\n",
    "        plt.plot([x for x in range(len(TSL[index]))], TSL[index], color = 'silver', alpha = 0.4)\n",
    "    avgTS = averageTS([TSL[x] for x in group])\n",
    "    plt.plot([x for x in range(len(avgTS))], avgTS, color = 'violet')\n",
    "    plt.ylim(yMin, yMax)\n",
    "    plt.show()\n",
    "    \n",
    "def averageTS(TSList):\n",
    "    newTS = []\n",
    "    for i in range(len(TSList[0])):\n",
    "        newTS.append(sum([x[i] for x in TSList]) / len(TSList))\n",
    "    return newTS"
   ]
  },
  {
   "cell_type": "code",
   "execution_count": 38,
   "id": "1897b4f8-6121-4629-b24b-7204bf755b7c",
   "metadata": {},
   "outputs": [],
   "source": [
    "rankedNewCaseTimeSeries = []\n",
    "with open('Data//denseRankedTS.txt', 'r') as fp:\n",
    "    for line in fp:\n",
    "        rankedNewCaseTimeSeries.append(ast.literal_eval(line))"
   ]
  },
  {
   "cell_type": "code",
   "execution_count": 58,
   "id": "729522ca-b863-4863-83fe-47bb9d20b998",
   "metadata": {},
   "outputs": [],
   "source": [
    "betweenClusterDist.cache_clear()\n",
    "\n",
    "#Specify the desired number of clusters as the first parameter\n",
    "clusterShapeRanked, distancesShapeRanked, clusterVariancesShapeRanked, silhouetteCoefficientsShapeRanked = aggloClusterAverage(15, measurement = 'rank')"
   ]
  },
  {
   "cell_type": "code",
   "execution_count": 40,
   "id": "92972ca2-cbce-4c9a-9764-fc8e3c76095f",
   "metadata": {},
   "outputs": [
    {
     "data": {
      "image/png": "[encoded data removed]",
      "text/plain": [
       "<Figure size 432x288 with 1 Axes>"
      ]
     },
     "metadata": {
      "needs_background": "light"
     },
     "output_type": "display_data"
    }
   ],
   "source": [
    "plotCluster(rankedNewCaseTimeSeries, clusterShapeRanked, yMin = 0, yMax = 900)"
   ]
  },
  {
   "cell_type": "code",
   "execution_count": 59,
   "id": "39df87e5-6f1c-4c49-a134-997c1f573f4a",
   "metadata": {},
   "outputs": [
    {
     "name": "stdout",
     "output_type": "stream",
     "text": [
      "Cluster 1:\n",
      "---------\n",
      "\n",
      "Egypt, \n",
      "\n",
      "Cluster 2:\n",
      "---------\n",
      "\n",
      "Bolivia, Dominican Republic, \n",
      "\n",
      "Cluster 3:\n",
      "---------\n",
      "\n",
      "Ethiopia, Kenya, \n",
      "\n",
      "Cluster 4:\n",
      "---------\n",
      "\n",
      "Hong Kong, Sudan, Burkina Faso, Mali, Papua New Guinea, Taiwan, Laos, Mauritius, New Zealand, Madagascar, Lesotho, Botswana, Burundi, Djibouti, South Sudan, Cameroon, Gabon, Somalia, Yemen, Timor, Tajikistan, Congo, Eritrea, Chad, Niger, Gambia, Guinea-Bissau, Benin, Equatorial Guinea, Central African Republic, Nicaragua, Tanzania, Liberia, Sierra Leone, \n",
      "\n",
      "Cluster 5:\n",
      "---------\n",
      "\n",
      "Jamaica, Libya, Sweden, Kosovo, Palestine, Albania, Bosnia and Herzegovina, North Macedonia, Bulgaria, Serbia, Moldova, Romania, Lebanon, United States, Armenia, Azerbaijan, Syria, Ukraine, \n",
      "\n",
      "Cluster 6:\n",
      "---------\n",
      "\n",
      "Afghanistan, Bangladesh, Pakistan, \n",
      "\n",
      "Cluster 7:\n",
      "---------\n",
      "\n",
      "Turkey, Georgia, Belarus, Russia, South Korea, Norway, Finland, Greece, Portugal, Ireland, United Kingdom, Canada, France, Italy, Czechia, Slovakia, Poland, Hungary, Jordan, Estonia, Latvia, Denmark, Netherlands, Belgium, Austria, Germany, Switzerland, Croatia, Lithuania, Slovenia, Spain, Uruguay, \n",
      "\n",
      "Cluster 8:\n",
      "---------\n",
      "\n",
      "China, Australia, Singapore, \n",
      "\n",
      "Cluster 9:\n",
      "---------\n",
      "\n",
      "Panama, South Africa, Algeria, Kyrgyzstan, Mexico, Morocco, \n",
      "\n",
      "Cluster 10:\n",
      "---------\n",
      "\n",
      "El Salvador, Honduras, Myanmar, Costa Rica, Tunisia, Angola, Uganda, \n",
      "\n",
      "Cluster 11:\n",
      "---------\n",
      "\n",
      "Israel, Japan, \n",
      "\n",
      "Cluster 12:\n",
      "---------\n",
      "\n",
      "Malaysia, Thailand, Cuba, Sri Lanka, Cambodia, Mongolia, Trinidad and Tobago, Vietnam, \n",
      "\n",
      "Cluster 13:\n",
      "---------\n",
      "\n",
      "Bahrain, Chile, Brazil, Ecuador, United Arab Emirates, Paraguay, Argentina, Colombia, Peru, Qatar, Saudi Arabia, Kuwait, Oman, \n",
      "\n",
      "Cluster 14:\n",
      "---------\n",
      "\n",
      "Indonesia, Iran, Nepal, India, Iraq, Guatemala, Uzbekistan, Kazakhstan, Philippines, Venezuela, \n",
      "\n",
      "Cluster 15:\n",
      "---------\n",
      "\n",
      "Nigeria, Zimbabwe, Zambia, Mozambique, Namibia, Rwanda, Guinea, Senegal, Cote d'Ivoire, Ghana, Togo, Eswatini, Malawi, Haiti, Democratic Republic of Congo, Mauritania, \n",
      "\n"
     ]
    }
   ],
   "source": [
    "listClusterCountries(clusterShapeRanked, countries)"
   ]
  },
  {
   "cell_type": "markdown",
   "id": "2661dc67-4eff-439c-80f8-a61574603656",
   "metadata": {},
   "source": [
    "# Cluster Regressions"
   ]
  },
  {
   "cell_type": "code",
   "execution_count": 60,
   "id": "412c4083-e910-436b-94e1-e83e30b79e1c",
   "metadata": {},
   "outputs": [],
   "source": [
    "gdpDF = pd.read_csv('Data//gdpDF.csv', index_col=0)\n",
    "gdpList = list(gdpDF.gdp_per_capita)"
   ]
  },
  {
   "cell_type": "code",
   "execution_count": 61,
   "id": "13f93b1c-7ace-47ba-bc4b-1df38b0b95e7",
   "metadata": {},
   "outputs": [],
   "source": [
    "rankClusters = []\n",
    "for cluster in clusterShapeRanked:\n",
    "    rankClusters.append(clusterStringToIndexList(str(cluster)))"
   ]
  },
  {
   "cell_type": "code",
   "execution_count": 62,
   "id": "5b95536f-25f1-4ff7-b252-6b783903d618",
   "metadata": {},
   "outputs": [],
   "source": [
    "faultyDataCountries = [33, 126, 135, 136]\n",
    "\n",
    "gdpClusters = []\n",
    "for cluster in rankClusters:\n",
    "    gdpCluster = []\n",
    "    for country in cluster:\n",
    "        if country not in faultyDataCountries:\n",
    "            gdpCluster.append(gdpList[country])\n",
    "    gdpClusters.append(gdpCluster)"
   ]
  },
  {
   "cell_type": "code",
   "execution_count": 63,
   "id": "c766702c-6daf-4cc7-8114-d345f500fde2",
   "metadata": {},
   "outputs": [],
   "source": [
    "from scipy.stats import ttest_ind, ttest_ind_from_stats\n",
    "from scipy.special import stdtr"
   ]
  },
  {
   "cell_type": "code",
   "execution_count": 64,
   "id": "d6b787dd-56d7-409c-8c6c-aed01a207333",
   "metadata": {},
   "outputs": [
    {
     "name": "stderr",
     "output_type": "stream",
     "text": [
      "C:\\Users\\markr\\Anaconda3\\envs\\myenv\\lib\\site-packages\\numpy\\core\\fromnumeric.py:3702: RuntimeWarning:\n",
      "\n",
      "Degrees of freedom <= 0 for slice\n",
      "\n",
      "C:\\Users\\markr\\Anaconda3\\envs\\myenv\\lib\\site-packages\\numpy\\core\\_methods.py:253: RuntimeWarning:\n",
      "\n",
      "invalid value encountered in double_scalars\n",
      "\n"
     ]
    }
   ],
   "source": [
    "tStatistics = [[0 for x in range(len(rankClusters))] for y in range(len(rankClusters))]\n",
    "pValues = [[0 for x in range(len(rankClusters))] for y in range(len(rankClusters))]\n",
    "\n",
    "for i in range(len(gdpClusters)):\n",
    "    for j in range(i+1, len(gdpClusters)):\n",
    "        t, p = ttest_ind(gdpClusters[i], gdpClusters[j], equal_var=False)\n",
    "        tStatistics[i][j] = t; tStatistics[j][i] = t\n",
    "        pValues[i][j] = p; pValues[j][i] = p"
   ]
  },
  {
   "cell_type": "code",
   "execution_count": 65,
   "id": "9624956c-626b-4aba-9c37-369be3caa3d1",
   "metadata": {},
   "outputs": [
    {
     "data": {
      "text/html": [
       "<div>\n",
       "<style scoped>\n",
       "    .dataframe tbody tr th:only-of-type {\n",
       "        vertical-align: middle;\n",
       "    }\n",
       "\n",
       "    .dataframe tbody tr th {\n",
       "        vertical-align: top;\n",
       "    }\n",
       "\n",
       "    .dataframe thead th {\n",
       "        text-align: right;\n",
       "    }\n",
       "</style>\n",
       "<table border=\"1\" class=\"dataframe\">\n",
       "  <thead>\n",
       "    <tr style=\"text-align: right;\">\n",
       "      <th></th>\n",
       "      <th>0</th>\n",
       "      <th>1</th>\n",
       "      <th>2</th>\n",
       "      <th>3</th>\n",
       "      <th>4</th>\n",
       "      <th>5</th>\n",
       "      <th>6</th>\n",
       "      <th>7</th>\n",
       "      <th>8</th>\n",
       "      <th>9</th>\n",
       "      <th>10</th>\n",
       "      <th>11</th>\n",
       "      <th>12</th>\n",
       "      <th>13</th>\n",
       "      <th>14</th>\n",
       "    </tr>\n",
       "  </thead>\n",
       "  <tbody>\n",
       "    <tr>\n",
       "      <th>0</th>\n",
       "      <td>0.0</td>\n",
       "      <td>NaN</td>\n",
       "      <td>NaN</td>\n",
       "      <td>NaN</td>\n",
       "      <td>NaN</td>\n",
       "      <td>NaN</td>\n",
       "      <td>NaN</td>\n",
       "      <td>NaN</td>\n",
       "      <td>NaN</td>\n",
       "      <td>NaN</td>\n",
       "      <td>NaN</td>\n",
       "      <td>NaN</td>\n",
       "      <td>NaN</td>\n",
       "      <td>NaN</td>\n",
       "      <td>NaN</td>\n",
       "    </tr>\n",
       "    <tr>\n",
       "      <th>1</th>\n",
       "      <td>NaN</td>\n",
       "      <td>0.000000</td>\n",
       "      <td>2.144318</td>\n",
       "      <td>0.777116</td>\n",
       "      <td>-1.184937</td>\n",
       "      <td>1.836601</td>\n",
       "      <td>-5.177299</td>\n",
       "      <td>-1.821591</td>\n",
       "      <td>-0.429791</td>\n",
       "      <td>0.807861</td>\n",
       "      <td>-5.224553</td>\n",
       "      <td>-0.806642</td>\n",
       "      <td>-2.735703</td>\n",
       "      <td>-0.213283</td>\n",
       "      <td>1.916598</td>\n",
       "    </tr>\n",
       "    <tr>\n",
       "      <th>2</th>\n",
       "      <td>NaN</td>\n",
       "      <td>2.144318</td>\n",
       "      <td>0.000000</td>\n",
       "      <td>-2.253477</td>\n",
       "      <td>-4.266405</td>\n",
       "      <td>-0.969708</td>\n",
       "      <td>-12.721789</td>\n",
       "      <td>-2.264503</td>\n",
       "      <td>-3.681102</td>\n",
       "      <td>-2.711342</td>\n",
       "      <td>-11.227286</td>\n",
       "      <td>-3.422008</td>\n",
       "      <td>-3.932411</td>\n",
       "      <td>-4.113105</td>\n",
       "      <td>-1.009330</td>\n",
       "    </tr>\n",
       "    <tr>\n",
       "      <th>3</th>\n",
       "      <td>NaN</td>\n",
       "      <td>0.777116</td>\n",
       "      <td>-2.253477</td>\n",
       "      <td>0.000000</td>\n",
       "      <td>-2.402059</td>\n",
       "      <td>1.677772</td>\n",
       "      <td>-8.389845</td>\n",
       "      <td>-2.011017</td>\n",
       "      <td>-1.570361</td>\n",
       "      <td>-0.001778</td>\n",
       "      <td>-7.950291</td>\n",
       "      <td>-1.827338</td>\n",
       "      <td>-3.283656</td>\n",
       "      <td>-1.438255</td>\n",
       "      <td>1.850559</td>\n",
       "    </tr>\n",
       "    <tr>\n",
       "      <th>4</th>\n",
       "      <td>NaN</td>\n",
       "      <td>-1.184937</td>\n",
       "      <td>-4.266405</td>\n",
       "      <td>-2.402059</td>\n",
       "      <td>0.000000</td>\n",
       "      <td>3.863766</td>\n",
       "      <td>-4.273271</td>\n",
       "      <td>-1.537623</td>\n",
       "      <td>0.924749</td>\n",
       "      <td>2.525960</td>\n",
       "      <td>-4.355425</td>\n",
       "      <td>0.354472</td>\n",
       "      <td>-2.152822</td>\n",
       "      <td>1.281034</td>\n",
       "      <td>4.004322</td>\n",
       "    </tr>\n",
       "    <tr>\n",
       "      <th>5</th>\n",
       "      <td>NaN</td>\n",
       "      <td>1.836601</td>\n",
       "      <td>-0.969708</td>\n",
       "      <td>1.677772</td>\n",
       "      <td>3.863766</td>\n",
       "      <td>0.000000</td>\n",
       "      <td>-11.852996</td>\n",
       "      <td>-2.209611</td>\n",
       "      <td>-3.202088</td>\n",
       "      <td>-1.980546</td>\n",
       "      <td>-10.589458</td>\n",
       "      <td>-3.074177</td>\n",
       "      <td>-3.796742</td>\n",
       "      <td>-3.475145</td>\n",
       "      <td>0.177746</td>\n",
       "    </tr>\n",
       "    <tr>\n",
       "      <th>6</th>\n",
       "      <td>NaN</td>\n",
       "      <td>-5.177299</td>\n",
       "      <td>-12.721789</td>\n",
       "      <td>-8.389845</td>\n",
       "      <td>-4.273271</td>\n",
       "      <td>-11.852996</td>\n",
       "      <td>0.000000</td>\n",
       "      <td>-0.689339</td>\n",
       "      <td>5.863747</td>\n",
       "      <td>9.066121</td>\n",
       "      <td>-0.447696</td>\n",
       "      <td>4.409870</td>\n",
       "      <td>-0.287696</td>\n",
       "      <td>6.940545</td>\n",
       "      <td>12.380207</td>\n",
       "    </tr>\n",
       "    <tr>\n",
       "      <th>7</th>\n",
       "      <td>NaN</td>\n",
       "      <td>-1.821591</td>\n",
       "      <td>-2.264503</td>\n",
       "      <td>-2.011017</td>\n",
       "      <td>-1.537623</td>\n",
       "      <td>-2.209611</td>\n",
       "      <td>-0.689339</td>\n",
       "      <td>0.000000</td>\n",
       "      <td>1.738001</td>\n",
       "      <td>2.014375</td>\n",
       "      <td>0.604169</td>\n",
       "      <td>1.617989</td>\n",
       "      <td>0.519288</td>\n",
       "      <td>1.797340</td>\n",
       "      <td>2.220682</td>\n",
       "    </tr>\n",
       "    <tr>\n",
       "      <th>8</th>\n",
       "      <td>NaN</td>\n",
       "      <td>-0.429791</td>\n",
       "      <td>-3.681102</td>\n",
       "      <td>-1.570361</td>\n",
       "      <td>0.924749</td>\n",
       "      <td>-3.202088</td>\n",
       "      <td>5.863747</td>\n",
       "      <td>1.738001</td>\n",
       "      <td>0.000000</td>\n",
       "      <td>1.676163</td>\n",
       "      <td>-5.780284</td>\n",
       "      <td>-0.490584</td>\n",
       "      <td>-2.629140</td>\n",
       "      <td>0.311107</td>\n",
       "      <td>3.368379</td>\n",
       "    </tr>\n",
       "    <tr>\n",
       "      <th>9</th>\n",
       "      <td>NaN</td>\n",
       "      <td>0.807861</td>\n",
       "      <td>-2.711342</td>\n",
       "      <td>-0.001778</td>\n",
       "      <td>2.525960</td>\n",
       "      <td>-1.980546</td>\n",
       "      <td>9.066121</td>\n",
       "      <td>2.014375</td>\n",
       "      <td>1.676163</td>\n",
       "      <td>0.000000</td>\n",
       "      <td>-8.446519</td>\n",
       "      <td>-1.908280</td>\n",
       "      <td>-3.313615</td>\n",
       "      <td>-1.569831</td>\n",
       "      <td>2.228466</td>\n",
       "    </tr>\n",
       "    <tr>\n",
       "      <th>10</th>\n",
       "      <td>NaN</td>\n",
       "      <td>-5.224553</td>\n",
       "      <td>-11.227286</td>\n",
       "      <td>-7.950291</td>\n",
       "      <td>-4.355425</td>\n",
       "      <td>-10.589458</td>\n",
       "      <td>-0.447696</td>\n",
       "      <td>0.604169</td>\n",
       "      <td>-5.780284</td>\n",
       "      <td>-8.446519</td>\n",
       "      <td>0.000000</td>\n",
       "      <td>4.495423</td>\n",
       "      <td>-0.098760</td>\n",
       "      <td>6.670611</td>\n",
       "      <td>10.938123</td>\n",
       "    </tr>\n",
       "    <tr>\n",
       "      <th>11</th>\n",
       "      <td>NaN</td>\n",
       "      <td>-0.806642</td>\n",
       "      <td>-3.422008</td>\n",
       "      <td>-1.827338</td>\n",
       "      <td>0.354472</td>\n",
       "      <td>-3.074177</td>\n",
       "      <td>4.409870</td>\n",
       "      <td>1.617989</td>\n",
       "      <td>-0.490584</td>\n",
       "      <td>-1.908280</td>\n",
       "      <td>4.495423</td>\n",
       "      <td>0.000000</td>\n",
       "      <td>-2.309245</td>\n",
       "      <td>0.785681</td>\n",
       "      <td>3.182172</td>\n",
       "    </tr>\n",
       "    <tr>\n",
       "      <th>12</th>\n",
       "      <td>NaN</td>\n",
       "      <td>-2.735703</td>\n",
       "      <td>-3.932411</td>\n",
       "      <td>-3.283656</td>\n",
       "      <td>-2.152822</td>\n",
       "      <td>-3.796742</td>\n",
       "      <td>-0.287696</td>\n",
       "      <td>0.519288</td>\n",
       "      <td>-2.629140</td>\n",
       "      <td>-3.313615</td>\n",
       "      <td>-0.098760</td>\n",
       "      <td>-2.309245</td>\n",
       "      <td>0.000000</td>\n",
       "      <td>2.795740</td>\n",
       "      <td>3.831260</td>\n",
       "    </tr>\n",
       "    <tr>\n",
       "      <th>13</th>\n",
       "      <td>NaN</td>\n",
       "      <td>-0.213283</td>\n",
       "      <td>-4.113105</td>\n",
       "      <td>-1.438255</td>\n",
       "      <td>1.281034</td>\n",
       "      <td>-3.475145</td>\n",
       "      <td>6.940545</td>\n",
       "      <td>1.797340</td>\n",
       "      <td>0.311107</td>\n",
       "      <td>-1.569831</td>\n",
       "      <td>6.670611</td>\n",
       "      <td>0.785681</td>\n",
       "      <td>2.795740</td>\n",
       "      <td>0.000000</td>\n",
       "      <td>3.724105</td>\n",
       "    </tr>\n",
       "    <tr>\n",
       "      <th>14</th>\n",
       "      <td>NaN</td>\n",
       "      <td>1.916598</td>\n",
       "      <td>-1.009330</td>\n",
       "      <td>1.850559</td>\n",
       "      <td>4.004322</td>\n",
       "      <td>0.177746</td>\n",
       "      <td>12.380207</td>\n",
       "      <td>2.220682</td>\n",
       "      <td>3.368379</td>\n",
       "      <td>2.228466</td>\n",
       "      <td>10.938123</td>\n",
       "      <td>3.182172</td>\n",
       "      <td>3.831260</td>\n",
       "      <td>3.724105</td>\n",
       "      <td>0.000000</td>\n",
       "    </tr>\n",
       "  </tbody>\n",
       "</table>\n",
       "</div>"
      ],
      "text/plain": [
       "     0         1          2         3         4          5          6   \\\n",
       "0   0.0       NaN        NaN       NaN       NaN        NaN        NaN   \n",
       "1   NaN  0.000000   2.144318  0.777116 -1.184937   1.836601  -5.177299   \n",
       "2   NaN  2.144318   0.000000 -2.253477 -4.266405  -0.969708 -12.721789   \n",
       "3   NaN  0.777116  -2.253477  0.000000 -2.402059   1.677772  -8.389845   \n",
       "4   NaN -1.184937  -4.266405 -2.402059  0.000000   3.863766  -4.273271   \n",
       "5   NaN  1.836601  -0.969708  1.677772  3.863766   0.000000 -11.852996   \n",
       "6   NaN -5.177299 -12.721789 -8.389845 -4.273271 -11.852996   0.000000   \n",
       "7   NaN -1.821591  -2.264503 -2.011017 -1.537623  -2.209611  -0.689339   \n",
       "8   NaN -0.429791  -3.681102 -1.570361  0.924749  -3.202088   5.863747   \n",
       "9   NaN  0.807861  -2.711342 -0.001778  2.525960  -1.980546   9.066121   \n",
       "10  NaN -5.224553 -11.227286 -7.950291 -4.355425 -10.589458  -0.447696   \n",
       "11  NaN -0.806642  -3.422008 -1.827338  0.354472  -3.074177   4.409870   \n",
       "12  NaN -2.735703  -3.932411 -3.283656 -2.152822  -3.796742  -0.287696   \n",
       "13  NaN -0.213283  -4.113105 -1.438255  1.281034  -3.475145   6.940545   \n",
       "14  NaN  1.916598  -1.009330  1.850559  4.004322   0.177746  12.380207   \n",
       "\n",
       "          7         8         9          10        11        12        13  \\\n",
       "0        NaN       NaN       NaN        NaN       NaN       NaN       NaN   \n",
       "1  -1.821591 -0.429791  0.807861  -5.224553 -0.806642 -2.735703 -0.213283   \n",
       "2  -2.264503 -3.681102 -2.711342 -11.227286 -3.422008 -3.932411 -4.113105   \n",
       "3  -2.011017 -1.570361 -0.001778  -7.950291 -1.827338 -3.283656 -1.438255   \n",
       "4  -1.537623  0.924749  2.525960  -4.355425  0.354472 -2.152822  1.281034   \n",
       "5  -2.209611 -3.202088 -1.980546 -10.589458 -3.074177 -3.796742 -3.475145   \n",
       "6  -0.689339  5.863747  9.066121  -0.447696  4.409870 -0.287696  6.940545   \n",
       "7   0.000000  1.738001  2.014375   0.604169  1.617989  0.519288  1.797340   \n",
       "8   1.738001  0.000000  1.676163  -5.780284 -0.490584 -2.629140  0.311107   \n",
       "9   2.014375  1.676163  0.000000  -8.446519 -1.908280 -3.313615 -1.569831   \n",
       "10  0.604169 -5.780284 -8.446519   0.000000  4.495423 -0.098760  6.670611   \n",
       "11  1.617989 -0.490584 -1.908280   4.495423  0.000000 -2.309245  0.785681   \n",
       "12  0.519288 -2.629140 -3.313615  -0.098760 -2.309245  0.000000  2.795740   \n",
       "13  1.797340  0.311107 -1.569831   6.670611  0.785681  2.795740  0.000000   \n",
       "14  2.220682  3.368379  2.228466  10.938123  3.182172  3.831260  3.724105   \n",
       "\n",
       "           14  \n",
       "0         NaN  \n",
       "1    1.916598  \n",
       "2   -1.009330  \n",
       "3    1.850559  \n",
       "4    4.004322  \n",
       "5    0.177746  \n",
       "6   12.380207  \n",
       "7    2.220682  \n",
       "8    3.368379  \n",
       "9    2.228466  \n",
       "10  10.938123  \n",
       "11   3.182172  \n",
       "12   3.831260  \n",
       "13   3.724105  \n",
       "14   0.000000  "
      ]
     },
     "execution_count": 65,
     "metadata": {},
     "output_type": "execute_result"
    }
   ],
   "source": [
    "pd.DataFrame(tStatistics)"
   ]
  },
  {
   "cell_type": "code",
   "execution_count": 66,
   "id": "2e3061d0-b7ef-4b30-bdcf-b8d11bf64c7c",
   "metadata": {},
   "outputs": [
    {
     "data": {
      "text/html": [
       "<div>\n",
       "<style scoped>\n",
       "    .dataframe tbody tr th:only-of-type {\n",
       "        vertical-align: middle;\n",
       "    }\n",
       "\n",
       "    .dataframe tbody tr th {\n",
       "        vertical-align: top;\n",
       "    }\n",
       "\n",
       "    .dataframe thead th {\n",
       "        text-align: right;\n",
       "    }\n",
       "</style>\n",
       "<table border=\"1\" class=\"dataframe\">\n",
       "  <thead>\n",
       "    <tr style=\"text-align: right;\">\n",
       "      <th></th>\n",
       "      <th>0</th>\n",
       "      <th>1</th>\n",
       "      <th>2</th>\n",
       "      <th>3</th>\n",
       "      <th>4</th>\n",
       "      <th>5</th>\n",
       "      <th>6</th>\n",
       "      <th>7</th>\n",
       "      <th>8</th>\n",
       "      <th>9</th>\n",
       "      <th>10</th>\n",
       "      <th>11</th>\n",
       "      <th>12</th>\n",
       "      <th>13</th>\n",
       "      <th>14</th>\n",
       "    </tr>\n",
       "  </thead>\n",
       "  <tbody>\n",
       "    <tr>\n",
       "      <th>0</th>\n",
       "      <td>0.0</td>\n",
       "      <td>NaN</td>\n",
       "      <td>NaN</td>\n",
       "      <td>NaN</td>\n",
       "      <td>NaN</td>\n",
       "      <td>NaN</td>\n",
       "      <td>NaN</td>\n",
       "      <td>NaN</td>\n",
       "      <td>NaN</td>\n",
       "      <td>NaN</td>\n",
       "      <td>NaN</td>\n",
       "      <td>NaN</td>\n",
       "      <td>NaN</td>\n",
       "      <td>NaN</td>\n",
       "      <td>NaN</td>\n",
       "    </tr>\n",
       "    <tr>\n",
       "      <th>1</th>\n",
       "      <td>NaN</td>\n",
       "      <td>0.000000</td>\n",
       "      <td>2.676622e-01</td>\n",
       "      <td>5.312953e-01</td>\n",
       "      <td>0.323262</td>\n",
       "      <td>2.967517e-01</td>\n",
       "      <td>3.743888e-02</td>\n",
       "      <td>0.201737</td>\n",
       "      <td>0.706274</td>\n",
       "      <td>5.316521e-01</td>\n",
       "      <td>0.040078</td>\n",
       "      <td>0.476081</td>\n",
       "      <td>0.018311</td>\n",
       "      <td>8.536644e-01</td>\n",
       "      <td>2.964896e-01</td>\n",
       "    </tr>\n",
       "    <tr>\n",
       "      <th>2</th>\n",
       "      <td>NaN</td>\n",
       "      <td>0.267662</td>\n",
       "      <td>0.000000e+00</td>\n",
       "      <td>3.183232e-02</td>\n",
       "      <td>0.000532</td>\n",
       "      <td>4.038265e-01</td>\n",
       "      <td>7.784824e-14</td>\n",
       "      <td>0.151574</td>\n",
       "      <td>0.012195</td>\n",
       "      <td>3.027753e-02</td>\n",
       "      <td>0.046146</td>\n",
       "      <td>0.012974</td>\n",
       "      <td>0.001953</td>\n",
       "      <td>2.124886e-03</td>\n",
       "      <td>3.751955e-01</td>\n",
       "    </tr>\n",
       "    <tr>\n",
       "      <th>3</th>\n",
       "      <td>NaN</td>\n",
       "      <td>0.531295</td>\n",
       "      <td>3.183232e-02</td>\n",
       "      <td>0.000000e+00</td>\n",
       "      <td>0.022906</td>\n",
       "      <td>1.045921e-01</td>\n",
       "      <td>9.668118e-12</td>\n",
       "      <td>0.179311</td>\n",
       "      <td>0.142515</td>\n",
       "      <td>9.985946e-01</td>\n",
       "      <td>0.010401</td>\n",
       "      <td>0.096265</td>\n",
       "      <td>0.005717</td>\n",
       "      <td>1.618759e-01</td>\n",
       "      <td>7.244549e-02</td>\n",
       "    </tr>\n",
       "    <tr>\n",
       "      <th>4</th>\n",
       "      <td>NaN</td>\n",
       "      <td>0.323262</td>\n",
       "      <td>5.323776e-04</td>\n",
       "      <td>2.290625e-02</td>\n",
       "      <td>0.000000</td>\n",
       "      <td>1.163741e-03</td>\n",
       "      <td>1.543991e-04</td>\n",
       "      <td>0.257797</td>\n",
       "      <td>0.367267</td>\n",
       "      <td>1.939903e-02</td>\n",
       "      <td>0.008395</td>\n",
       "      <td>0.727628</td>\n",
       "      <td>0.047529</td>\n",
       "      <td>2.121135e-01</td>\n",
       "      <td>9.077060e-04</td>\n",
       "    </tr>\n",
       "    <tr>\n",
       "      <th>5</th>\n",
       "      <td>NaN</td>\n",
       "      <td>0.296752</td>\n",
       "      <td>4.038265e-01</td>\n",
       "      <td>1.045921e-01</td>\n",
       "      <td>0.001164</td>\n",
       "      <td>0.000000e+00</td>\n",
       "      <td>5.858084e-13</td>\n",
       "      <td>0.157208</td>\n",
       "      <td>0.018497</td>\n",
       "      <td>8.307702e-02</td>\n",
       "      <td>0.038799</td>\n",
       "      <td>0.018883</td>\n",
       "      <td>0.002452</td>\n",
       "      <td>5.228563e-03</td>\n",
       "      <td>8.674544e-01</td>\n",
       "    </tr>\n",
       "    <tr>\n",
       "      <th>6</th>\n",
       "      <td>NaN</td>\n",
       "      <td>0.037439</td>\n",
       "      <td>7.784824e-14</td>\n",
       "      <td>9.668118e-12</td>\n",
       "      <td>0.000154</td>\n",
       "      <td>5.858084e-13</td>\n",
       "      <td>0.000000e+00</td>\n",
       "      <td>0.560101</td>\n",
       "      <td>0.000037</td>\n",
       "      <td>3.717887e-10</td>\n",
       "      <td>0.686649</td>\n",
       "      <td>0.000838</td>\n",
       "      <td>0.777829</td>\n",
       "      <td>8.225971e-08</td>\n",
       "      <td>2.569854e-14</td>\n",
       "    </tr>\n",
       "    <tr>\n",
       "      <th>7</th>\n",
       "      <td>NaN</td>\n",
       "      <td>0.201737</td>\n",
       "      <td>1.515736e-01</td>\n",
       "      <td>1.793114e-01</td>\n",
       "      <td>0.257797</td>\n",
       "      <td>1.572082e-01</td>\n",
       "      <td>5.601012e-01</td>\n",
       "      <td>0.000000</td>\n",
       "      <td>0.219866</td>\n",
       "      <td>1.797597e-01</td>\n",
       "      <td>0.605004</td>\n",
       "      <td>0.239548</td>\n",
       "      <td>0.641833</td>\n",
       "      <td>2.112727e-01</td>\n",
       "      <td>1.562844e-01</td>\n",
       "    </tr>\n",
       "    <tr>\n",
       "      <th>8</th>\n",
       "      <td>NaN</td>\n",
       "      <td>0.706274</td>\n",
       "      <td>1.219501e-02</td>\n",
       "      <td>1.425153e-01</td>\n",
       "      <td>0.367267</td>\n",
       "      <td>1.849715e-02</td>\n",
       "      <td>3.668302e-05</td>\n",
       "      <td>0.219866</td>\n",
       "      <td>0.000000</td>\n",
       "      <td>1.297360e-01</td>\n",
       "      <td>0.009664</td>\n",
       "      <td>0.633673</td>\n",
       "      <td>0.019678</td>\n",
       "      <td>7.616236e-01</td>\n",
       "      <td>1.714852e-02</td>\n",
       "    </tr>\n",
       "    <tr>\n",
       "      <th>9</th>\n",
       "      <td>NaN</td>\n",
       "      <td>0.531652</td>\n",
       "      <td>3.027753e-02</td>\n",
       "      <td>9.985946e-01</td>\n",
       "      <td>0.019399</td>\n",
       "      <td>8.307702e-02</td>\n",
       "      <td>3.717887e-10</td>\n",
       "      <td>0.179760</td>\n",
       "      <td>0.129736</td>\n",
       "      <td>0.000000e+00</td>\n",
       "      <td>0.019543</td>\n",
       "      <td>0.090437</td>\n",
       "      <td>0.005652</td>\n",
       "      <td>1.373264e-01</td>\n",
       "      <td>5.810438e-02</td>\n",
       "    </tr>\n",
       "    <tr>\n",
       "      <th>10</th>\n",
       "      <td>NaN</td>\n",
       "      <td>0.040078</td>\n",
       "      <td>4.614605e-02</td>\n",
       "      <td>1.040094e-02</td>\n",
       "      <td>0.008395</td>\n",
       "      <td>3.879855e-02</td>\n",
       "      <td>6.866488e-01</td>\n",
       "      <td>0.605004</td>\n",
       "      <td>0.009664</td>\n",
       "      <td>1.954326e-02</td>\n",
       "      <td>0.000000</td>\n",
       "      <td>0.007717</td>\n",
       "      <td>0.922847</td>\n",
       "      <td>1.454414e-02</td>\n",
       "      <td>4.759395e-02</td>\n",
       "    </tr>\n",
       "    <tr>\n",
       "      <th>11</th>\n",
       "      <td>NaN</td>\n",
       "      <td>0.476081</td>\n",
       "      <td>1.297359e-02</td>\n",
       "      <td>9.626458e-02</td>\n",
       "      <td>0.727628</td>\n",
       "      <td>1.888336e-02</td>\n",
       "      <td>8.376548e-04</td>\n",
       "      <td>0.239548</td>\n",
       "      <td>0.633673</td>\n",
       "      <td>9.043686e-02</td>\n",
       "      <td>0.007717</td>\n",
       "      <td>0.000000</td>\n",
       "      <td>0.035013</td>\n",
       "      <td>4.499533e-01</td>\n",
       "      <td>1.760785e-02</td>\n",
       "    </tr>\n",
       "    <tr>\n",
       "      <th>12</th>\n",
       "      <td>NaN</td>\n",
       "      <td>0.018311</td>\n",
       "      <td>1.953444e-03</td>\n",
       "      <td>5.717135e-03</td>\n",
       "      <td>0.047529</td>\n",
       "      <td>2.451962e-03</td>\n",
       "      <td>7.778294e-01</td>\n",
       "      <td>0.641833</td>\n",
       "      <td>0.019678</td>\n",
       "      <td>5.651603e-03</td>\n",
       "      <td>0.922847</td>\n",
       "      <td>0.035013</td>\n",
       "      <td>0.000000</td>\n",
       "      <td>1.474760e-02</td>\n",
       "      <td>2.348864e-03</td>\n",
       "    </tr>\n",
       "    <tr>\n",
       "      <th>13</th>\n",
       "      <td>NaN</td>\n",
       "      <td>0.853664</td>\n",
       "      <td>2.124886e-03</td>\n",
       "      <td>1.618759e-01</td>\n",
       "      <td>0.212114</td>\n",
       "      <td>5.228563e-03</td>\n",
       "      <td>8.225971e-08</td>\n",
       "      <td>0.211273</td>\n",
       "      <td>0.761624</td>\n",
       "      <td>1.373264e-01</td>\n",
       "      <td>0.014544</td>\n",
       "      <td>0.449953</td>\n",
       "      <td>0.014748</td>\n",
       "      <td>0.000000e+00</td>\n",
       "      <td>3.645226e-03</td>\n",
       "    </tr>\n",
       "    <tr>\n",
       "      <th>14</th>\n",
       "      <td>NaN</td>\n",
       "      <td>0.296490</td>\n",
       "      <td>3.751955e-01</td>\n",
       "      <td>7.244549e-02</td>\n",
       "      <td>0.000908</td>\n",
       "      <td>8.674544e-01</td>\n",
       "      <td>2.569854e-14</td>\n",
       "      <td>0.156284</td>\n",
       "      <td>0.017149</td>\n",
       "      <td>5.810438e-02</td>\n",
       "      <td>0.047594</td>\n",
       "      <td>0.017608</td>\n",
       "      <td>0.002349</td>\n",
       "      <td>3.645226e-03</td>\n",
       "      <td>0.000000e+00</td>\n",
       "    </tr>\n",
       "  </tbody>\n",
       "</table>\n",
       "</div>"
      ],
      "text/plain": [
       "     0         1             2             3         4             5   \\\n",
       "0   0.0       NaN           NaN           NaN       NaN           NaN   \n",
       "1   NaN  0.000000  2.676622e-01  5.312953e-01  0.323262  2.967517e-01   \n",
       "2   NaN  0.267662  0.000000e+00  3.183232e-02  0.000532  4.038265e-01   \n",
       "3   NaN  0.531295  3.183232e-02  0.000000e+00  0.022906  1.045921e-01   \n",
       "4   NaN  0.323262  5.323776e-04  2.290625e-02  0.000000  1.163741e-03   \n",
       "5   NaN  0.296752  4.038265e-01  1.045921e-01  0.001164  0.000000e+00   \n",
       "6   NaN  0.037439  7.784824e-14  9.668118e-12  0.000154  5.858084e-13   \n",
       "7   NaN  0.201737  1.515736e-01  1.793114e-01  0.257797  1.572082e-01   \n",
       "8   NaN  0.706274  1.219501e-02  1.425153e-01  0.367267  1.849715e-02   \n",
       "9   NaN  0.531652  3.027753e-02  9.985946e-01  0.019399  8.307702e-02   \n",
       "10  NaN  0.040078  4.614605e-02  1.040094e-02  0.008395  3.879855e-02   \n",
       "11  NaN  0.476081  1.297359e-02  9.626458e-02  0.727628  1.888336e-02   \n",
       "12  NaN  0.018311  1.953444e-03  5.717135e-03  0.047529  2.451962e-03   \n",
       "13  NaN  0.853664  2.124886e-03  1.618759e-01  0.212114  5.228563e-03   \n",
       "14  NaN  0.296490  3.751955e-01  7.244549e-02  0.000908  8.674544e-01   \n",
       "\n",
       "              6         7         8             9         10        11  \\\n",
       "0            NaN       NaN       NaN           NaN       NaN       NaN   \n",
       "1   3.743888e-02  0.201737  0.706274  5.316521e-01  0.040078  0.476081   \n",
       "2   7.784824e-14  0.151574  0.012195  3.027753e-02  0.046146  0.012974   \n",
       "3   9.668118e-12  0.179311  0.142515  9.985946e-01  0.010401  0.096265   \n",
       "4   1.543991e-04  0.257797  0.367267  1.939903e-02  0.008395  0.727628   \n",
       "5   5.858084e-13  0.157208  0.018497  8.307702e-02  0.038799  0.018883   \n",
       "6   0.000000e+00  0.560101  0.000037  3.717887e-10  0.686649  0.000838   \n",
       "7   5.601012e-01  0.000000  0.219866  1.797597e-01  0.605004  0.239548   \n",
       "8   3.668302e-05  0.219866  0.000000  1.297360e-01  0.009664  0.633673   \n",
       "9   3.717887e-10  0.179760  0.129736  0.000000e+00  0.019543  0.090437   \n",
       "10  6.866488e-01  0.605004  0.009664  1.954326e-02  0.000000  0.007717   \n",
       "11  8.376548e-04  0.239548  0.633673  9.043686e-02  0.007717  0.000000   \n",
       "12  7.778294e-01  0.641833  0.019678  5.651603e-03  0.922847  0.035013   \n",
       "13  8.225971e-08  0.211273  0.761624  1.373264e-01  0.014544  0.449953   \n",
       "14  2.569854e-14  0.156284  0.017149  5.810438e-02  0.047594  0.017608   \n",
       "\n",
       "          12            13            14  \n",
       "0        NaN           NaN           NaN  \n",
       "1   0.018311  8.536644e-01  2.964896e-01  \n",
       "2   0.001953  2.124886e-03  3.751955e-01  \n",
       "3   0.005717  1.618759e-01  7.244549e-02  \n",
       "4   0.047529  2.121135e-01  9.077060e-04  \n",
       "5   0.002452  5.228563e-03  8.674544e-01  \n",
       "6   0.777829  8.225971e-08  2.569854e-14  \n",
       "7   0.641833  2.112727e-01  1.562844e-01  \n",
       "8   0.019678  7.616236e-01  1.714852e-02  \n",
       "9   0.005652  1.373264e-01  5.810438e-02  \n",
       "10  0.922847  1.454414e-02  4.759395e-02  \n",
       "11  0.035013  4.499533e-01  1.760785e-02  \n",
       "12  0.000000  1.474760e-02  2.348864e-03  \n",
       "13  0.014748  0.000000e+00  3.645226e-03  \n",
       "14  0.002349  3.645226e-03  0.000000e+00  "
      ]
     },
     "execution_count": 66,
     "metadata": {},
     "output_type": "execute_result"
    }
   ],
   "source": [
    "pd.DataFrame(pValues)"
   ]
  },
  {
   "cell_type": "markdown",
   "id": "8e7da3d4-b650-431c-b2b3-648eea2a089f",
   "metadata": {},
   "source": [
    "# Mapping"
   ]
  },
  {
   "cell_type": "code",
   "execution_count": 67,
   "id": "78d92e76-410a-4757-83ad-484a33364e96",
   "metadata": {},
   "outputs": [],
   "source": [
    "import json"
   ]
  },
  {
   "cell_type": "code",
   "execution_count": 68,
   "id": "4eed3be6-9dba-4ad5-bad1-849153a5ab3c",
   "metadata": {},
   "outputs": [],
   "source": [
    "with open('Data//country-codes.json') as f:\n",
    "    codes = json.load(f)"
   ]
  },
  {
   "cell_type": "code",
   "execution_count": 69,
   "id": "3dd88b33-46bd-44bc-b65e-dc8722d35e38",
   "metadata": {},
   "outputs": [],
   "source": [
    "codeMatching = {}\n",
    "for location in codes:\n",
    "    codeMatching[location['ISO3166-1-Alpha-2']] = location['ISO3166-1-Alpha-3']"
   ]
  },
  {
   "cell_type": "code",
   "execution_count": 70,
   "id": "f7ab6ddc-d2fc-44a0-a1ca-1f823c22ff7e",
   "metadata": {},
   "outputs": [],
   "source": [
    "ISOCodes = {}\n",
    "owidDF = pd.read_csv('Data//owid-covid-data.csv')[['iso_code', 'location']]"
   ]
  },
  {
   "cell_type": "code",
   "execution_count": 71,
   "id": "0d501de9-bfc5-492d-a7c5-1c25ce5bb680",
   "metadata": {},
   "outputs": [],
   "source": [
    "isoMatching = list(owidDF.groupby(['iso_code', 'location']))\n",
    "for country in isoMatching:\n",
    "    if len(country[0][0]) == 3 and country[0][1] in countries:\n",
    "        ISOCodes[country[0][0]] = country[0][1]\n",
    "countryToISO = {'Kosovo':'XXX'}\n",
    "for key in ISOCodes:\n",
    "    countryToISO[ISOCodes[key]] = key"
   ]
  },
  {
   "cell_type": "code",
   "execution_count": 72,
   "id": "6c32b22d-076c-4da5-aef3-c6c352f5b1e4",
   "metadata": {},
   "outputs": [],
   "source": [
    "import plotly.express as px"
   ]
  },
  {
   "cell_type": "code",
   "execution_count": 73,
   "id": "02e09052-c23b-4955-a891-83135dbbf0f4",
   "metadata": {},
   "outputs": [],
   "source": [
    "mapping = []\n",
    "for i in range(len(rankClusters)):\n",
    "    for country in rankClusters[i]:\n",
    "        mapping.append([countries[country], countryToISO[countries[country]], str(i)])"
   ]
  },
  {
   "cell_type": "code",
   "execution_count": 74,
   "id": "ed6355b0-ab72-464b-b975-70c1a704d0b7",
   "metadata": {},
   "outputs": [],
   "source": [
    "mapDF = pd.DataFrame(mapping)\n",
    "mapDF = mapDF.rename(columns = {0:'location', 1:'iso',2:'cluster'})"
   ]
  },
  {
   "cell_type": "code",
   "execution_count": 113,
   "id": "33b19ab7-0e84-4cb2-b6be-ff5748ff022a",
   "metadata": {},
   "outputs": [
    {
     "data": {
      "application/vnd.plotly.v1+json": {
       "config": {
        "plotlyServerURL": "https://plot.ly"
       },
       "data": [
        {
         "colorscale": [
          [
           0,
           "rgb(141,211,199)"
          ],
          [
           1,
           "rgb(141,211,199)"
          ]
         ],
         "geo": "geo",
         "hovertemplate": "<b>%{hovertext}</b><br><br>cluster=0<br>iso=%{location}<extra></extra>",
         "hovertext": [
          "Egypt"
         ],
         "locations": [
          "EGY"
         ],
         "name": "0",
         "showlegend": true,
         "showscale": false,
         "type": "choropleth",
         "z": [
          1
         ]
        },
        {
         "colorscale": [
          [
           0,
           "rgb(255,255,179)"
          ],
          [
           1,
           "rgb(255,255,179)"
          ]
         ],
         "geo": "geo",
         "hovertemplate": "<b>%{hovertext}</b><br><br>cluster=1<br>iso=%{location}<extra></extra>",
         "hovertext": [
          "Bolivia",
          "Dominican Republic"
         ],
         "locations": [
          "BOL",
          "DOM"
         ],
         "name": "1",
         "showlegend": true,
         "showscale": false,
         "type": "choropleth",
         "z": [
          1,
          1
         ]
        },
        {
         "colorscale": [
          [
           0,
           "rgb(190,186,218)"
          ],
          [
           1,
           "rgb(190,186,218)"
          ]
         ],
         "geo": "geo",
         "hovertemplate": "<b>%{hovertext}</b><br><br>cluster=2<br>iso=%{location}<extra></extra>",
         "hovertext": [
          "Ethiopia",
          "Kenya"
         ],
         "locations": [
          "ETH",
          "KEN"
         ],
         "name": "2",
         "showlegend": true,
         "showscale": false,
         "type": "choropleth",
         "z": [
          1,
          1
         ]
        },
        {
         "colorscale": [
          [
           0,
           "rgb(251,128,114)"
          ],
          [
           1,
           "rgb(251,128,114)"
          ]
         ],
         "geo": "geo",
         "hovertemplate": "<b>%{hovertext}</b><br><br>cluster=3<br>iso=%{location}<extra></extra>",
         "hovertext": [
          "Hong Kong",
          "Sudan",
          "Burkina Faso",
          "Mali",
          "Papua New Guinea",
          "Taiwan",
          "Laos",
          "Mauritius",
          "New Zealand",
          "Madagascar",
          "Lesotho",
          "Botswana",
          "Burundi",
          "Djibouti",
          "South Sudan",
          "Cameroon",
          "Gabon",
          "Somalia",
          "Yemen",
          "Timor",
          "Tajikistan",
          "Congo",
          "Eritrea",
          "Chad",
          "Niger",
          "Gambia",
          "Guinea-Bissau",
          "Benin",
          "Equatorial Guinea",
          "Central African Republic",
          "Nicaragua",
          "Tanzania",
          "Liberia",
          "Sierra Leone"
         ],
         "locations": [
          "HKG",
          "SDN",
          "BFA",
          "MLI",
          "PNG",
          "TWN",
          "LAO",
          "MUS",
          "NZL",
          "MDG",
          "LSO",
          "BWA",
          "BDI",
          "DJI",
          "SSD",
          "CMR",
          "GAB",
          "SOM",
          "YEM",
          "TLS",
          "TJK",
          "COG",
          "ERI",
          "TCD",
          "NER",
          "GMB",
          "GNB",
          "BEN",
          "GNQ",
          "CAF",
          "NIC",
          "TZA",
          "LBR",
          "SLE"
         ],
         "name": "3",
         "showlegend": true,
         "showscale": false,
         "type": "choropleth",
         "z": [
          1,
          1,
          1,
          1,
          1,
          1,
          1,
          1,
          1,
          1,
          1,
          1,
          1,
          1,
          1,
          1,
          1,
          1,
          1,
          1,
          1,
          1,
          1,
          1,
          1,
          1,
          1,
          1,
          1,
          1,
          1,
          1,
          1,
          1
         ]
        },
        {
         "colorscale": [
          [
           0,
           "rgb(128,177,211)"
          ],
          [
           1,
           "rgb(128,177,211)"
          ]
         ],
         "geo": "geo",
         "hovertemplate": "<b>%{hovertext}</b><br><br>cluster=4<br>iso=%{location}<extra></extra>",
         "hovertext": [
          "Jamaica",
          "Libya",
          "Sweden",
          "Kosovo",
          "Palestine",
          "Albania",
          "Bosnia and Herzegovina",
          "North Macedonia",
          "Bulgaria",
          "Serbia",
          "Moldova",
          "Romania",
          "Lebanon",
          "United States",
          "Armenia",
          "Azerbaijan",
          "Syria",
          "Ukraine"
         ],
         "locations": [
          "JAM",
          "LBY",
          "SWE",
          "XXX",
          "PSE",
          "ALB",
          "BIH",
          "MKD",
          "BGR",
          "SRB",
          "MDA",
          "ROU",
          "LBN",
          "USA",
          "ARM",
          "AZE",
          "SYR",
          "UKR"
         ],
         "name": "4",
         "showlegend": true,
         "showscale": false,
         "type": "choropleth",
         "z": [
          1,
          1,
          1,
          1,
          1,
          1,
          1,
          1,
          1,
          1,
          1,
          1,
          1,
          1,
          1,
          1,
          1,
          1
         ]
        },
        {
         "colorscale": [
          [
           0,
           "rgb(253,180,98)"
          ],
          [
           1,
           "rgb(253,180,98)"
          ]
         ],
         "geo": "geo",
         "hovertemplate": "<b>%{hovertext}</b><br><br>cluster=5<br>iso=%{location}<extra></extra>",
         "hovertext": [
          "Afghanistan",
          "Bangladesh",
          "Pakistan"
         ],
         "locations": [
          "AFG",
          "BGD",
          "PAK"
         ],
         "name": "5",
         "showlegend": true,
         "showscale": false,
         "type": "choropleth",
         "z": [
          1,
          1,
          1
         ]
        },
        {
         "colorscale": [
          [
           0,
           "rgb(179,222,105)"
          ],
          [
           1,
           "rgb(179,222,105)"
          ]
         ],
         "geo": "geo",
         "hovertemplate": "<b>%{hovertext}</b><br><br>cluster=6<br>iso=%{location}<extra></extra>",
         "hovertext": [
          "Turkey",
          "Georgia",
          "Belarus",
          "Russia",
          "South Korea",
          "Norway",
          "Finland",
          "Greece",
          "Portugal",
          "Ireland",
          "United Kingdom",
          "Canada",
          "France",
          "Italy",
          "Czechia",
          "Slovakia",
          "Poland",
          "Hungary",
          "Jordan",
          "Estonia",
          "Latvia",
          "Denmark",
          "Netherlands",
          "Belgium",
          "Austria",
          "Germany",
          "Switzerland",
          "Croatia",
          "Lithuania",
          "Slovenia",
          "Spain",
          "Uruguay"
         ],
         "locations": [
          "TUR",
          "GEO",
          "BLR",
          "RUS",
          "KOR",
          "NOR",
          "FIN",
          "GRC",
          "PRT",
          "IRL",
          "GBR",
          "CAN",
          "FRA",
          "ITA",
          "CZE",
          "SVK",
          "POL",
          "HUN",
          "JOR",
          "EST",
          "LVA",
          "DNK",
          "NLD",
          "BEL",
          "AUT",
          "DEU",
          "CHE",
          "HRV",
          "LTU",
          "SVN",
          "ESP",
          "URY"
         ],
         "name": "6",
         "showlegend": true,
         "showscale": false,
         "type": "choropleth",
         "z": [
          1,
          1,
          1,
          1,
          1,
          1,
          1,
          1,
          1,
          1,
          1,
          1,
          1,
          1,
          1,
          1,
          1,
          1,
          1,
          1,
          1,
          1,
          1,
          1,
          1,
          1,
          1,
          1,
          1,
          1,
          1,
          1
         ]
        },
        {
         "colorscale": [
          [
           0,
           "rgb(252,205,229)"
          ],
          [
           1,
           "rgb(252,205,229)"
          ]
         ],
         "geo": "geo",
         "hovertemplate": "<b>%{hovertext}</b><br><br>cluster=7<br>iso=%{location}<extra></extra>",
         "hovertext": [
          "China",
          "Australia",
          "Singapore"
         ],
         "locations": [
          "CHN",
          "AUS",
          "SGP"
         ],
         "name": "7",
         "showlegend": true,
         "showscale": false,
         "type": "choropleth",
         "z": [
          1,
          1,
          1
         ]
        },
        {
         "colorscale": [
          [
           0,
           "rgb(217,217,217)"
          ],
          [
           1,
           "rgb(217,217,217)"
          ]
         ],
         "geo": "geo",
         "hovertemplate": "<b>%{hovertext}</b><br><br>cluster=8<br>iso=%{location}<extra></extra>",
         "hovertext": [
          "Panama",
          "South Africa",
          "Algeria",
          "Kyrgyzstan",
          "Mexico",
          "Morocco"
         ],
         "locations": [
          "PAN",
          "ZAF",
          "DZA",
          "KGZ",
          "MEX",
          "MAR"
         ],
         "name": "8",
         "showlegend": true,
         "showscale": false,
         "type": "choropleth",
         "z": [
          1,
          1,
          1,
          1,
          1,
          1
         ]
        },
        {
         "colorscale": [
          [
           0,
           "rgb(188,128,189)"
          ],
          [
           1,
           "rgb(188,128,189)"
          ]
         ],
         "geo": "geo",
         "hovertemplate": "<b>%{hovertext}</b><br><br>cluster=9<br>iso=%{location}<extra></extra>",
         "hovertext": [
          "El Salvador",
          "Honduras",
          "Myanmar",
          "Costa Rica",
          "Tunisia",
          "Angola",
          "Uganda"
         ],
         "locations": [
          "SLV",
          "HND",
          "MMR",
          "CRI",
          "TUN",
          "AGO",
          "UGA"
         ],
         "name": "9",
         "showlegend": true,
         "showscale": false,
         "type": "choropleth",
         "z": [
          1,
          1,
          1,
          1,
          1,
          1,
          1
         ]
        },
        {
         "colorscale": [
          [
           0,
           "rgb(204,235,197)"
          ],
          [
           1,
           "rgb(204,235,197)"
          ]
         ],
         "geo": "geo",
         "hovertemplate": "<b>%{hovertext}</b><br><br>cluster=10<br>iso=%{location}<extra></extra>",
         "hovertext": [
          "Israel",
          "Japan"
         ],
         "locations": [
          "ISR",
          "JPN"
         ],
         "name": "10",
         "showlegend": true,
         "showscale": false,
         "type": "choropleth",
         "z": [
          1,
          1
         ]
        },
        {
         "colorscale": [
          [
           0,
           "rgb(255,237,111)"
          ],
          [
           1,
           "rgb(255,237,111)"
          ]
         ],
         "geo": "geo",
         "hovertemplate": "<b>%{hovertext}</b><br><br>cluster=11<br>iso=%{location}<extra></extra>",
         "hovertext": [
          "Malaysia",
          "Thailand",
          "Cuba",
          "Sri Lanka",
          "Cambodia",
          "Mongolia",
          "Trinidad and Tobago",
          "Vietnam"
         ],
         "locations": [
          "MYS",
          "THA",
          "CUB",
          "LKA",
          "KHM",
          "MNG",
          "TTO",
          "VNM"
         ],
         "name": "11",
         "showlegend": true,
         "showscale": false,
         "type": "choropleth",
         "z": [
          1,
          1,
          1,
          1,
          1,
          1,
          1,
          1
         ]
        },
        {
         "colorscale": [
          [
           0,
           "rgb(160, 97, 119)"
          ],
          [
           1,
           "rgb(160, 97, 119)"
          ]
         ],
         "geo": "geo",
         "hovertemplate": "<b>%{hovertext}</b><br><br>cluster=12<br>iso=%{location}<extra></extra>",
         "hovertext": [
          "Bahrain",
          "Chile",
          "Brazil",
          "Ecuador",
          "United Arab Emirates",
          "Paraguay",
          "Argentina",
          "Colombia",
          "Peru",
          "Qatar",
          "Saudi Arabia",
          "Kuwait",
          "Oman"
         ],
         "locations": [
          "BHR",
          "CHL",
          "BRA",
          "ECU",
          "ARE",
          "PRY",
          "ARG",
          "COL",
          "PER",
          "QAT",
          "SAU",
          "KWT",
          "OMN"
         ],
         "name": "12",
         "showlegend": true,
         "showscale": false,
         "type": "choropleth",
         "z": [
          1,
          1,
          1,
          1,
          1,
          1,
          1,
          1,
          1,
          1,
          1,
          1,
          1
         ]
        },
        {
         "colorscale": [
          [
           0,
           "rgb(140, 120, 93)"
          ],
          [
           1,
           "rgb(140, 120, 93)"
          ]
         ],
         "geo": "geo",
         "hovertemplate": "<b>%{hovertext}</b><br><br>cluster=13<br>iso=%{location}<extra></extra>",
         "hovertext": [
          "Indonesia",
          "Iran",
          "Nepal",
          "India",
          "Iraq",
          "Guatemala",
          "Uzbekistan",
          "Kazakhstan",
          "Philippines",
          "Venezuela"
         ],
         "locations": [
          "IDN",
          "IRN",
          "NPL",
          "IND",
          "IRQ",
          "GTM",
          "UZB",
          "KAZ",
          "PHL",
          "VEN"
         ],
         "name": "13",
         "showlegend": true,
         "showscale": false,
         "type": "choropleth",
         "z": [
          1,
          1,
          1,
          1,
          1,
          1,
          1,
          1,
          1,
          1
         ]
        },
        {
         "colorscale": [
          [
           0,
           "rgb(124, 124, 124)"
          ],
          [
           1,
           "rgb(124, 124, 124)"
          ]
         ],
         "geo": "geo",
         "hovertemplate": "<b>%{hovertext}</b><br><br>cluster=14<br>iso=%{location}<extra></extra>",
         "hovertext": [
          "Nigeria",
          "Zimbabwe",
          "Zambia",
          "Mozambique",
          "Namibia",
          "Rwanda",
          "Guinea",
          "Senegal",
          "Cote d'Ivoire",
          "Ghana",
          "Togo",
          "Eswatini",
          "Malawi",
          "Haiti",
          "Democratic Republic of Congo",
          "Mauritania"
         ],
         "locations": [
          "NGA",
          "ZWE",
          "ZMB",
          "MOZ",
          "NAM",
          "RWA",
          "GIN",
          "SEN",
          "CIV",
          "GHA",
          "TGO",
          "SWZ",
          "MWI",
          "HTI",
          "COD",
          "MRT"
         ],
         "name": "14",
         "showlegend": true,
         "showscale": false,
         "type": "choropleth",
         "z": [
          1,
          1,
          1,
          1,
          1,
          1,
          1,
          1,
          1,
          1,
          1,
          1,
          1,
          1,
          1,
          1
         ]
        }
       ],
       "layout": {
        "autosize": true,
        "geo": {
         "center": {
          "lat": 1.1984843935732354,
          "lon": -20.856844253578537
         },
         "domain": {
          "x": [
           0,
           1
          ],
          "y": [
           0,
           1
          ]
         },
         "projection": {
          "rotation": {
           "lon": -20.856844253578537
          },
          "scale": 1.1141936508193344
         }
        },
        "legend": {
         "title": {
          "text": "cluster"
         },
         "tracegroupgap": 0
        },
        "margin": {
         "b": 5,
         "l": 5,
         "r": 5,
         "t": 5
        },
        "template": {
         "data": {
          "bar": [
           {
            "error_x": {
             "color": "#2a3f5f"
            },
            "error_y": {
             "color": "#2a3f5f"
            },
            "marker": {
             "line": {
              "color": "#E5ECF6",
              "width": 0.5
             },
             "pattern": {
              "fillmode": "overlay",
              "size": 10,
              "solidity": 0.2
             }
            },
            "type": "bar"
           }
          ],
          "barpolar": [
           {
            "marker": {
             "line": {
              "color": "#E5ECF6",
              "width": 0.5
             },
             "pattern": {
              "fillmode": "overlay",
              "size": 10,
              "solidity": 0.2
             }
            },
            "type": "barpolar"
           }
          ],
          "carpet": [
           {
            "aaxis": {
             "endlinecolor": "#2a3f5f",
             "gridcolor": "white",
             "linecolor": "white",
             "minorgridcolor": "white",
             "startlinecolor": "#2a3f5f"
            },
            "baxis": {
             "endlinecolor": "#2a3f5f",
             "gridcolor": "white",
             "linecolor": "white",
             "minorgridcolor": "white",
             "startlinecolor": "#2a3f5f"
            },
            "type": "carpet"
           }
          ],
          "choropleth": [
           {
            "colorbar": {
             "outlinewidth": 0,
             "ticks": ""
            },
            "type": "choropleth"
           }
          ],
          "contour": [
           {
            "colorbar": {
             "outlinewidth": 0,
             "ticks": ""
            },
            "colorscale": [
             [
              0,
              "#0d0887"
             ],
             [
              0.1111111111111111,
              "#46039f"
             ],
             [
              0.2222222222222222,
              "#7201a8"
             ],
             [
              0.3333333333333333,
              "#9c179e"
             ],
             [
              0.4444444444444444,
              "#bd3786"
             ],
             [
              0.5555555555555556,
              "#d8576b"
             ],
             [
              0.6666666666666666,
              "#ed7953"
             ],
             [
              0.7777777777777778,
              "#fb9f3a"
             ],
             [
              0.8888888888888888,
              "#fdca26"
             ],
             [
              1,
              "#f0f921"
             ]
            ],
            "type": "contour"
           }
          ],
          "contourcarpet": [
           {
            "colorbar": {
             "outlinewidth": 0,
             "ticks": ""
            },
            "type": "contourcarpet"
           }
          ],
          "heatmap": [
           {
            "colorbar": {
             "outlinewidth": 0,
             "ticks": ""
            },
            "colorscale": [
             [
              0,
              "#0d0887"
             ],
             [
              0.1111111111111111,
              "#46039f"
             ],
             [
              0.2222222222222222,
              "#7201a8"
             ],
             [
              0.3333333333333333,
              "#9c179e"
             ],
             [
              0.4444444444444444,
              "#bd3786"
             ],
             [
              0.5555555555555556,
              "#d8576b"
             ],
             [
              0.6666666666666666,
              "#ed7953"
             ],
             [
              0.7777777777777778,
              "#fb9f3a"
             ],
             [
              0.8888888888888888,
              "#fdca26"
             ],
             [
              1,
              "#f0f921"
             ]
            ],
            "type": "heatmap"
           }
          ],
          "heatmapgl": [
           {
            "colorbar": {
             "outlinewidth": 0,
             "ticks": ""
            },
            "colorscale": [
             [
              0,
              "#0d0887"
             ],
             [
              0.1111111111111111,
              "#46039f"
             ],
             [
              0.2222222222222222,
              "#7201a8"
             ],
             [
              0.3333333333333333,
              "#9c179e"
             ],
             [
              0.4444444444444444,
              "#bd3786"
             ],
             [
              0.5555555555555556,
              "#d8576b"
             ],
             [
              0.6666666666666666,
              "#ed7953"
             ],
             [
              0.7777777777777778,
              "#fb9f3a"
             ],
             [
              0.8888888888888888,
              "#fdca26"
             ],
             [
              1,
              "#f0f921"
             ]
            ],
            "type": "heatmapgl"
           }
          ],
          "histogram": [
           {
            "marker": {
             "pattern": {
              "fillmode": "overlay",
              "size": 10,
              "solidity": 0.2
             }
            },
            "type": "histogram"
           }
          ],
          "histogram2d": [
           {
            "colorbar": {
             "outlinewidth": 0,
             "ticks": ""
            },
            "colorscale": [
             [
              0,
              "#0d0887"
             ],
             [
              0.1111111111111111,
              "#46039f"
             ],
             [
              0.2222222222222222,
              "#7201a8"
             ],
             [
              0.3333333333333333,
              "#9c179e"
             ],
             [
              0.4444444444444444,
              "#bd3786"
             ],
             [
              0.5555555555555556,
              "#d8576b"
             ],
             [
              0.6666666666666666,
              "#ed7953"
             ],
             [
              0.7777777777777778,
              "#fb9f3a"
             ],
             [
              0.8888888888888888,
              "#fdca26"
             ],
             [
              1,
              "#f0f921"
             ]
            ],
            "type": "histogram2d"
           }
          ],
          "histogram2dcontour": [
           {
            "colorbar": {
             "outlinewidth": 0,
             "ticks": ""
            },
            "colorscale": [
             [
              0,
              "#0d0887"
             ],
             [
              0.1111111111111111,
              "#46039f"
             ],
             [
              0.2222222222222222,
              "#7201a8"
             ],
             [
              0.3333333333333333,
              "#9c179e"
             ],
             [
              0.4444444444444444,
              "#bd3786"
             ],
             [
              0.5555555555555556,
              "#d8576b"
             ],
             [
              0.6666666666666666,
              "#ed7953"
             ],
             [
              0.7777777777777778,
              "#fb9f3a"
             ],
             [
              0.8888888888888888,
              "#fdca26"
             ],
             [
              1,
              "#f0f921"
             ]
            ],
            "type": "histogram2dcontour"
           }
          ],
          "mesh3d": [
           {
            "colorbar": {
             "outlinewidth": 0,
             "ticks": ""
            },
            "type": "mesh3d"
           }
          ],
          "parcoords": [
           {
            "line": {
             "colorbar": {
              "outlinewidth": 0,
              "ticks": ""
             }
            },
            "type": "parcoords"
           }
          ],
          "pie": [
           {
            "automargin": true,
            "type": "pie"
           }
          ],
          "scatter": [
           {
            "marker": {
             "colorbar": {
              "outlinewidth": 0,
              "ticks": ""
             }
            },
            "type": "scatter"
           }
          ],
          "scatter3d": [
           {
            "line": {
             "colorbar": {
              "outlinewidth": 0,
              "ticks": ""
             }
            },
            "marker": {
             "colorbar": {
              "outlinewidth": 0,
              "ticks": ""
             }
            },
            "type": "scatter3d"
           }
          ],
          "scattercarpet": [
           {
            "marker": {
             "colorbar": {
              "outlinewidth": 0,
              "ticks": ""
             }
            },
            "type": "scattercarpet"
           }
          ],
          "scattergeo": [
           {
            "marker": {
             "colorbar": {
              "outlinewidth": 0,
              "ticks": ""
             }
            },
            "type": "scattergeo"
           }
          ],
          "scattergl": [
           {
            "marker": {
             "colorbar": {
              "outlinewidth": 0,
              "ticks": ""
             }
            },
            "type": "scattergl"
           }
          ],
          "scattermapbox": [
           {
            "marker": {
             "colorbar": {
              "outlinewidth": 0,
              "ticks": ""
             }
            },
            "type": "scattermapbox"
           }
          ],
          "scatterpolar": [
           {
            "marker": {
             "colorbar": {
              "outlinewidth": 0,
              "ticks": ""
             }
            },
            "type": "scatterpolar"
           }
          ],
          "scatterpolargl": [
           {
            "marker": {
             "colorbar": {
              "outlinewidth": 0,
              "ticks": ""
             }
            },
            "type": "scatterpolargl"
           }
          ],
          "scatterternary": [
           {
            "marker": {
             "colorbar": {
              "outlinewidth": 0,
              "ticks": ""
             }
            },
            "type": "scatterternary"
           }
          ],
          "surface": [
           {
            "colorbar": {
             "outlinewidth": 0,
             "ticks": ""
            },
            "colorscale": [
             [
              0,
              "#0d0887"
             ],
             [
              0.1111111111111111,
              "#46039f"
             ],
             [
              0.2222222222222222,
              "#7201a8"
             ],
             [
              0.3333333333333333,
              "#9c179e"
             ],
             [
              0.4444444444444444,
              "#bd3786"
             ],
             [
              0.5555555555555556,
              "#d8576b"
             ],
             [
              0.6666666666666666,
              "#ed7953"
             ],
             [
              0.7777777777777778,
              "#fb9f3a"
             ],
             [
              0.8888888888888888,
              "#fdca26"
             ],
             [
              1,
              "#f0f921"
             ]
            ],
            "type": "surface"
           }
          ],
          "table": [
           {
            "cells": {
             "fill": {
              "color": "#EBF0F8"
             },
             "line": {
              "color": "white"
             }
            },
            "header": {
             "fill": {
              "color": "#C8D4E3"
             },
             "line": {
              "color": "white"
             }
            },
            "type": "table"
           }
          ]
         },
         "layout": {
          "annotationdefaults": {
           "arrowcolor": "#2a3f5f",
           "arrowhead": 0,
           "arrowwidth": 1
          },
          "autotypenumbers": "strict",
          "coloraxis": {
           "colorbar": {
            "outlinewidth": 0,
            "ticks": ""
           }
          },
          "colorscale": {
           "diverging": [
            [
             0,
             "#8e0152"
            ],
            [
             0.1,
             "#c51b7d"
            ],
            [
             0.2,
             "#de77ae"
            ],
            [
             0.3,
             "#f1b6da"
            ],
            [
             0.4,
             "#fde0ef"
            ],
            [
             0.5,
             "#f7f7f7"
            ],
            [
             0.6,
             "#e6f5d0"
            ],
            [
             0.7,
             "#b8e186"
            ],
            [
             0.8,
             "#7fbc41"
            ],
            [
             0.9,
             "#4d9221"
            ],
            [
             1,
             "#276419"
            ]
           ],
           "sequential": [
            [
             0,
             "#0d0887"
            ],
            [
             0.1111111111111111,
             "#46039f"
            ],
            [
             0.2222222222222222,
             "#7201a8"
            ],
            [
             0.3333333333333333,
             "#9c179e"
            ],
            [
             0.4444444444444444,
             "#bd3786"
            ],
            [
             0.5555555555555556,
             "#d8576b"
            ],
            [
             0.6666666666666666,
             "#ed7953"
            ],
            [
             0.7777777777777778,
             "#fb9f3a"
            ],
            [
             0.8888888888888888,
             "#fdca26"
            ],
            [
             1,
             "#f0f921"
            ]
           ],
           "sequentialminus": [
            [
             0,
             "#0d0887"
            ],
            [
             0.1111111111111111,
             "#46039f"
            ],
            [
             0.2222222222222222,
             "#7201a8"
            ],
            [
             0.3333333333333333,
             "#9c179e"
            ],
            [
             0.4444444444444444,
             "#bd3786"
            ],
            [
             0.5555555555555556,
             "#d8576b"
            ],
            [
             0.6666666666666666,
             "#ed7953"
            ],
            [
             0.7777777777777778,
             "#fb9f3a"
            ],
            [
             0.8888888888888888,
             "#fdca26"
            ],
            [
             1,
             "#f0f921"
            ]
           ]
          },
          "colorway": [
           "#636efa",
           "#EF553B",
           "#00cc96",
           "#ab63fa",
           "#FFA15A",
           "#19d3f3",
           "#FF6692",
           "#B6E880",
           "#FF97FF",
           "#FECB52"
          ],
          "font": {
           "color": "#2a3f5f"
          },
          "geo": {
           "bgcolor": "white",
           "lakecolor": "white",
           "landcolor": "#E5ECF6",
           "showlakes": true,
           "showland": true,
           "subunitcolor": "white"
          },
          "hoverlabel": {
           "align": "left"
          },
          "hovermode": "closest",
          "mapbox": {
           "style": "light"
          },
          "paper_bgcolor": "white",
          "plot_bgcolor": "#E5ECF6",
          "polar": {
           "angularaxis": {
            "gridcolor": "white",
            "linecolor": "white",
            "ticks": ""
           },
           "bgcolor": "#E5ECF6",
           "radialaxis": {
            "gridcolor": "white",
            "linecolor": "white",
            "ticks": ""
           }
          },
          "scene": {
           "xaxis": {
            "backgroundcolor": "#E5ECF6",
            "gridcolor": "white",
            "gridwidth": 2,
            "linecolor": "white",
            "showbackground": true,
            "ticks": "",
            "zerolinecolor": "white"
           },
           "yaxis": {
            "backgroundcolor": "#E5ECF6",
            "gridcolor": "white",
            "gridwidth": 2,
            "linecolor": "white",
            "showbackground": true,
            "ticks": "",
            "zerolinecolor": "white"
           },
           "zaxis": {
            "backgroundcolor": "#E5ECF6",
            "gridcolor": "white",
            "gridwidth": 2,
            "linecolor": "white",
            "showbackground": true,
            "ticks": "",
            "zerolinecolor": "white"
           }
          },
          "shapedefaults": {
           "line": {
            "color": "#2a3f5f"
           }
          },
          "ternary": {
           "aaxis": {
            "gridcolor": "white",
            "linecolor": "white",
            "ticks": ""
           },
           "baxis": {
            "gridcolor": "white",
            "linecolor": "white",
            "ticks": ""
           },
           "bgcolor": "#E5ECF6",
           "caxis": {
            "gridcolor": "white",
            "linecolor": "white",
            "ticks": ""
           }
          },
          "title": {
           "x": 0.05
          },
          "xaxis": {
           "automargin": true,
           "gridcolor": "white",
           "linecolor": "white",
           "ticks": "",
           "title": {
            "standoff": 15
           },
           "zerolinecolor": "white",
           "zerolinewidth": 2
          },
          "yaxis": {
           "automargin": true,
           "gridcolor": "white",
           "linecolor": "white",
           "ticks": "",
           "title": {
            "standoff": 15
           },
           "zerolinecolor": "white",
           "zerolinewidth": 2
          }
         }
        }
       }
      },
      "image/png": "[encoded data removed]",
      "text/html": [
       "<div>                            <div id=\"542b1374-31d3-4314-817e-710f672a824a\" class=\"plotly-graph-div\" style=\"height:525px; width:100%;\"></div>            <script type=\"text/javascript\">                require([\"plotly\"], function(Plotly) {                    window.PLOTLYENV=window.PLOTLYENV || {};                                    if (document.getElementById(\"542b1374-31d3-4314-817e-710f672a824a\")) {                    Plotly.newPlot(                        \"542b1374-31d3-4314-817e-710f672a824a\",                        [{\"colorscale\":[[0.0,\"rgb(141,211,199)\"],[1.0,\"rgb(141,211,199)\"]],\"geo\":\"geo\",\"hovertemplate\":\"<b>%{hovertext}</b><br><br>cluster=0<br>iso=%{location}<extra></extra>\",\"hovertext\":[\"Egypt\"],\"locations\":[\"EGY\"],\"name\":\"0\",\"showlegend\":true,\"showscale\":false,\"type\":\"choropleth\",\"z\":[1]},{\"colorscale\":[[0.0,\"rgb(255,255,179)\"],[1.0,\"rgb(255,255,179)\"]],\"geo\":\"geo\",\"hovertemplate\":\"<b>%{hovertext}</b><br><br>cluster=1<br>iso=%{location}<extra></extra>\",\"hovertext\":[\"Bolivia\",\"Dominican Republic\"],\"locations\":[\"BOL\",\"DOM\"],\"name\":\"1\",\"showlegend\":true,\"showscale\":false,\"type\":\"choropleth\",\"z\":[1,1]},{\"colorscale\":[[0.0,\"rgb(190,186,218)\"],[1.0,\"rgb(190,186,218)\"]],\"geo\":\"geo\",\"hovertemplate\":\"<b>%{hovertext}</b><br><br>cluster=2<br>iso=%{location}<extra></extra>\",\"hovertext\":[\"Ethiopia\",\"Kenya\"],\"locations\":[\"ETH\",\"KEN\"],\"name\":\"2\",\"showlegend\":true,\"showscale\":false,\"type\":\"choropleth\",\"z\":[1,1]},{\"colorscale\":[[0.0,\"rgb(251,128,114)\"],[1.0,\"rgb(251,128,114)\"]],\"geo\":\"geo\",\"hovertemplate\":\"<b>%{hovertext}</b><br><br>cluster=3<br>iso=%{location}<extra></extra>\",\"hovertext\":[\"Hong Kong\",\"Sudan\",\"Burkina Faso\",\"Mali\",\"Papua New Guinea\",\"Taiwan\",\"Laos\",\"Mauritius\",\"New Zealand\",\"Madagascar\",\"Lesotho\",\"Botswana\",\"Burundi\",\"Djibouti\",\"South Sudan\",\"Cameroon\",\"Gabon\",\"Somalia\",\"Yemen\",\"Timor\",\"Tajikistan\",\"Congo\",\"Eritrea\",\"Chad\",\"Niger\",\"Gambia\",\"Guinea-Bissau\",\"Benin\",\"Equatorial Guinea\",\"Central African Republic\",\"Nicaragua\",\"Tanzania\",\"Liberia\",\"Sierra Leone\"],\"locations\":[\"HKG\",\"SDN\",\"BFA\",\"MLI\",\"PNG\",\"TWN\",\"LAO\",\"MUS\",\"NZL\",\"MDG\",\"LSO\",\"BWA\",\"BDI\",\"DJI\",\"SSD\",\"CMR\",\"GAB\",\"SOM\",\"YEM\",\"TLS\",\"TJK\",\"COG\",\"ERI\",\"TCD\",\"NER\",\"GMB\",\"GNB\",\"BEN\",\"GNQ\",\"CAF\",\"NIC\",\"TZA\",\"LBR\",\"SLE\"],\"name\":\"3\",\"showlegend\":true,\"showscale\":false,\"type\":\"choropleth\",\"z\":[1,1,1,1,1,1,1,1,1,1,1,1,1,1,1,1,1,1,1,1,1,1,1,1,1,1,1,1,1,1,1,1,1,1]},{\"colorscale\":[[0.0,\"rgb(128,177,211)\"],[1.0,\"rgb(128,177,211)\"]],\"geo\":\"geo\",\"hovertemplate\":\"<b>%{hovertext}</b><br><br>cluster=4<br>iso=%{location}<extra></extra>\",\"hovertext\":[\"Jamaica\",\"Libya\",\"Sweden\",\"Kosovo\",\"Palestine\",\"Albania\",\"Bosnia and Herzegovina\",\"North Macedonia\",\"Bulgaria\",\"Serbia\",\"Moldova\",\"Romania\",\"Lebanon\",\"United States\",\"Armenia\",\"Azerbaijan\",\"Syria\",\"Ukraine\"],\"locations\":[\"JAM\",\"LBY\",\"SWE\",\"XXX\",\"PSE\",\"ALB\",\"BIH\",\"MKD\",\"BGR\",\"SRB\",\"MDA\",\"ROU\",\"LBN\",\"USA\",\"ARM\",\"AZE\",\"SYR\",\"UKR\"],\"name\":\"4\",\"showlegend\":true,\"showscale\":false,\"type\":\"choropleth\",\"z\":[1,1,1,1,1,1,1,1,1,1,1,1,1,1,1,1,1,1]},{\"colorscale\":[[0.0,\"rgb(253,180,98)\"],[1.0,\"rgb(253,180,98)\"]],\"geo\":\"geo\",\"hovertemplate\":\"<b>%{hovertext}</b><br><br>cluster=5<br>iso=%{location}<extra></extra>\",\"hovertext\":[\"Afghanistan\",\"Bangladesh\",\"Pakistan\"],\"locations\":[\"AFG\",\"BGD\",\"PAK\"],\"name\":\"5\",\"showlegend\":true,\"showscale\":false,\"type\":\"choropleth\",\"z\":[1,1,1]},{\"colorscale\":[[0.0,\"rgb(179,222,105)\"],[1.0,\"rgb(179,222,105)\"]],\"geo\":\"geo\",\"hovertemplate\":\"<b>%{hovertext}</b><br><br>cluster=6<br>iso=%{location}<extra></extra>\",\"hovertext\":[\"Turkey\",\"Georgia\",\"Belarus\",\"Russia\",\"South Korea\",\"Norway\",\"Finland\",\"Greece\",\"Portugal\",\"Ireland\",\"United Kingdom\",\"Canada\",\"France\",\"Italy\",\"Czechia\",\"Slovakia\",\"Poland\",\"Hungary\",\"Jordan\",\"Estonia\",\"Latvia\",\"Denmark\",\"Netherlands\",\"Belgium\",\"Austria\",\"Germany\",\"Switzerland\",\"Croatia\",\"Lithuania\",\"Slovenia\",\"Spain\",\"Uruguay\"],\"locations\":[\"TUR\",\"GEO\",\"BLR\",\"RUS\",\"KOR\",\"NOR\",\"FIN\",\"GRC\",\"PRT\",\"IRL\",\"GBR\",\"CAN\",\"FRA\",\"ITA\",\"CZE\",\"SVK\",\"POL\",\"HUN\",\"JOR\",\"EST\",\"LVA\",\"DNK\",\"NLD\",\"BEL\",\"AUT\",\"DEU\",\"CHE\",\"HRV\",\"LTU\",\"SVN\",\"ESP\",\"URY\"],\"name\":\"6\",\"showlegend\":true,\"showscale\":false,\"type\":\"choropleth\",\"z\":[1,1,1,1,1,1,1,1,1,1,1,1,1,1,1,1,1,1,1,1,1,1,1,1,1,1,1,1,1,1,1,1]},{\"colorscale\":[[0.0,\"rgb(252,205,229)\"],[1.0,\"rgb(252,205,229)\"]],\"geo\":\"geo\",\"hovertemplate\":\"<b>%{hovertext}</b><br><br>cluster=7<br>iso=%{location}<extra></extra>\",\"hovertext\":[\"China\",\"Australia\",\"Singapore\"],\"locations\":[\"CHN\",\"AUS\",\"SGP\"],\"name\":\"7\",\"showlegend\":true,\"showscale\":false,\"type\":\"choropleth\",\"z\":[1,1,1]},{\"colorscale\":[[0.0,\"rgb(217,217,217)\"],[1.0,\"rgb(217,217,217)\"]],\"geo\":\"geo\",\"hovertemplate\":\"<b>%{hovertext}</b><br><br>cluster=8<br>iso=%{location}<extra></extra>\",\"hovertext\":[\"Panama\",\"South Africa\",\"Algeria\",\"Kyrgyzstan\",\"Mexico\",\"Morocco\"],\"locations\":[\"PAN\",\"ZAF\",\"DZA\",\"KGZ\",\"MEX\",\"MAR\"],\"name\":\"8\",\"showlegend\":true,\"showscale\":false,\"type\":\"choropleth\",\"z\":[1,1,1,1,1,1]},{\"colorscale\":[[0.0,\"rgb(188,128,189)\"],[1.0,\"rgb(188,128,189)\"]],\"geo\":\"geo\",\"hovertemplate\":\"<b>%{hovertext}</b><br><br>cluster=9<br>iso=%{location}<extra></extra>\",\"hovertext\":[\"El Salvador\",\"Honduras\",\"Myanmar\",\"Costa Rica\",\"Tunisia\",\"Angola\",\"Uganda\"],\"locations\":[\"SLV\",\"HND\",\"MMR\",\"CRI\",\"TUN\",\"AGO\",\"UGA\"],\"name\":\"9\",\"showlegend\":true,\"showscale\":false,\"type\":\"choropleth\",\"z\":[1,1,1,1,1,1,1]},{\"colorscale\":[[0.0,\"rgb(204,235,197)\"],[1.0,\"rgb(204,235,197)\"]],\"geo\":\"geo\",\"hovertemplate\":\"<b>%{hovertext}</b><br><br>cluster=10<br>iso=%{location}<extra></extra>\",\"hovertext\":[\"Israel\",\"Japan\"],\"locations\":[\"ISR\",\"JPN\"],\"name\":\"10\",\"showlegend\":true,\"showscale\":false,\"type\":\"choropleth\",\"z\":[1,1]},{\"colorscale\":[[0.0,\"rgb(255,237,111)\"],[1.0,\"rgb(255,237,111)\"]],\"geo\":\"geo\",\"hovertemplate\":\"<b>%{hovertext}</b><br><br>cluster=11<br>iso=%{location}<extra></extra>\",\"hovertext\":[\"Malaysia\",\"Thailand\",\"Cuba\",\"Sri Lanka\",\"Cambodia\",\"Mongolia\",\"Trinidad and Tobago\",\"Vietnam\"],\"locations\":[\"MYS\",\"THA\",\"CUB\",\"LKA\",\"KHM\",\"MNG\",\"TTO\",\"VNM\"],\"name\":\"11\",\"showlegend\":true,\"showscale\":false,\"type\":\"choropleth\",\"z\":[1,1,1,1,1,1,1,1]},{\"colorscale\":[[0.0,\"rgb(160, 97, 119)\"],[1.0,\"rgb(160, 97, 119)\"]],\"geo\":\"geo\",\"hovertemplate\":\"<b>%{hovertext}</b><br><br>cluster=12<br>iso=%{location}<extra></extra>\",\"hovertext\":[\"Bahrain\",\"Chile\",\"Brazil\",\"Ecuador\",\"United Arab Emirates\",\"Paraguay\",\"Argentina\",\"Colombia\",\"Peru\",\"Qatar\",\"Saudi Arabia\",\"Kuwait\",\"Oman\"],\"locations\":[\"BHR\",\"CHL\",\"BRA\",\"ECU\",\"ARE\",\"PRY\",\"ARG\",\"COL\",\"PER\",\"QAT\",\"SAU\",\"KWT\",\"OMN\"],\"name\":\"12\",\"showlegend\":true,\"showscale\":false,\"type\":\"choropleth\",\"z\":[1,1,1,1,1,1,1,1,1,1,1,1,1]},{\"colorscale\":[[0.0,\"rgb(140, 120, 93)\"],[1.0,\"rgb(140, 120, 93)\"]],\"geo\":\"geo\",\"hovertemplate\":\"<b>%{hovertext}</b><br><br>cluster=13<br>iso=%{location}<extra></extra>\",\"hovertext\":[\"Indonesia\",\"Iran\",\"Nepal\",\"India\",\"Iraq\",\"Guatemala\",\"Uzbekistan\",\"Kazakhstan\",\"Philippines\",\"Venezuela\"],\"locations\":[\"IDN\",\"IRN\",\"NPL\",\"IND\",\"IRQ\",\"GTM\",\"UZB\",\"KAZ\",\"PHL\",\"VEN\"],\"name\":\"13\",\"showlegend\":true,\"showscale\":false,\"type\":\"choropleth\",\"z\":[1,1,1,1,1,1,1,1,1,1]},{\"colorscale\":[[0.0,\"rgb(124, 124, 124)\"],[1.0,\"rgb(124, 124, 124)\"]],\"geo\":\"geo\",\"hovertemplate\":\"<b>%{hovertext}</b><br><br>cluster=14<br>iso=%{location}<extra></extra>\",\"hovertext\":[\"Nigeria\",\"Zimbabwe\",\"Zambia\",\"Mozambique\",\"Namibia\",\"Rwanda\",\"Guinea\",\"Senegal\",\"Cote d'Ivoire\",\"Ghana\",\"Togo\",\"Eswatini\",\"Malawi\",\"Haiti\",\"Democratic Republic of Congo\",\"Mauritania\"],\"locations\":[\"NGA\",\"ZWE\",\"ZMB\",\"MOZ\",\"NAM\",\"RWA\",\"GIN\",\"SEN\",\"CIV\",\"GHA\",\"TGO\",\"SWZ\",\"MWI\",\"HTI\",\"COD\",\"MRT\"],\"name\":\"14\",\"showlegend\":true,\"showscale\":false,\"type\":\"choropleth\",\"z\":[1,1,1,1,1,1,1,1,1,1,1,1,1,1,1,1]}],                        {\"geo\":{\"center\":{},\"domain\":{\"x\":[0.0,1.0],\"y\":[0.0,1.0]}},\"legend\":{\"title\":{\"text\":\"cluster\"},\"tracegroupgap\":0},\"margin\":{\"b\":5,\"l\":5,\"r\":5,\"t\":5},\"template\":{\"data\":{\"bar\":[{\"error_x\":{\"color\":\"#2a3f5f\"},\"error_y\":{\"color\":\"#2a3f5f\"},\"marker\":{\"line\":{\"color\":\"#E5ECF6\",\"width\":0.5},\"pattern\":{\"fillmode\":\"overlay\",\"size\":10,\"solidity\":0.2}},\"type\":\"bar\"}],\"barpolar\":[{\"marker\":{\"line\":{\"color\":\"#E5ECF6\",\"width\":0.5},\"pattern\":{\"fillmode\":\"overlay\",\"size\":10,\"solidity\":0.2}},\"type\":\"barpolar\"}],\"carpet\":[{\"aaxis\":{\"endlinecolor\":\"#2a3f5f\",\"gridcolor\":\"white\",\"linecolor\":\"white\",\"minorgridcolor\":\"white\",\"startlinecolor\":\"#2a3f5f\"},\"baxis\":{\"endlinecolor\":\"#2a3f5f\",\"gridcolor\":\"white\",\"linecolor\":\"white\",\"minorgridcolor\":\"white\",\"startlinecolor\":\"#2a3f5f\"},\"type\":\"carpet\"}],\"choropleth\":[{\"colorbar\":{\"outlinewidth\":0,\"ticks\":\"\"},\"type\":\"choropleth\"}],\"contour\":[{\"colorbar\":{\"outlinewidth\":0,\"ticks\":\"\"},\"colorscale\":[[0.0,\"#0d0887\"],[0.1111111111111111,\"#46039f\"],[0.2222222222222222,\"#7201a8\"],[0.3333333333333333,\"#9c179e\"],[0.4444444444444444,\"#bd3786\"],[0.5555555555555556,\"#d8576b\"],[0.6666666666666666,\"#ed7953\"],[0.7777777777777778,\"#fb9f3a\"],[0.8888888888888888,\"#fdca26\"],[1.0,\"#f0f921\"]],\"type\":\"contour\"}],\"contourcarpet\":[{\"colorbar\":{\"outlinewidth\":0,\"ticks\":\"\"},\"type\":\"contourcarpet\"}],\"heatmap\":[{\"colorbar\":{\"outlinewidth\":0,\"ticks\":\"\"},\"colorscale\":[[0.0,\"#0d0887\"],[0.1111111111111111,\"#46039f\"],[0.2222222222222222,\"#7201a8\"],[0.3333333333333333,\"#9c179e\"],[0.4444444444444444,\"#bd3786\"],[0.5555555555555556,\"#d8576b\"],[0.6666666666666666,\"#ed7953\"],[0.7777777777777778,\"#fb9f3a\"],[0.8888888888888888,\"#fdca26\"],[1.0,\"#f0f921\"]],\"type\":\"heatmap\"}],\"heatmapgl\":[{\"colorbar\":{\"outlinewidth\":0,\"ticks\":\"\"},\"colorscale\":[[0.0,\"#0d0887\"],[0.1111111111111111,\"#46039f\"],[0.2222222222222222,\"#7201a8\"],[0.3333333333333333,\"#9c179e\"],[0.4444444444444444,\"#bd3786\"],[0.5555555555555556,\"#d8576b\"],[0.6666666666666666,\"#ed7953\"],[0.7777777777777778,\"#fb9f3a\"],[0.8888888888888888,\"#fdca26\"],[1.0,\"#f0f921\"]],\"type\":\"heatmapgl\"}],\"histogram\":[{\"marker\":{\"pattern\":{\"fillmode\":\"overlay\",\"size\":10,\"solidity\":0.2}},\"type\":\"histogram\"}],\"histogram2d\":[{\"colorbar\":{\"outlinewidth\":0,\"ticks\":\"\"},\"colorscale\":[[0.0,\"#0d0887\"],[0.1111111111111111,\"#46039f\"],[0.2222222222222222,\"#7201a8\"],[0.3333333333333333,\"#9c179e\"],[0.4444444444444444,\"#bd3786\"],[0.5555555555555556,\"#d8576b\"],[0.6666666666666666,\"#ed7953\"],[0.7777777777777778,\"#fb9f3a\"],[0.8888888888888888,\"#fdca26\"],[1.0,\"#f0f921\"]],\"type\":\"histogram2d\"}],\"histogram2dcontour\":[{\"colorbar\":{\"outlinewidth\":0,\"ticks\":\"\"},\"colorscale\":[[0.0,\"#0d0887\"],[0.1111111111111111,\"#46039f\"],[0.2222222222222222,\"#7201a8\"],[0.3333333333333333,\"#9c179e\"],[0.4444444444444444,\"#bd3786\"],[0.5555555555555556,\"#d8576b\"],[0.6666666666666666,\"#ed7953\"],[0.7777777777777778,\"#fb9f3a\"],[0.8888888888888888,\"#fdca26\"],[1.0,\"#f0f921\"]],\"type\":\"histogram2dcontour\"}],\"mesh3d\":[{\"colorbar\":{\"outlinewidth\":0,\"ticks\":\"\"},\"type\":\"mesh3d\"}],\"parcoords\":[{\"line\":{\"colorbar\":{\"outlinewidth\":0,\"ticks\":\"\"}},\"type\":\"parcoords\"}],\"pie\":[{\"automargin\":true,\"type\":\"pie\"}],\"scatter\":[{\"marker\":{\"colorbar\":{\"outlinewidth\":0,\"ticks\":\"\"}},\"type\":\"scatter\"}],\"scatter3d\":[{\"line\":{\"colorbar\":{\"outlinewidth\":0,\"ticks\":\"\"}},\"marker\":{\"colorbar\":{\"outlinewidth\":0,\"ticks\":\"\"}},\"type\":\"scatter3d\"}],\"scattercarpet\":[{\"marker\":{\"colorbar\":{\"outlinewidth\":0,\"ticks\":\"\"}},\"type\":\"scattercarpet\"}],\"scattergeo\":[{\"marker\":{\"colorbar\":{\"outlinewidth\":0,\"ticks\":\"\"}},\"type\":\"scattergeo\"}],\"scattergl\":[{\"marker\":{\"colorbar\":{\"outlinewidth\":0,\"ticks\":\"\"}},\"type\":\"scattergl\"}],\"scattermapbox\":[{\"marker\":{\"colorbar\":{\"outlinewidth\":0,\"ticks\":\"\"}},\"type\":\"scattermapbox\"}],\"scatterpolar\":[{\"marker\":{\"colorbar\":{\"outlinewidth\":0,\"ticks\":\"\"}},\"type\":\"scatterpolar\"}],\"scatterpolargl\":[{\"marker\":{\"colorbar\":{\"outlinewidth\":0,\"ticks\":\"\"}},\"type\":\"scatterpolargl\"}],\"scatterternary\":[{\"marker\":{\"colorbar\":{\"outlinewidth\":0,\"ticks\":\"\"}},\"type\":\"scatterternary\"}],\"surface\":[{\"colorbar\":{\"outlinewidth\":0,\"ticks\":\"\"},\"colorscale\":[[0.0,\"#0d0887\"],[0.1111111111111111,\"#46039f\"],[0.2222222222222222,\"#7201a8\"],[0.3333333333333333,\"#9c179e\"],[0.4444444444444444,\"#bd3786\"],[0.5555555555555556,\"#d8576b\"],[0.6666666666666666,\"#ed7953\"],[0.7777777777777778,\"#fb9f3a\"],[0.8888888888888888,\"#fdca26\"],[1.0,\"#f0f921\"]],\"type\":\"surface\"}],\"table\":[{\"cells\":{\"fill\":{\"color\":\"#EBF0F8\"},\"line\":{\"color\":\"white\"}},\"header\":{\"fill\":{\"color\":\"#C8D4E3\"},\"line\":{\"color\":\"white\"}},\"type\":\"table\"}]},\"layout\":{\"annotationdefaults\":{\"arrowcolor\":\"#2a3f5f\",\"arrowhead\":0,\"arrowwidth\":1},\"autotypenumbers\":\"strict\",\"coloraxis\":{\"colorbar\":{\"outlinewidth\":0,\"ticks\":\"\"}},\"colorscale\":{\"diverging\":[[0,\"#8e0152\"],[0.1,\"#c51b7d\"],[0.2,\"#de77ae\"],[0.3,\"#f1b6da\"],[0.4,\"#fde0ef\"],[0.5,\"#f7f7f7\"],[0.6,\"#e6f5d0\"],[0.7,\"#b8e186\"],[0.8,\"#7fbc41\"],[0.9,\"#4d9221\"],[1,\"#276419\"]],\"sequential\":[[0.0,\"#0d0887\"],[0.1111111111111111,\"#46039f\"],[0.2222222222222222,\"#7201a8\"],[0.3333333333333333,\"#9c179e\"],[0.4444444444444444,\"#bd3786\"],[0.5555555555555556,\"#d8576b\"],[0.6666666666666666,\"#ed7953\"],[0.7777777777777778,\"#fb9f3a\"],[0.8888888888888888,\"#fdca26\"],[1.0,\"#f0f921\"]],\"sequentialminus\":[[0.0,\"#0d0887\"],[0.1111111111111111,\"#46039f\"],[0.2222222222222222,\"#7201a8\"],[0.3333333333333333,\"#9c179e\"],[0.4444444444444444,\"#bd3786\"],[0.5555555555555556,\"#d8576b\"],[0.6666666666666666,\"#ed7953\"],[0.7777777777777778,\"#fb9f3a\"],[0.8888888888888888,\"#fdca26\"],[1.0,\"#f0f921\"]]},\"colorway\":[\"#636efa\",\"#EF553B\",\"#00cc96\",\"#ab63fa\",\"#FFA15A\",\"#19d3f3\",\"#FF6692\",\"#B6E880\",\"#FF97FF\",\"#FECB52\"],\"font\":{\"color\":\"#2a3f5f\"},\"geo\":{\"bgcolor\":\"white\",\"lakecolor\":\"white\",\"landcolor\":\"#E5ECF6\",\"showlakes\":true,\"showland\":true,\"subunitcolor\":\"white\"},\"hoverlabel\":{\"align\":\"left\"},\"hovermode\":\"closest\",\"mapbox\":{\"style\":\"light\"},\"paper_bgcolor\":\"white\",\"plot_bgcolor\":\"#E5ECF6\",\"polar\":{\"angularaxis\":{\"gridcolor\":\"white\",\"linecolor\":\"white\",\"ticks\":\"\"},\"bgcolor\":\"#E5ECF6\",\"radialaxis\":{\"gridcolor\":\"white\",\"linecolor\":\"white\",\"ticks\":\"\"}},\"scene\":{\"xaxis\":{\"backgroundcolor\":\"#E5ECF6\",\"gridcolor\":\"white\",\"gridwidth\":2,\"linecolor\":\"white\",\"showbackground\":true,\"ticks\":\"\",\"zerolinecolor\":\"white\"},\"yaxis\":{\"backgroundcolor\":\"#E5ECF6\",\"gridcolor\":\"white\",\"gridwidth\":2,\"linecolor\":\"white\",\"showbackground\":true,\"ticks\":\"\",\"zerolinecolor\":\"white\"},\"zaxis\":{\"backgroundcolor\":\"#E5ECF6\",\"gridcolor\":\"white\",\"gridwidth\":2,\"linecolor\":\"white\",\"showbackground\":true,\"ticks\":\"\",\"zerolinecolor\":\"white\"}},\"shapedefaults\":{\"line\":{\"color\":\"#2a3f5f\"}},\"ternary\":{\"aaxis\":{\"gridcolor\":\"white\",\"linecolor\":\"white\",\"ticks\":\"\"},\"baxis\":{\"gridcolor\":\"white\",\"linecolor\":\"white\",\"ticks\":\"\"},\"bgcolor\":\"#E5ECF6\",\"caxis\":{\"gridcolor\":\"white\",\"linecolor\":\"white\",\"ticks\":\"\"}},\"title\":{\"x\":0.05},\"xaxis\":{\"automargin\":true,\"gridcolor\":\"white\",\"linecolor\":\"white\",\"ticks\":\"\",\"title\":{\"standoff\":15},\"zerolinecolor\":\"white\",\"zerolinewidth\":2},\"yaxis\":{\"automargin\":true,\"gridcolor\":\"white\",\"linecolor\":\"white\",\"ticks\":\"\",\"title\":{\"standoff\":15},\"zerolinecolor\":\"white\",\"zerolinewidth\":2}}}},                        {\"responsive\": true}                    ).then(function(){\n",
       "                            \n",
       "var gd = document.getElementById('542b1374-31d3-4314-817e-710f672a824a');\n",
       "var x = new MutationObserver(function (mutations, observer) {{\n",
       "        var display = window.getComputedStyle(gd).display;\n",
       "        if (!display || display === 'none') {{\n",
       "            console.log([gd, 'removed!']);\n",
       "            Plotly.purge(gd);\n",
       "            observer.disconnect();\n",
       "        }}\n",
       "}});\n",
       "\n",
       "// Listen for the removal of the full notebook cells\n",
       "var notebookContainer = gd.closest('#notebook-container');\n",
       "if (notebookContainer) {{\n",
       "    x.observe(notebookContainer, {childList: true});\n",
       "}}\n",
       "\n",
       "// Listen for the clearing of the current output cell\n",
       "var outputEl = gd.closest('.output');\n",
       "if (outputEl) {{\n",
       "    x.observe(outputEl, {childList: true});\n",
       "}}\n",
       "\n",
       "                        })                };                });            </script>        </div>"
      ]
     },
     "metadata": {},
     "output_type": "display_data"
    }
   ],
   "source": [
    "fig = px.choropleth(mapDF, locations=\"iso\",\n",
    "                    color=\"cluster\", # lifeExp is a column of gapminder\n",
    "                    hover_name=\"location\", # column to add to hover information\n",
    "                    color_discrete_sequence=px.colors.qualitative.Set3 + px.colors.qualitative.Antique[-3:]\n",
    "                   )\n",
    "fig.update_layout(margin=dict(l=5, r=5, t=5, b=5))\n",
    "fig.show()"
   ]
  },
  {
   "cell_type": "code",
   "execution_count": 107,
   "id": "f50cc86d-be39-4fa3-a29b-df733d106382",
   "metadata": {},
   "outputs": [
    {
     "data": {
      "text/plain": [
       "['#EEA6FB',\n",
       " '#DC587D',\n",
       " '#D626FF',\n",
       " '#6E899C',\n",
       " '#00B5F7',\n",
       " '#B68E00',\n",
       " '#C9FBE5',\n",
       " '#FF0092',\n",
       " '#22FFA7',\n",
       " '#E3EE9E',\n",
       " '#86CE00',\n",
       " '#BC7196',\n",
       " '#7E7DCD',\n",
       " '#FC6955',\n",
       " '#E48F72']"
      ]
     },
     "execution_count": 107,
     "metadata": {},
     "output_type": "execute_result"
    }
   ],
   "source": [
    "px.colors.qualitative.Light24[-15:]"
   ]
  },
  {
   "cell_type": "code",
   "execution_count": 111,
   "id": "b97956a5-1af8-4d93-9f46-0cce266ad0c6",
   "metadata": {},
   "outputs": [
    {
     "data": {
      "application/vnd.plotly.v1+json": {
       "config": {
        "plotlyServerURL": "https://plot.ly"
       },
       "data": [
        {
         "customdata": [
          0,
          1,
          2,
          3,
          4,
          5,
          6,
          7,
          8,
          9,
          10
         ],
         "hovertemplate": "%{y}[%{customdata}] = %{marker.color}<extra></extra>",
         "marker": {
          "color": [
           "rgb(229, 134, 6)",
           "rgb(93, 105, 177)",
           "rgb(82, 188, 163)",
           "rgb(153, 201, 69)",
           "rgb(204, 97, 176)",
           "rgb(36, 121, 108)",
           "rgb(218, 165, 27)",
           "rgb(47, 138, 196)",
           "rgb(118, 78, 159)",
           "rgb(237, 100, 90)",
           "rgb(165, 170, 153)"
          ]
         },
         "orientation": "h",
         "type": "bar",
         "x": [
          1,
          1,
          1,
          1,
          1,
          1,
          1,
          1,
          1,
          1,
          1
         ],
         "y": [
          "Vivid",
          "Vivid",
          "Vivid",
          "Vivid",
          "Vivid",
          "Vivid",
          "Vivid",
          "Vivid",
          "Vivid",
          "Vivid",
          "Vivid"
         ]
        },
        {
         "customdata": [
          0,
          1,
          2,
          3,
          4,
          5,
          6,
          7,
          8,
          9,
          10
         ],
         "hovertemplate": "%{y}[%{customdata}] = %{marker.color}<extra></extra>",
         "marker": {
          "color": [
           "rgb(136, 204, 238)",
           "rgb(204, 102, 119)",
           "rgb(221, 204, 119)",
           "rgb(17, 119, 51)",
           "rgb(51, 34, 136)",
           "rgb(170, 68, 153)",
           "rgb(68, 170, 153)",
           "rgb(153, 153, 51)",
           "rgb(136, 34, 85)",
           "rgb(102, 17, 0)",
           "rgb(136, 136, 136)"
          ]
         },
         "orientation": "h",
         "type": "bar",
         "x": [
          1,
          1,
          1,
          1,
          1,
          1,
          1,
          1,
          1,
          1,
          1
         ],
         "y": [
          "Safe",
          "Safe",
          "Safe",
          "Safe",
          "Safe",
          "Safe",
          "Safe",
          "Safe",
          "Safe",
          "Safe",
          "Safe"
         ]
        },
        {
         "customdata": [
          0,
          1,
          2,
          3,
          4,
          5,
          6,
          7,
          8,
          9,
          10
         ],
         "hovertemplate": "%{y}[%{customdata}] = %{marker.color}<extra></extra>",
         "marker": {
          "color": [
           "rgb(95, 70, 144)",
           "rgb(29, 105, 150)",
           "rgb(56, 166, 165)",
           "rgb(15, 133, 84)",
           "rgb(115, 175, 72)",
           "rgb(237, 173, 8)",
           "rgb(225, 124, 5)",
           "rgb(204, 80, 62)",
           "rgb(148, 52, 110)",
           "rgb(111, 64, 112)",
           "rgb(102, 102, 102)"
          ]
         },
         "orientation": "h",
         "type": "bar",
         "x": [
          1,
          1,
          1,
          1,
          1,
          1,
          1,
          1,
          1,
          1,
          1
         ],
         "y": [
          "Prism",
          "Prism",
          "Prism",
          "Prism",
          "Prism",
          "Prism",
          "Prism",
          "Prism",
          "Prism",
          "Prism",
          "Prism"
         ]
        },
        {
         "customdata": [
          0,
          1,
          2,
          3,
          4,
          5,
          6,
          7,
          8,
          9,
          10
         ],
         "hovertemplate": "%{y}[%{customdata}] = %{marker.color}<extra></extra>",
         "marker": {
          "color": [
           "rgb(102, 197, 204)",
           "rgb(246, 207, 113)",
           "rgb(248, 156, 116)",
           "rgb(220, 176, 242)",
           "rgb(135, 197, 95)",
           "rgb(158, 185, 243)",
           "rgb(254, 136, 177)",
           "rgb(201, 219, 116)",
           "rgb(139, 224, 164)",
           "rgb(180, 151, 231)",
           "rgb(179, 179, 179)"
          ]
         },
         "orientation": "h",
         "type": "bar",
         "x": [
          1,
          1,
          1,
          1,
          1,
          1,
          1,
          1,
          1,
          1,
          1
         ],
         "y": [
          "Pastel",
          "Pastel",
          "Pastel",
          "Pastel",
          "Pastel",
          "Pastel",
          "Pastel",
          "Pastel",
          "Pastel",
          "Pastel",
          "Pastel"
         ]
        },
        {
         "customdata": [
          0,
          1,
          2,
          3,
          4,
          5,
          6,
          7,
          8,
          9,
          10
         ],
         "hovertemplate": "%{y}[%{customdata}] = %{marker.color}<extra></extra>",
         "marker": {
          "color": [
           "rgb(127, 60, 141)",
           "rgb(17, 165, 121)",
           "rgb(57, 105, 172)",
           "rgb(242, 183, 1)",
           "rgb(231, 63, 116)",
           "rgb(128, 186, 90)",
           "rgb(230, 131, 16)",
           "rgb(0, 134, 149)",
           "rgb(207, 28, 144)",
           "rgb(249, 123, 114)",
           "rgb(165, 170, 153)"
          ]
         },
         "orientation": "h",
         "type": "bar",
         "x": [
          1,
          1,
          1,
          1,
          1,
          1,
          1,
          1,
          1,
          1,
          1
         ],
         "y": [
          "Bold",
          "Bold",
          "Bold",
          "Bold",
          "Bold",
          "Bold",
          "Bold",
          "Bold",
          "Bold",
          "Bold",
          "Bold"
         ]
        },
        {
         "customdata": [
          0,
          1,
          2,
          3,
          4,
          5,
          6,
          7,
          8,
          9,
          10
         ],
         "hovertemplate": "%{y}[%{customdata}] = %{marker.color}<extra></extra>",
         "marker": {
          "color": [
           "rgb(133, 92, 117)",
           "rgb(217, 175, 107)",
           "rgb(175, 100, 88)",
           "rgb(115, 111, 76)",
           "rgb(82, 106, 131)",
           "rgb(98, 83, 119)",
           "rgb(104, 133, 92)",
           "rgb(156, 156, 94)",
           "rgb(160, 97, 119)",
           "rgb(140, 120, 93)",
           "rgb(124, 124, 124)"
          ]
         },
         "orientation": "h",
         "type": "bar",
         "x": [
          1,
          1,
          1,
          1,
          1,
          1,
          1,
          1,
          1,
          1,
          1
         ],
         "y": [
          "Antique",
          "Antique",
          "Antique",
          "Antique",
          "Antique",
          "Antique",
          "Antique",
          "Antique",
          "Antique",
          "Antique",
          "Antique"
         ]
        },
        {
         "customdata": [
          0,
          1,
          2,
          3,
          4,
          5,
          6,
          7,
          8,
          9,
          10,
          11
         ],
         "hovertemplate": "%{y}[%{customdata}] = %{marker.color}<extra></extra>",
         "marker": {
          "color": [
           "rgb(141,211,199)",
           "rgb(255,255,179)",
           "rgb(190,186,218)",
           "rgb(251,128,114)",
           "rgb(128,177,211)",
           "rgb(253,180,98)",
           "rgb(179,222,105)",
           "rgb(252,205,229)",
           "rgb(217,217,217)",
           "rgb(188,128,189)",
           "rgb(204,235,197)",
           "rgb(255,237,111)"
          ]
         },
         "orientation": "h",
         "type": "bar",
         "x": [
          1,
          1,
          1,
          1,
          1,
          1,
          1,
          1,
          1,
          1,
          1,
          1
         ],
         "y": [
          "Set3",
          "Set3",
          "Set3",
          "Set3",
          "Set3",
          "Set3",
          "Set3",
          "Set3",
          "Set3",
          "Set3",
          "Set3",
          "Set3"
         ]
        },
        {
         "customdata": [
          0,
          1,
          2,
          3,
          4,
          5,
          6,
          7
         ],
         "hovertemplate": "%{y}[%{customdata}] = %{marker.color}<extra></extra>",
         "marker": {
          "color": [
           "rgb(179,226,205)",
           "rgb(253,205,172)",
           "rgb(203,213,232)",
           "rgb(244,202,228)",
           "rgb(230,245,201)",
           "rgb(255,242,174)",
           "rgb(241,226,204)",
           "rgb(204,204,204)"
          ]
         },
         "orientation": "h",
         "type": "bar",
         "x": [
          1,
          1,
          1,
          1,
          1,
          1,
          1,
          1
         ],
         "y": [
          "Pastel2",
          "Pastel2",
          "Pastel2",
          "Pastel2",
          "Pastel2",
          "Pastel2",
          "Pastel2",
          "Pastel2"
         ]
        },
        {
         "customdata": [
          0,
          1,
          2,
          3,
          4,
          5,
          6,
          7
         ],
         "hovertemplate": "%{y}[%{customdata}] = %{marker.color}<extra></extra>",
         "marker": {
          "color": [
           "rgb(102,194,165)",
           "rgb(252,141,98)",
           "rgb(141,160,203)",
           "rgb(231,138,195)",
           "rgb(166,216,84)",
           "rgb(255,217,47)",
           "rgb(229,196,148)",
           "rgb(179,179,179)"
          ]
         },
         "orientation": "h",
         "type": "bar",
         "x": [
          1,
          1,
          1,
          1,
          1,
          1,
          1,
          1
         ],
         "y": [
          "Set2",
          "Set2",
          "Set2",
          "Set2",
          "Set2",
          "Set2",
          "Set2",
          "Set2"
         ]
        },
        {
         "customdata": [
          0,
          1,
          2,
          3,
          4,
          5,
          6,
          7
         ],
         "hovertemplate": "%{y}[%{customdata}] = %{marker.color}<extra></extra>",
         "marker": {
          "color": [
           "rgb(27,158,119)",
           "rgb(217,95,2)",
           "rgb(117,112,179)",
           "rgb(231,41,138)",
           "rgb(102,166,30)",
           "rgb(230,171,2)",
           "rgb(166,118,29)",
           "rgb(102,102,102)"
          ]
         },
         "orientation": "h",
         "type": "bar",
         "x": [
          1,
          1,
          1,
          1,
          1,
          1,
          1,
          1
         ],
         "y": [
          "Dark2",
          "Dark2",
          "Dark2",
          "Dark2",
          "Dark2",
          "Dark2",
          "Dark2",
          "Dark2"
         ]
        },
        {
         "customdata": [
          0,
          1,
          2,
          3,
          4,
          5,
          6,
          7,
          8
         ],
         "hovertemplate": "%{y}[%{customdata}] = %{marker.color}<extra></extra>",
         "marker": {
          "color": [
           "rgb(251,180,174)",
           "rgb(179,205,227)",
           "rgb(204,235,197)",
           "rgb(222,203,228)",
           "rgb(254,217,166)",
           "rgb(255,255,204)",
           "rgb(229,216,189)",
           "rgb(253,218,236)",
           "rgb(242,242,242)"
          ]
         },
         "orientation": "h",
         "type": "bar",
         "x": [
          1,
          1,
          1,
          1,
          1,
          1,
          1,
          1,
          1
         ],
         "y": [
          "Pastel1",
          "Pastel1",
          "Pastel1",
          "Pastel1",
          "Pastel1",
          "Pastel1",
          "Pastel1",
          "Pastel1",
          "Pastel1"
         ]
        },
        {
         "customdata": [
          0,
          1,
          2,
          3,
          4,
          5,
          6,
          7,
          8
         ],
         "hovertemplate": "%{y}[%{customdata}] = %{marker.color}<extra></extra>",
         "marker": {
          "color": [
           "rgb(228,26,28)",
           "rgb(55,126,184)",
           "rgb(77,175,74)",
           "rgb(152,78,163)",
           "rgb(255,127,0)",
           "rgb(255,255,51)",
           "rgb(166,86,40)",
           "rgb(247,129,191)",
           "rgb(153,153,153)"
          ]
         },
         "orientation": "h",
         "type": "bar",
         "x": [
          1,
          1,
          1,
          1,
          1,
          1,
          1,
          1,
          1
         ],
         "y": [
          "Set1",
          "Set1",
          "Set1",
          "Set1",
          "Set1",
          "Set1",
          "Set1",
          "Set1",
          "Set1"
         ]
        },
        {
         "customdata": [
          0,
          1,
          2,
          3,
          4,
          5,
          6,
          7,
          8,
          9,
          10,
          11,
          12,
          13,
          14,
          15,
          16,
          17,
          18,
          19,
          20,
          21,
          22,
          23
         ],
         "hovertemplate": "%{y}[%{customdata}] = %{marker.color}<extra></extra>",
         "marker": {
          "color": [
           "#FD3216",
           "#00FE35",
           "#6A76FC",
           "#FED4C4",
           "#FE00CE",
           "#0DF9FF",
           "#F6F926",
           "#FF9616",
           "#479B55",
           "#EEA6FB",
           "#DC587D",
           "#D626FF",
           "#6E899C",
           "#00B5F7",
           "#B68E00",
           "#C9FBE5",
           "#FF0092",
           "#22FFA7",
           "#E3EE9E",
           "#86CE00",
           "#BC7196",
           "#7E7DCD",
           "#FC6955",
           "#E48F72"
          ]
         },
         "orientation": "h",
         "type": "bar",
         "x": [
          1,
          1,
          1,
          1,
          1,
          1,
          1,
          1,
          1,
          1,
          1,
          1,
          1,
          1,
          1,
          1,
          1,
          1,
          1,
          1,
          1,
          1,
          1,
          1
         ],
         "y": [
          "Light24",
          "Light24",
          "Light24",
          "Light24",
          "Light24",
          "Light24",
          "Light24",
          "Light24",
          "Light24",
          "Light24",
          "Light24",
          "Light24",
          "Light24",
          "Light24",
          "Light24",
          "Light24",
          "Light24",
          "Light24",
          "Light24",
          "Light24",
          "Light24",
          "Light24",
          "Light24",
          "Light24"
         ]
        },
        {
         "customdata": [
          0,
          1,
          2,
          3,
          4,
          5,
          6,
          7,
          8,
          9,
          10,
          11,
          12,
          13,
          14,
          15,
          16,
          17,
          18,
          19,
          20,
          21,
          22,
          23
         ],
         "hovertemplate": "%{y}[%{customdata}] = %{marker.color}<extra></extra>",
         "marker": {
          "color": [
           "#2E91E5",
           "#E15F99",
           "#1CA71C",
           "#FB0D0D",
           "#DA16FF",
           "#222A2A",
           "#B68100",
           "#750D86",
           "#EB663B",
           "#511CFB",
           "#00A08B",
           "#FB00D1",
           "#FC0080",
           "#B2828D",
           "#6C7C32",
           "#778AAE",
           "#862A16",
           "#A777F1",
           "#620042",
           "#1616A7",
           "#DA60CA",
           "#6C4516",
           "#0D2A63",
           "#AF0038"
          ]
         },
         "orientation": "h",
         "type": "bar",
         "x": [
          1,
          1,
          1,
          1,
          1,
          1,
          1,
          1,
          1,
          1,
          1,
          1,
          1,
          1,
          1,
          1,
          1,
          1,
          1,
          1,
          1,
          1,
          1,
          1
         ],
         "y": [
          "Dark24",
          "Dark24",
          "Dark24",
          "Dark24",
          "Dark24",
          "Dark24",
          "Dark24",
          "Dark24",
          "Dark24",
          "Dark24",
          "Dark24",
          "Dark24",
          "Dark24",
          "Dark24",
          "Dark24",
          "Dark24",
          "Dark24",
          "Dark24",
          "Dark24",
          "Dark24",
          "Dark24",
          "Dark24",
          "Dark24",
          "Dark24"
         ]
        },
        {
         "customdata": [
          0,
          1,
          2,
          3,
          4,
          5,
          6,
          7,
          8,
          9,
          10,
          11,
          12,
          13,
          14,
          15,
          16,
          17,
          18,
          19,
          20,
          21,
          22,
          23,
          24,
          25
         ],
         "hovertemplate": "%{y}[%{customdata}] = %{marker.color}<extra></extra>",
         "marker": {
          "color": [
           "#AA0DFE",
           "#3283FE",
           "#85660D",
           "#782AB6",
           "#565656",
           "#1C8356",
           "#16FF32",
           "#F7E1A0",
           "#E2E2E2",
           "#1CBE4F",
           "#C4451C",
           "#DEA0FD",
           "#FE00FA",
           "#325A9B",
           "#FEAF16",
           "#F8A19F",
           "#90AD1C",
           "#F6222E",
           "#1CFFCE",
           "#2ED9FF",
           "#B10DA1",
           "#C075A6",
           "#FC1CBF",
           "#B00068",
           "#FBE426",
           "#FA0087"
          ]
         },
         "orientation": "h",
         "type": "bar",
         "x": [
          1,
          1,
          1,
          1,
          1,
          1,
          1,
          1,
          1,
          1,
          1,
          1,
          1,
          1,
          1,
          1,
          1,
          1,
          1,
          1,
          1,
          1,
          1,
          1,
          1,
          1
         ],
         "y": [
          "Alphabet",
          "Alphabet",
          "Alphabet",
          "Alphabet",
          "Alphabet",
          "Alphabet",
          "Alphabet",
          "Alphabet",
          "Alphabet",
          "Alphabet",
          "Alphabet",
          "Alphabet",
          "Alphabet",
          "Alphabet",
          "Alphabet",
          "Alphabet",
          "Alphabet",
          "Alphabet",
          "Alphabet",
          "Alphabet",
          "Alphabet",
          "Alphabet",
          "Alphabet",
          "Alphabet",
          "Alphabet",
          "Alphabet"
         ]
        },
        {
         "customdata": [
          0,
          1,
          2,
          3,
          4,
          5,
          6,
          7,
          8,
          9
         ],
         "hovertemplate": "%{y}[%{customdata}] = %{marker.color}<extra></extra>",
         "marker": {
          "color": [
           "#4C78A8",
           "#F58518",
           "#E45756",
           "#72B7B2",
           "#54A24B",
           "#EECA3B",
           "#B279A2",
           "#FF9DA6",
           "#9D755D",
           "#BAB0AC"
          ]
         },
         "orientation": "h",
         "type": "bar",
         "x": [
          1,
          1,
          1,
          1,
          1,
          1,
          1,
          1,
          1,
          1
         ],
         "y": [
          "T10",
          "T10",
          "T10",
          "T10",
          "T10",
          "T10",
          "T10",
          "T10",
          "T10",
          "T10"
         ]
        },
        {
         "customdata": [
          0,
          1,
          2,
          3,
          4,
          5,
          6,
          7,
          8,
          9
         ],
         "hovertemplate": "%{y}[%{customdata}] = %{marker.color}<extra></extra>",
         "marker": {
          "color": [
           "#3366CC",
           "#DC3912",
           "#FF9900",
           "#109618",
           "#990099",
           "#0099C6",
           "#DD4477",
           "#66AA00",
           "#B82E2E",
           "#316395"
          ]
         },
         "orientation": "h",
         "type": "bar",
         "x": [
          1,
          1,
          1,
          1,
          1,
          1,
          1,
          1,
          1,
          1
         ],
         "y": [
          "G10",
          "G10",
          "G10",
          "G10",
          "G10",
          "G10",
          "G10",
          "G10",
          "G10",
          "G10"
         ]
        },
        {
         "customdata": [
          0,
          1,
          2,
          3,
          4,
          5,
          6,
          7,
          8,
          9
         ],
         "hovertemplate": "%{y}[%{customdata}] = %{marker.color}<extra></extra>",
         "marker": {
          "color": [
           "#1F77B4",
           "#FF7F0E",
           "#2CA02C",
           "#D62728",
           "#9467BD",
           "#8C564B",
           "#E377C2",
           "#7F7F7F",
           "#BCBD22",
           "#17BECF"
          ]
         },
         "orientation": "h",
         "type": "bar",
         "x": [
          1,
          1,
          1,
          1,
          1,
          1,
          1,
          1,
          1,
          1
         ],
         "y": [
          "D3",
          "D3",
          "D3",
          "D3",
          "D3",
          "D3",
          "D3",
          "D3",
          "D3",
          "D3"
         ]
        },
        {
         "customdata": [
          0,
          1,
          2,
          3,
          4,
          5,
          6,
          7,
          8,
          9
         ],
         "hovertemplate": "%{y}[%{customdata}] = %{marker.color}<extra></extra>",
         "marker": {
          "color": [
           "#636EFA",
           "#EF553B",
           "#00CC96",
           "#AB63FA",
           "#FFA15A",
           "#19D3F3",
           "#FF6692",
           "#B6E880",
           "#FF97FF",
           "#FECB52"
          ]
         },
         "orientation": "h",
         "type": "bar",
         "x": [
          1,
          1,
          1,
          1,
          1,
          1,
          1,
          1,
          1,
          1
         ],
         "y": [
          "Plotly",
          "Plotly",
          "Plotly",
          "Plotly",
          "Plotly",
          "Plotly",
          "Plotly",
          "Plotly",
          "Plotly",
          "Plotly"
         ]
        }
       ],
       "layout": {
        "autosize": true,
        "bargap": 0.5,
        "barmode": "stack",
        "barnorm": "fraction",
        "margin": {
         "b": 10
        },
        "showlegend": false,
        "template": {
         "data": {
          "bar": [
           {
            "error_x": {
             "color": "#2a3f5f"
            },
            "error_y": {
             "color": "#2a3f5f"
            },
            "marker": {
             "line": {
              "color": "#E5ECF6",
              "width": 0.5
             },
             "pattern": {
              "fillmode": "overlay",
              "size": 10,
              "solidity": 0.2
             }
            },
            "type": "bar"
           }
          ],
          "barpolar": [
           {
            "marker": {
             "line": {
              "color": "#E5ECF6",
              "width": 0.5
             },
             "pattern": {
              "fillmode": "overlay",
              "size": 10,
              "solidity": 0.2
             }
            },
            "type": "barpolar"
           }
          ],
          "carpet": [
           {
            "aaxis": {
             "endlinecolor": "#2a3f5f",
             "gridcolor": "white",
             "linecolor": "white",
             "minorgridcolor": "white",
             "startlinecolor": "#2a3f5f"
            },
            "baxis": {
             "endlinecolor": "#2a3f5f",
             "gridcolor": "white",
             "linecolor": "white",
             "minorgridcolor": "white",
             "startlinecolor": "#2a3f5f"
            },
            "type": "carpet"
           }
          ],
          "choropleth": [
           {
            "colorbar": {
             "outlinewidth": 0,
             "ticks": ""
            },
            "type": "choropleth"
           }
          ],
          "contour": [
           {
            "colorbar": {
             "outlinewidth": 0,
             "ticks": ""
            },
            "colorscale": [
             [
              0,
              "#0d0887"
             ],
             [
              0.1111111111111111,
              "#46039f"
             ],
             [
              0.2222222222222222,
              "#7201a8"
             ],
             [
              0.3333333333333333,
              "#9c179e"
             ],
             [
              0.4444444444444444,
              "#bd3786"
             ],
             [
              0.5555555555555556,
              "#d8576b"
             ],
             [
              0.6666666666666666,
              "#ed7953"
             ],
             [
              0.7777777777777778,
              "#fb9f3a"
             ],
             [
              0.8888888888888888,
              "#fdca26"
             ],
             [
              1,
              "#f0f921"
             ]
            ],
            "type": "contour"
           }
          ],
          "contourcarpet": [
           {
            "colorbar": {
             "outlinewidth": 0,
             "ticks": ""
            },
            "type": "contourcarpet"
           }
          ],
          "heatmap": [
           {
            "colorbar": {
             "outlinewidth": 0,
             "ticks": ""
            },
            "colorscale": [
             [
              0,
              "#0d0887"
             ],
             [
              0.1111111111111111,
              "#46039f"
             ],
             [
              0.2222222222222222,
              "#7201a8"
             ],
             [
              0.3333333333333333,
              "#9c179e"
             ],
             [
              0.4444444444444444,
              "#bd3786"
             ],
             [
              0.5555555555555556,
              "#d8576b"
             ],
             [
              0.6666666666666666,
              "#ed7953"
             ],
             [
              0.7777777777777778,
              "#fb9f3a"
             ],
             [
              0.8888888888888888,
              "#fdca26"
             ],
             [
              1,
              "#f0f921"
             ]
            ],
            "type": "heatmap"
           }
          ],
          "heatmapgl": [
           {
            "colorbar": {
             "outlinewidth": 0,
             "ticks": ""
            },
            "colorscale": [
             [
              0,
              "#0d0887"
             ],
             [
              0.1111111111111111,
              "#46039f"
             ],
             [
              0.2222222222222222,
              "#7201a8"
             ],
             [
              0.3333333333333333,
              "#9c179e"
             ],
             [
              0.4444444444444444,
              "#bd3786"
             ],
             [
              0.5555555555555556,
              "#d8576b"
             ],
             [
              0.6666666666666666,
              "#ed7953"
             ],
             [
              0.7777777777777778,
              "#fb9f3a"
             ],
             [
              0.8888888888888888,
              "#fdca26"
             ],
             [
              1,
              "#f0f921"
             ]
            ],
            "type": "heatmapgl"
           }
          ],
          "histogram": [
           {
            "marker": {
             "pattern": {
              "fillmode": "overlay",
              "size": 10,
              "solidity": 0.2
             }
            },
            "type": "histogram"
           }
          ],
          "histogram2d": [
           {
            "colorbar": {
             "outlinewidth": 0,
             "ticks": ""
            },
            "colorscale": [
             [
              0,
              "#0d0887"
             ],
             [
              0.1111111111111111,
              "#46039f"
             ],
             [
              0.2222222222222222,
              "#7201a8"
             ],
             [
              0.3333333333333333,
              "#9c179e"
             ],
             [
              0.4444444444444444,
              "#bd3786"
             ],
             [
              0.5555555555555556,
              "#d8576b"
             ],
             [
              0.6666666666666666,
              "#ed7953"
             ],
             [
              0.7777777777777778,
              "#fb9f3a"
             ],
             [
              0.8888888888888888,
              "#fdca26"
             ],
             [
              1,
              "#f0f921"
             ]
            ],
            "type": "histogram2d"
           }
          ],
          "histogram2dcontour": [
           {
            "colorbar": {
             "outlinewidth": 0,
             "ticks": ""
            },
            "colorscale": [
             [
              0,
              "#0d0887"
             ],
             [
              0.1111111111111111,
              "#46039f"
             ],
             [
              0.2222222222222222,
              "#7201a8"
             ],
             [
              0.3333333333333333,
              "#9c179e"
             ],
             [
              0.4444444444444444,
              "#bd3786"
             ],
             [
              0.5555555555555556,
              "#d8576b"
             ],
             [
              0.6666666666666666,
              "#ed7953"
             ],
             [
              0.7777777777777778,
              "#fb9f3a"
             ],
             [
              0.8888888888888888,
              "#fdca26"
             ],
             [
              1,
              "#f0f921"
             ]
            ],
            "type": "histogram2dcontour"
           }
          ],
          "mesh3d": [
           {
            "colorbar": {
             "outlinewidth": 0,
             "ticks": ""
            },
            "type": "mesh3d"
           }
          ],
          "parcoords": [
           {
            "line": {
             "colorbar": {
              "outlinewidth": 0,
              "ticks": ""
             }
            },
            "type": "parcoords"
           }
          ],
          "pie": [
           {
            "automargin": true,
            "type": "pie"
           }
          ],
          "scatter": [
           {
            "marker": {
             "colorbar": {
              "outlinewidth": 0,
              "ticks": ""
             }
            },
            "type": "scatter"
           }
          ],
          "scatter3d": [
           {
            "line": {
             "colorbar": {
              "outlinewidth": 0,
              "ticks": ""
             }
            },
            "marker": {
             "colorbar": {
              "outlinewidth": 0,
              "ticks": ""
             }
            },
            "type": "scatter3d"
           }
          ],
          "scattercarpet": [
           {
            "marker": {
             "colorbar": {
              "outlinewidth": 0,
              "ticks": ""
             }
            },
            "type": "scattercarpet"
           }
          ],
          "scattergeo": [
           {
            "marker": {
             "colorbar": {
              "outlinewidth": 0,
              "ticks": ""
             }
            },
            "type": "scattergeo"
           }
          ],
          "scattergl": [
           {
            "marker": {
             "colorbar": {
              "outlinewidth": 0,
              "ticks": ""
             }
            },
            "type": "scattergl"
           }
          ],
          "scattermapbox": [
           {
            "marker": {
             "colorbar": {
              "outlinewidth": 0,
              "ticks": ""
             }
            },
            "type": "scattermapbox"
           }
          ],
          "scatterpolar": [
           {
            "marker": {
             "colorbar": {
              "outlinewidth": 0,
              "ticks": ""
             }
            },
            "type": "scatterpolar"
           }
          ],
          "scatterpolargl": [
           {
            "marker": {
             "colorbar": {
              "outlinewidth": 0,
              "ticks": ""
             }
            },
            "type": "scatterpolargl"
           }
          ],
          "scatterternary": [
           {
            "marker": {
             "colorbar": {
              "outlinewidth": 0,
              "ticks": ""
             }
            },
            "type": "scatterternary"
           }
          ],
          "surface": [
           {
            "colorbar": {
             "outlinewidth": 0,
             "ticks": ""
            },
            "colorscale": [
             [
              0,
              "#0d0887"
             ],
             [
              0.1111111111111111,
              "#46039f"
             ],
             [
              0.2222222222222222,
              "#7201a8"
             ],
             [
              0.3333333333333333,
              "#9c179e"
             ],
             [
              0.4444444444444444,
              "#bd3786"
             ],
             [
              0.5555555555555556,
              "#d8576b"
             ],
             [
              0.6666666666666666,
              "#ed7953"
             ],
             [
              0.7777777777777778,
              "#fb9f3a"
             ],
             [
              0.8888888888888888,
              "#fdca26"
             ],
             [
              1,
              "#f0f921"
             ]
            ],
            "type": "surface"
           }
          ],
          "table": [
           {
            "cells": {
             "fill": {
              "color": "#EBF0F8"
             },
             "line": {
              "color": "white"
             }
            },
            "header": {
             "fill": {
              "color": "#C8D4E3"
             },
             "line": {
              "color": "white"
             }
            },
            "type": "table"
           }
          ]
         },
         "layout": {
          "annotationdefaults": {
           "arrowcolor": "#2a3f5f",
           "arrowhead": 0,
           "arrowwidth": 1
          },
          "autotypenumbers": "strict",
          "coloraxis": {
           "colorbar": {
            "outlinewidth": 0,
            "ticks": ""
           }
          },
          "colorscale": {
           "diverging": [
            [
             0,
             "#8e0152"
            ],
            [
             0.1,
             "#c51b7d"
            ],
            [
             0.2,
             "#de77ae"
            ],
            [
             0.3,
             "#f1b6da"
            ],
            [
             0.4,
             "#fde0ef"
            ],
            [
             0.5,
             "#f7f7f7"
            ],
            [
             0.6,
             "#e6f5d0"
            ],
            [
             0.7,
             "#b8e186"
            ],
            [
             0.8,
             "#7fbc41"
            ],
            [
             0.9,
             "#4d9221"
            ],
            [
             1,
             "#276419"
            ]
           ],
           "sequential": [
            [
             0,
             "#0d0887"
            ],
            [
             0.1111111111111111,
             "#46039f"
            ],
            [
             0.2222222222222222,
             "#7201a8"
            ],
            [
             0.3333333333333333,
             "#9c179e"
            ],
            [
             0.4444444444444444,
             "#bd3786"
            ],
            [
             0.5555555555555556,
             "#d8576b"
            ],
            [
             0.6666666666666666,
             "#ed7953"
            ],
            [
             0.7777777777777778,
             "#fb9f3a"
            ],
            [
             0.8888888888888888,
             "#fdca26"
            ],
            [
             1,
             "#f0f921"
            ]
           ],
           "sequentialminus": [
            [
             0,
             "#0d0887"
            ],
            [
             0.1111111111111111,
             "#46039f"
            ],
            [
             0.2222222222222222,
             "#7201a8"
            ],
            [
             0.3333333333333333,
             "#9c179e"
            ],
            [
             0.4444444444444444,
             "#bd3786"
            ],
            [
             0.5555555555555556,
             "#d8576b"
            ],
            [
             0.6666666666666666,
             "#ed7953"
            ],
            [
             0.7777777777777778,
             "#fb9f3a"
            ],
            [
             0.8888888888888888,
             "#fdca26"
            ],
            [
             1,
             "#f0f921"
            ]
           ]
          },
          "colorway": [
           "#636efa",
           "#EF553B",
           "#00cc96",
           "#ab63fa",
           "#FFA15A",
           "#19d3f3",
           "#FF6692",
           "#B6E880",
           "#FF97FF",
           "#FECB52"
          ],
          "font": {
           "color": "#2a3f5f"
          },
          "geo": {
           "bgcolor": "white",
           "lakecolor": "white",
           "landcolor": "#E5ECF6",
           "showlakes": true,
           "showland": true,
           "subunitcolor": "white"
          },
          "hoverlabel": {
           "align": "left"
          },
          "hovermode": "closest",
          "mapbox": {
           "style": "light"
          },
          "paper_bgcolor": "white",
          "plot_bgcolor": "#E5ECF6",
          "polar": {
           "angularaxis": {
            "gridcolor": "white",
            "linecolor": "white",
            "ticks": ""
           },
           "bgcolor": "#E5ECF6",
           "radialaxis": {
            "gridcolor": "white",
            "linecolor": "white",
            "ticks": ""
           }
          },
          "scene": {
           "xaxis": {
            "backgroundcolor": "#E5ECF6",
            "gridcolor": "white",
            "gridwidth": 2,
            "linecolor": "white",
            "showbackground": true,
            "ticks": "",
            "zerolinecolor": "white"
           },
           "yaxis": {
            "backgroundcolor": "#E5ECF6",
            "gridcolor": "white",
            "gridwidth": 2,
            "linecolor": "white",
            "showbackground": true,
            "ticks": "",
            "zerolinecolor": "white"
           },
           "zaxis": {
            "backgroundcolor": "#E5ECF6",
            "gridcolor": "white",
            "gridwidth": 2,
            "linecolor": "white",
            "showbackground": true,
            "ticks": "",
            "zerolinecolor": "white"
           }
          },
          "shapedefaults": {
           "line": {
            "color": "#2a3f5f"
           }
          },
          "ternary": {
           "aaxis": {
            "gridcolor": "white",
            "linecolor": "white",
            "ticks": ""
           },
           "baxis": {
            "gridcolor": "white",
            "linecolor": "white",
            "ticks": ""
           },
           "bgcolor": "#E5ECF6",
           "caxis": {
            "gridcolor": "white",
            "linecolor": "white",
            "ticks": ""
           }
          },
          "title": {
           "x": 0.05
          },
          "xaxis": {
           "automargin": true,
           "gridcolor": "white",
           "linecolor": "white",
           "ticks": "",
           "title": {
            "standoff": 15
           },
           "zerolinecolor": "white",
           "zerolinewidth": 2
          },
          "yaxis": {
           "automargin": true,
           "gridcolor": "white",
           "linecolor": "white",
           "ticks": "",
           "title": {
            "standoff": 15
           },
           "zerolinecolor": "white",
           "zerolinewidth": 2
          }
         }
        },
        "title": {
         "text": "plotly.colors.qualitative"
        },
        "xaxis": {
         "range": [
          -0.02,
          1.02
         ],
         "showgrid": false,
         "showticklabels": false,
         "type": "linear"
        },
        "yaxis": {
         "autorange": true,
         "range": [
          -0.5,
          18.5
         ],
         "type": "category"
        }
       }
      },
      "image/png": "[encoded data removed]",
      "text/html": [
       "<div>                            <div id=\"af56da61-42ae-4018-932b-81e4479479bd\" class=\"plotly-graph-div\" style=\"height:760px; width:100%;\"></div>            <script type=\"text/javascript\">                require([\"plotly\"], function(Plotly) {                    window.PLOTLYENV=window.PLOTLYENV || {};                                    if (document.getElementById(\"af56da61-42ae-4018-932b-81e4479479bd\")) {                    Plotly.newPlot(                        \"af56da61-42ae-4018-932b-81e4479479bd\",                        [{\"customdata\":[0,1,2,3,4,5,6,7,8,9,10],\"hovertemplate\":\"%{y}[%{customdata}] = %{marker.color}<extra></extra>\",\"marker\":{\"color\":[\"rgb(229, 134, 6)\",\"rgb(93, 105, 177)\",\"rgb(82, 188, 163)\",\"rgb(153, 201, 69)\",\"rgb(204, 97, 176)\",\"rgb(36, 121, 108)\",\"rgb(218, 165, 27)\",\"rgb(47, 138, 196)\",\"rgb(118, 78, 159)\",\"rgb(237, 100, 90)\",\"rgb(165, 170, 153)\"]},\"orientation\":\"h\",\"type\":\"bar\",\"x\":[1,1,1,1,1,1,1,1,1,1,1],\"y\":[\"Vivid\",\"Vivid\",\"Vivid\",\"Vivid\",\"Vivid\",\"Vivid\",\"Vivid\",\"Vivid\",\"Vivid\",\"Vivid\",\"Vivid\"]},{\"customdata\":[0,1,2,3,4,5,6,7,8,9,10],\"hovertemplate\":\"%{y}[%{customdata}] = %{marker.color}<extra></extra>\",\"marker\":{\"color\":[\"rgb(136, 204, 238)\",\"rgb(204, 102, 119)\",\"rgb(221, 204, 119)\",\"rgb(17, 119, 51)\",\"rgb(51, 34, 136)\",\"rgb(170, 68, 153)\",\"rgb(68, 170, 153)\",\"rgb(153, 153, 51)\",\"rgb(136, 34, 85)\",\"rgb(102, 17, 0)\",\"rgb(136, 136, 136)\"]},\"orientation\":\"h\",\"type\":\"bar\",\"x\":[1,1,1,1,1,1,1,1,1,1,1],\"y\":[\"Safe\",\"Safe\",\"Safe\",\"Safe\",\"Safe\",\"Safe\",\"Safe\",\"Safe\",\"Safe\",\"Safe\",\"Safe\"]},{\"customdata\":[0,1,2,3,4,5,6,7,8,9,10],\"hovertemplate\":\"%{y}[%{customdata}] = %{marker.color}<extra></extra>\",\"marker\":{\"color\":[\"rgb(95, 70, 144)\",\"rgb(29, 105, 150)\",\"rgb(56, 166, 165)\",\"rgb(15, 133, 84)\",\"rgb(115, 175, 72)\",\"rgb(237, 173, 8)\",\"rgb(225, 124, 5)\",\"rgb(204, 80, 62)\",\"rgb(148, 52, 110)\",\"rgb(111, 64, 112)\",\"rgb(102, 102, 102)\"]},\"orientation\":\"h\",\"type\":\"bar\",\"x\":[1,1,1,1,1,1,1,1,1,1,1],\"y\":[\"Prism\",\"Prism\",\"Prism\",\"Prism\",\"Prism\",\"Prism\",\"Prism\",\"Prism\",\"Prism\",\"Prism\",\"Prism\"]},{\"customdata\":[0,1,2,3,4,5,6,7,8,9,10],\"hovertemplate\":\"%{y}[%{customdata}] = %{marker.color}<extra></extra>\",\"marker\":{\"color\":[\"rgb(102, 197, 204)\",\"rgb(246, 207, 113)\",\"rgb(248, 156, 116)\",\"rgb(220, 176, 242)\",\"rgb(135, 197, 95)\",\"rgb(158, 185, 243)\",\"rgb(254, 136, 177)\",\"rgb(201, 219, 116)\",\"rgb(139, 224, 164)\",\"rgb(180, 151, 231)\",\"rgb(179, 179, 179)\"]},\"orientation\":\"h\",\"type\":\"bar\",\"x\":[1,1,1,1,1,1,1,1,1,1,1],\"y\":[\"Pastel\",\"Pastel\",\"Pastel\",\"Pastel\",\"Pastel\",\"Pastel\",\"Pastel\",\"Pastel\",\"Pastel\",\"Pastel\",\"Pastel\"]},{\"customdata\":[0,1,2,3,4,5,6,7,8,9,10],\"hovertemplate\":\"%{y}[%{customdata}] = %{marker.color}<extra></extra>\",\"marker\":{\"color\":[\"rgb(127, 60, 141)\",\"rgb(17, 165, 121)\",\"rgb(57, 105, 172)\",\"rgb(242, 183, 1)\",\"rgb(231, 63, 116)\",\"rgb(128, 186, 90)\",\"rgb(230, 131, 16)\",\"rgb(0, 134, 149)\",\"rgb(207, 28, 144)\",\"rgb(249, 123, 114)\",\"rgb(165, 170, 153)\"]},\"orientation\":\"h\",\"type\":\"bar\",\"x\":[1,1,1,1,1,1,1,1,1,1,1],\"y\":[\"Bold\",\"Bold\",\"Bold\",\"Bold\",\"Bold\",\"Bold\",\"Bold\",\"Bold\",\"Bold\",\"Bold\",\"Bold\"]},{\"customdata\":[0,1,2,3,4,5,6,7,8,9,10],\"hovertemplate\":\"%{y}[%{customdata}] = %{marker.color}<extra></extra>\",\"marker\":{\"color\":[\"rgb(133, 92, 117)\",\"rgb(217, 175, 107)\",\"rgb(175, 100, 88)\",\"rgb(115, 111, 76)\",\"rgb(82, 106, 131)\",\"rgb(98, 83, 119)\",\"rgb(104, 133, 92)\",\"rgb(156, 156, 94)\",\"rgb(160, 97, 119)\",\"rgb(140, 120, 93)\",\"rgb(124, 124, 124)\"]},\"orientation\":\"h\",\"type\":\"bar\",\"x\":[1,1,1,1,1,1,1,1,1,1,1],\"y\":[\"Antique\",\"Antique\",\"Antique\",\"Antique\",\"Antique\",\"Antique\",\"Antique\",\"Antique\",\"Antique\",\"Antique\",\"Antique\"]},{\"customdata\":[0,1,2,3,4,5,6,7,8,9,10,11],\"hovertemplate\":\"%{y}[%{customdata}] = %{marker.color}<extra></extra>\",\"marker\":{\"color\":[\"rgb(141,211,199)\",\"rgb(255,255,179)\",\"rgb(190,186,218)\",\"rgb(251,128,114)\",\"rgb(128,177,211)\",\"rgb(253,180,98)\",\"rgb(179,222,105)\",\"rgb(252,205,229)\",\"rgb(217,217,217)\",\"rgb(188,128,189)\",\"rgb(204,235,197)\",\"rgb(255,237,111)\"]},\"orientation\":\"h\",\"type\":\"bar\",\"x\":[1,1,1,1,1,1,1,1,1,1,1,1],\"y\":[\"Set3\",\"Set3\",\"Set3\",\"Set3\",\"Set3\",\"Set3\",\"Set3\",\"Set3\",\"Set3\",\"Set3\",\"Set3\",\"Set3\"]},{\"customdata\":[0,1,2,3,4,5,6,7],\"hovertemplate\":\"%{y}[%{customdata}] = %{marker.color}<extra></extra>\",\"marker\":{\"color\":[\"rgb(179,226,205)\",\"rgb(253,205,172)\",\"rgb(203,213,232)\",\"rgb(244,202,228)\",\"rgb(230,245,201)\",\"rgb(255,242,174)\",\"rgb(241,226,204)\",\"rgb(204,204,204)\"]},\"orientation\":\"h\",\"type\":\"bar\",\"x\":[1,1,1,1,1,1,1,1],\"y\":[\"Pastel2\",\"Pastel2\",\"Pastel2\",\"Pastel2\",\"Pastel2\",\"Pastel2\",\"Pastel2\",\"Pastel2\"]},{\"customdata\":[0,1,2,3,4,5,6,7],\"hovertemplate\":\"%{y}[%{customdata}] = %{marker.color}<extra></extra>\",\"marker\":{\"color\":[\"rgb(102,194,165)\",\"rgb(252,141,98)\",\"rgb(141,160,203)\",\"rgb(231,138,195)\",\"rgb(166,216,84)\",\"rgb(255,217,47)\",\"rgb(229,196,148)\",\"rgb(179,179,179)\"]},\"orientation\":\"h\",\"type\":\"bar\",\"x\":[1,1,1,1,1,1,1,1],\"y\":[\"Set2\",\"Set2\",\"Set2\",\"Set2\",\"Set2\",\"Set2\",\"Set2\",\"Set2\"]},{\"customdata\":[0,1,2,3,4,5,6,7],\"hovertemplate\":\"%{y}[%{customdata}] = %{marker.color}<extra></extra>\",\"marker\":{\"color\":[\"rgb(27,158,119)\",\"rgb(217,95,2)\",\"rgb(117,112,179)\",\"rgb(231,41,138)\",\"rgb(102,166,30)\",\"rgb(230,171,2)\",\"rgb(166,118,29)\",\"rgb(102,102,102)\"]},\"orientation\":\"h\",\"type\":\"bar\",\"x\":[1,1,1,1,1,1,1,1],\"y\":[\"Dark2\",\"Dark2\",\"Dark2\",\"Dark2\",\"Dark2\",\"Dark2\",\"Dark2\",\"Dark2\"]},{\"customdata\":[0,1,2,3,4,5,6,7,8],\"hovertemplate\":\"%{y}[%{customdata}] = %{marker.color}<extra></extra>\",\"marker\":{\"color\":[\"rgb(251,180,174)\",\"rgb(179,205,227)\",\"rgb(204,235,197)\",\"rgb(222,203,228)\",\"rgb(254,217,166)\",\"rgb(255,255,204)\",\"rgb(229,216,189)\",\"rgb(253,218,236)\",\"rgb(242,242,242)\"]},\"orientation\":\"h\",\"type\":\"bar\",\"x\":[1,1,1,1,1,1,1,1,1],\"y\":[\"Pastel1\",\"Pastel1\",\"Pastel1\",\"Pastel1\",\"Pastel1\",\"Pastel1\",\"Pastel1\",\"Pastel1\",\"Pastel1\"]},{\"customdata\":[0,1,2,3,4,5,6,7,8],\"hovertemplate\":\"%{y}[%{customdata}] = %{marker.color}<extra></extra>\",\"marker\":{\"color\":[\"rgb(228,26,28)\",\"rgb(55,126,184)\",\"rgb(77,175,74)\",\"rgb(152,78,163)\",\"rgb(255,127,0)\",\"rgb(255,255,51)\",\"rgb(166,86,40)\",\"rgb(247,129,191)\",\"rgb(153,153,153)\"]},\"orientation\":\"h\",\"type\":\"bar\",\"x\":[1,1,1,1,1,1,1,1,1],\"y\":[\"Set1\",\"Set1\",\"Set1\",\"Set1\",\"Set1\",\"Set1\",\"Set1\",\"Set1\",\"Set1\"]},{\"customdata\":[0,1,2,3,4,5,6,7,8,9,10,11,12,13,14,15,16,17,18,19,20,21,22,23],\"hovertemplate\":\"%{y}[%{customdata}] = %{marker.color}<extra></extra>\",\"marker\":{\"color\":[\"#FD3216\",\"#00FE35\",\"#6A76FC\",\"#FED4C4\",\"#FE00CE\",\"#0DF9FF\",\"#F6F926\",\"#FF9616\",\"#479B55\",\"#EEA6FB\",\"#DC587D\",\"#D626FF\",\"#6E899C\",\"#00B5F7\",\"#B68E00\",\"#C9FBE5\",\"#FF0092\",\"#22FFA7\",\"#E3EE9E\",\"#86CE00\",\"#BC7196\",\"#7E7DCD\",\"#FC6955\",\"#E48F72\"]},\"orientation\":\"h\",\"type\":\"bar\",\"x\":[1,1,1,1,1,1,1,1,1,1,1,1,1,1,1,1,1,1,1,1,1,1,1,1],\"y\":[\"Light24\",\"Light24\",\"Light24\",\"Light24\",\"Light24\",\"Light24\",\"Light24\",\"Light24\",\"Light24\",\"Light24\",\"Light24\",\"Light24\",\"Light24\",\"Light24\",\"Light24\",\"Light24\",\"Light24\",\"Light24\",\"Light24\",\"Light24\",\"Light24\",\"Light24\",\"Light24\",\"Light24\"]},{\"customdata\":[0,1,2,3,4,5,6,7,8,9,10,11,12,13,14,15,16,17,18,19,20,21,22,23],\"hovertemplate\":\"%{y}[%{customdata}] = %{marker.color}<extra></extra>\",\"marker\":{\"color\":[\"#2E91E5\",\"#E15F99\",\"#1CA71C\",\"#FB0D0D\",\"#DA16FF\",\"#222A2A\",\"#B68100\",\"#750D86\",\"#EB663B\",\"#511CFB\",\"#00A08B\",\"#FB00D1\",\"#FC0080\",\"#B2828D\",\"#6C7C32\",\"#778AAE\",\"#862A16\",\"#A777F1\",\"#620042\",\"#1616A7\",\"#DA60CA\",\"#6C4516\",\"#0D2A63\",\"#AF0038\"]},\"orientation\":\"h\",\"type\":\"bar\",\"x\":[1,1,1,1,1,1,1,1,1,1,1,1,1,1,1,1,1,1,1,1,1,1,1,1],\"y\":[\"Dark24\",\"Dark24\",\"Dark24\",\"Dark24\",\"Dark24\",\"Dark24\",\"Dark24\",\"Dark24\",\"Dark24\",\"Dark24\",\"Dark24\",\"Dark24\",\"Dark24\",\"Dark24\",\"Dark24\",\"Dark24\",\"Dark24\",\"Dark24\",\"Dark24\",\"Dark24\",\"Dark24\",\"Dark24\",\"Dark24\",\"Dark24\"]},{\"customdata\":[0,1,2,3,4,5,6,7,8,9,10,11,12,13,14,15,16,17,18,19,20,21,22,23,24,25],\"hovertemplate\":\"%{y}[%{customdata}] = %{marker.color}<extra></extra>\",\"marker\":{\"color\":[\"#AA0DFE\",\"#3283FE\",\"#85660D\",\"#782AB6\",\"#565656\",\"#1C8356\",\"#16FF32\",\"#F7E1A0\",\"#E2E2E2\",\"#1CBE4F\",\"#C4451C\",\"#DEA0FD\",\"#FE00FA\",\"#325A9B\",\"#FEAF16\",\"#F8A19F\",\"#90AD1C\",\"#F6222E\",\"#1CFFCE\",\"#2ED9FF\",\"#B10DA1\",\"#C075A6\",\"#FC1CBF\",\"#B00068\",\"#FBE426\",\"#FA0087\"]},\"orientation\":\"h\",\"type\":\"bar\",\"x\":[1,1,1,1,1,1,1,1,1,1,1,1,1,1,1,1,1,1,1,1,1,1,1,1,1,1],\"y\":[\"Alphabet\",\"Alphabet\",\"Alphabet\",\"Alphabet\",\"Alphabet\",\"Alphabet\",\"Alphabet\",\"Alphabet\",\"Alphabet\",\"Alphabet\",\"Alphabet\",\"Alphabet\",\"Alphabet\",\"Alphabet\",\"Alphabet\",\"Alphabet\",\"Alphabet\",\"Alphabet\",\"Alphabet\",\"Alphabet\",\"Alphabet\",\"Alphabet\",\"Alphabet\",\"Alphabet\",\"Alphabet\",\"Alphabet\"]},{\"customdata\":[0,1,2,3,4,5,6,7,8,9],\"hovertemplate\":\"%{y}[%{customdata}] = %{marker.color}<extra></extra>\",\"marker\":{\"color\":[\"#4C78A8\",\"#F58518\",\"#E45756\",\"#72B7B2\",\"#54A24B\",\"#EECA3B\",\"#B279A2\",\"#FF9DA6\",\"#9D755D\",\"#BAB0AC\"]},\"orientation\":\"h\",\"type\":\"bar\",\"x\":[1,1,1,1,1,1,1,1,1,1],\"y\":[\"T10\",\"T10\",\"T10\",\"T10\",\"T10\",\"T10\",\"T10\",\"T10\",\"T10\",\"T10\"]},{\"customdata\":[0,1,2,3,4,5,6,7,8,9],\"hovertemplate\":\"%{y}[%{customdata}] = %{marker.color}<extra></extra>\",\"marker\":{\"color\":[\"#3366CC\",\"#DC3912\",\"#FF9900\",\"#109618\",\"#990099\",\"#0099C6\",\"#DD4477\",\"#66AA00\",\"#B82E2E\",\"#316395\"]},\"orientation\":\"h\",\"type\":\"bar\",\"x\":[1,1,1,1,1,1,1,1,1,1],\"y\":[\"G10\",\"G10\",\"G10\",\"G10\",\"G10\",\"G10\",\"G10\",\"G10\",\"G10\",\"G10\"]},{\"customdata\":[0,1,2,3,4,5,6,7,8,9],\"hovertemplate\":\"%{y}[%{customdata}] = %{marker.color}<extra></extra>\",\"marker\":{\"color\":[\"#1F77B4\",\"#FF7F0E\",\"#2CA02C\",\"#D62728\",\"#9467BD\",\"#8C564B\",\"#E377C2\",\"#7F7F7F\",\"#BCBD22\",\"#17BECF\"]},\"orientation\":\"h\",\"type\":\"bar\",\"x\":[1,1,1,1,1,1,1,1,1,1],\"y\":[\"D3\",\"D3\",\"D3\",\"D3\",\"D3\",\"D3\",\"D3\",\"D3\",\"D3\",\"D3\"]},{\"customdata\":[0,1,2,3,4,5,6,7,8,9],\"hovertemplate\":\"%{y}[%{customdata}] = %{marker.color}<extra></extra>\",\"marker\":{\"color\":[\"#636EFA\",\"#EF553B\",\"#00CC96\",\"#AB63FA\",\"#FFA15A\",\"#19D3F3\",\"#FF6692\",\"#B6E880\",\"#FF97FF\",\"#FECB52\"]},\"orientation\":\"h\",\"type\":\"bar\",\"x\":[1,1,1,1,1,1,1,1,1,1],\"y\":[\"Plotly\",\"Plotly\",\"Plotly\",\"Plotly\",\"Plotly\",\"Plotly\",\"Plotly\",\"Plotly\",\"Plotly\",\"Plotly\"]}],                        {\"bargap\":0.5,\"barmode\":\"stack\",\"barnorm\":\"fraction\",\"height\":760,\"margin\":{\"b\":10},\"showlegend\":false,\"template\":{\"data\":{\"bar\":[{\"error_x\":{\"color\":\"#2a3f5f\"},\"error_y\":{\"color\":\"#2a3f5f\"},\"marker\":{\"line\":{\"color\":\"#E5ECF6\",\"width\":0.5},\"pattern\":{\"fillmode\":\"overlay\",\"size\":10,\"solidity\":0.2}},\"type\":\"bar\"}],\"barpolar\":[{\"marker\":{\"line\":{\"color\":\"#E5ECF6\",\"width\":0.5},\"pattern\":{\"fillmode\":\"overlay\",\"size\":10,\"solidity\":0.2}},\"type\":\"barpolar\"}],\"carpet\":[{\"aaxis\":{\"endlinecolor\":\"#2a3f5f\",\"gridcolor\":\"white\",\"linecolor\":\"white\",\"minorgridcolor\":\"white\",\"startlinecolor\":\"#2a3f5f\"},\"baxis\":{\"endlinecolor\":\"#2a3f5f\",\"gridcolor\":\"white\",\"linecolor\":\"white\",\"minorgridcolor\":\"white\",\"startlinecolor\":\"#2a3f5f\"},\"type\":\"carpet\"}],\"choropleth\":[{\"colorbar\":{\"outlinewidth\":0,\"ticks\":\"\"},\"type\":\"choropleth\"}],\"contour\":[{\"colorbar\":{\"outlinewidth\":0,\"ticks\":\"\"},\"colorscale\":[[0.0,\"#0d0887\"],[0.1111111111111111,\"#46039f\"],[0.2222222222222222,\"#7201a8\"],[0.3333333333333333,\"#9c179e\"],[0.4444444444444444,\"#bd3786\"],[0.5555555555555556,\"#d8576b\"],[0.6666666666666666,\"#ed7953\"],[0.7777777777777778,\"#fb9f3a\"],[0.8888888888888888,\"#fdca26\"],[1.0,\"#f0f921\"]],\"type\":\"contour\"}],\"contourcarpet\":[{\"colorbar\":{\"outlinewidth\":0,\"ticks\":\"\"},\"type\":\"contourcarpet\"}],\"heatmap\":[{\"colorbar\":{\"outlinewidth\":0,\"ticks\":\"\"},\"colorscale\":[[0.0,\"#0d0887\"],[0.1111111111111111,\"#46039f\"],[0.2222222222222222,\"#7201a8\"],[0.3333333333333333,\"#9c179e\"],[0.4444444444444444,\"#bd3786\"],[0.5555555555555556,\"#d8576b\"],[0.6666666666666666,\"#ed7953\"],[0.7777777777777778,\"#fb9f3a\"],[0.8888888888888888,\"#fdca26\"],[1.0,\"#f0f921\"]],\"type\":\"heatmap\"}],\"heatmapgl\":[{\"colorbar\":{\"outlinewidth\":0,\"ticks\":\"\"},\"colorscale\":[[0.0,\"#0d0887\"],[0.1111111111111111,\"#46039f\"],[0.2222222222222222,\"#7201a8\"],[0.3333333333333333,\"#9c179e\"],[0.4444444444444444,\"#bd3786\"],[0.5555555555555556,\"#d8576b\"],[0.6666666666666666,\"#ed7953\"],[0.7777777777777778,\"#fb9f3a\"],[0.8888888888888888,\"#fdca26\"],[1.0,\"#f0f921\"]],\"type\":\"heatmapgl\"}],\"histogram\":[{\"marker\":{\"pattern\":{\"fillmode\":\"overlay\",\"size\":10,\"solidity\":0.2}},\"type\":\"histogram\"}],\"histogram2d\":[{\"colorbar\":{\"outlinewidth\":0,\"ticks\":\"\"},\"colorscale\":[[0.0,\"#0d0887\"],[0.1111111111111111,\"#46039f\"],[0.2222222222222222,\"#7201a8\"],[0.3333333333333333,\"#9c179e\"],[0.4444444444444444,\"#bd3786\"],[0.5555555555555556,\"#d8576b\"],[0.6666666666666666,\"#ed7953\"],[0.7777777777777778,\"#fb9f3a\"],[0.8888888888888888,\"#fdca26\"],[1.0,\"#f0f921\"]],\"type\":\"histogram2d\"}],\"histogram2dcontour\":[{\"colorbar\":{\"outlinewidth\":0,\"ticks\":\"\"},\"colorscale\":[[0.0,\"#0d0887\"],[0.1111111111111111,\"#46039f\"],[0.2222222222222222,\"#7201a8\"],[0.3333333333333333,\"#9c179e\"],[0.4444444444444444,\"#bd3786\"],[0.5555555555555556,\"#d8576b\"],[0.6666666666666666,\"#ed7953\"],[0.7777777777777778,\"#fb9f3a\"],[0.8888888888888888,\"#fdca26\"],[1.0,\"#f0f921\"]],\"type\":\"histogram2dcontour\"}],\"mesh3d\":[{\"colorbar\":{\"outlinewidth\":0,\"ticks\":\"\"},\"type\":\"mesh3d\"}],\"parcoords\":[{\"line\":{\"colorbar\":{\"outlinewidth\":0,\"ticks\":\"\"}},\"type\":\"parcoords\"}],\"pie\":[{\"automargin\":true,\"type\":\"pie\"}],\"scatter\":[{\"marker\":{\"colorbar\":{\"outlinewidth\":0,\"ticks\":\"\"}},\"type\":\"scatter\"}],\"scatter3d\":[{\"line\":{\"colorbar\":{\"outlinewidth\":0,\"ticks\":\"\"}},\"marker\":{\"colorbar\":{\"outlinewidth\":0,\"ticks\":\"\"}},\"type\":\"scatter3d\"}],\"scattercarpet\":[{\"marker\":{\"colorbar\":{\"outlinewidth\":0,\"ticks\":\"\"}},\"type\":\"scattercarpet\"}],\"scattergeo\":[{\"marker\":{\"colorbar\":{\"outlinewidth\":0,\"ticks\":\"\"}},\"type\":\"scattergeo\"}],\"scattergl\":[{\"marker\":{\"colorbar\":{\"outlinewidth\":0,\"ticks\":\"\"}},\"type\":\"scattergl\"}],\"scattermapbox\":[{\"marker\":{\"colorbar\":{\"outlinewidth\":0,\"ticks\":\"\"}},\"type\":\"scattermapbox\"}],\"scatterpolar\":[{\"marker\":{\"colorbar\":{\"outlinewidth\":0,\"ticks\":\"\"}},\"type\":\"scatterpolar\"}],\"scatterpolargl\":[{\"marker\":{\"colorbar\":{\"outlinewidth\":0,\"ticks\":\"\"}},\"type\":\"scatterpolargl\"}],\"scatterternary\":[{\"marker\":{\"colorbar\":{\"outlinewidth\":0,\"ticks\":\"\"}},\"type\":\"scatterternary\"}],\"surface\":[{\"colorbar\":{\"outlinewidth\":0,\"ticks\":\"\"},\"colorscale\":[[0.0,\"#0d0887\"],[0.1111111111111111,\"#46039f\"],[0.2222222222222222,\"#7201a8\"],[0.3333333333333333,\"#9c179e\"],[0.4444444444444444,\"#bd3786\"],[0.5555555555555556,\"#d8576b\"],[0.6666666666666666,\"#ed7953\"],[0.7777777777777778,\"#fb9f3a\"],[0.8888888888888888,\"#fdca26\"],[1.0,\"#f0f921\"]],\"type\":\"surface\"}],\"table\":[{\"cells\":{\"fill\":{\"color\":\"#EBF0F8\"},\"line\":{\"color\":\"white\"}},\"header\":{\"fill\":{\"color\":\"#C8D4E3\"},\"line\":{\"color\":\"white\"}},\"type\":\"table\"}]},\"layout\":{\"annotationdefaults\":{\"arrowcolor\":\"#2a3f5f\",\"arrowhead\":0,\"arrowwidth\":1},\"autotypenumbers\":\"strict\",\"coloraxis\":{\"colorbar\":{\"outlinewidth\":0,\"ticks\":\"\"}},\"colorscale\":{\"diverging\":[[0,\"#8e0152\"],[0.1,\"#c51b7d\"],[0.2,\"#de77ae\"],[0.3,\"#f1b6da\"],[0.4,\"#fde0ef\"],[0.5,\"#f7f7f7\"],[0.6,\"#e6f5d0\"],[0.7,\"#b8e186\"],[0.8,\"#7fbc41\"],[0.9,\"#4d9221\"],[1,\"#276419\"]],\"sequential\":[[0.0,\"#0d0887\"],[0.1111111111111111,\"#46039f\"],[0.2222222222222222,\"#7201a8\"],[0.3333333333333333,\"#9c179e\"],[0.4444444444444444,\"#bd3786\"],[0.5555555555555556,\"#d8576b\"],[0.6666666666666666,\"#ed7953\"],[0.7777777777777778,\"#fb9f3a\"],[0.8888888888888888,\"#fdca26\"],[1.0,\"#f0f921\"]],\"sequentialminus\":[[0.0,\"#0d0887\"],[0.1111111111111111,\"#46039f\"],[0.2222222222222222,\"#7201a8\"],[0.3333333333333333,\"#9c179e\"],[0.4444444444444444,\"#bd3786\"],[0.5555555555555556,\"#d8576b\"],[0.6666666666666666,\"#ed7953\"],[0.7777777777777778,\"#fb9f3a\"],[0.8888888888888888,\"#fdca26\"],[1.0,\"#f0f921\"]]},\"colorway\":[\"#636efa\",\"#EF553B\",\"#00cc96\",\"#ab63fa\",\"#FFA15A\",\"#19d3f3\",\"#FF6692\",\"#B6E880\",\"#FF97FF\",\"#FECB52\"],\"font\":{\"color\":\"#2a3f5f\"},\"geo\":{\"bgcolor\":\"white\",\"lakecolor\":\"white\",\"landcolor\":\"#E5ECF6\",\"showlakes\":true,\"showland\":true,\"subunitcolor\":\"white\"},\"hoverlabel\":{\"align\":\"left\"},\"hovermode\":\"closest\",\"mapbox\":{\"style\":\"light\"},\"paper_bgcolor\":\"white\",\"plot_bgcolor\":\"#E5ECF6\",\"polar\":{\"angularaxis\":{\"gridcolor\":\"white\",\"linecolor\":\"white\",\"ticks\":\"\"},\"bgcolor\":\"#E5ECF6\",\"radialaxis\":{\"gridcolor\":\"white\",\"linecolor\":\"white\",\"ticks\":\"\"}},\"scene\":{\"xaxis\":{\"backgroundcolor\":\"#E5ECF6\",\"gridcolor\":\"white\",\"gridwidth\":2,\"linecolor\":\"white\",\"showbackground\":true,\"ticks\":\"\",\"zerolinecolor\":\"white\"},\"yaxis\":{\"backgroundcolor\":\"#E5ECF6\",\"gridcolor\":\"white\",\"gridwidth\":2,\"linecolor\":\"white\",\"showbackground\":true,\"ticks\":\"\",\"zerolinecolor\":\"white\"},\"zaxis\":{\"backgroundcolor\":\"#E5ECF6\",\"gridcolor\":\"white\",\"gridwidth\":2,\"linecolor\":\"white\",\"showbackground\":true,\"ticks\":\"\",\"zerolinecolor\":\"white\"}},\"shapedefaults\":{\"line\":{\"color\":\"#2a3f5f\"}},\"ternary\":{\"aaxis\":{\"gridcolor\":\"white\",\"linecolor\":\"white\",\"ticks\":\"\"},\"baxis\":{\"gridcolor\":\"white\",\"linecolor\":\"white\",\"ticks\":\"\"},\"bgcolor\":\"#E5ECF6\",\"caxis\":{\"gridcolor\":\"white\",\"linecolor\":\"white\",\"ticks\":\"\"}},\"title\":{\"x\":0.05},\"xaxis\":{\"automargin\":true,\"gridcolor\":\"white\",\"linecolor\":\"white\",\"ticks\":\"\",\"title\":{\"standoff\":15},\"zerolinecolor\":\"white\",\"zerolinewidth\":2},\"yaxis\":{\"automargin\":true,\"gridcolor\":\"white\",\"linecolor\":\"white\",\"ticks\":\"\",\"title\":{\"standoff\":15},\"zerolinecolor\":\"white\",\"zerolinewidth\":2}}},\"title\":{\"text\":\"plotly.colors.qualitative\"},\"xaxis\":{\"range\":[-0.02,1.02],\"showgrid\":false,\"showticklabels\":false}},                        {\"responsive\": true}                    ).then(function(){\n",
       "                            \n",
       "var gd = document.getElementById('af56da61-42ae-4018-932b-81e4479479bd');\n",
       "var x = new MutationObserver(function (mutations, observer) {{\n",
       "        var display = window.getComputedStyle(gd).display;\n",
       "        if (!display || display === 'none') {{\n",
       "            console.log([gd, 'removed!']);\n",
       "            Plotly.purge(gd);\n",
       "            observer.disconnect();\n",
       "        }}\n",
       "}});\n",
       "\n",
       "// Listen for the removal of the full notebook cells\n",
       "var notebookContainer = gd.closest('#notebook-container');\n",
       "if (notebookContainer) {{\n",
       "    x.observe(notebookContainer, {childList: true});\n",
       "}}\n",
       "\n",
       "// Listen for the clearing of the current output cell\n",
       "var outputEl = gd.closest('.output');\n",
       "if (outputEl) {{\n",
       "    x.observe(outputEl, {childList: true});\n",
       "}}\n",
       "\n",
       "                        })                };                });            </script>        </div>"
      ]
     },
     "metadata": {},
     "output_type": "display_data"
    }
   ],
   "source": [
    "px.colors.qualitative.swatches()"
   ]
  },
  {
   "cell_type": "markdown",
   "id": "3eb4889b-c52b-4327-811d-bb649363ab51",
   "metadata": {},
   "source": [
    "# Border Information"
   ]
  },
  {
   "cell_type": "code",
   "execution_count": 107,
   "id": "02071709-9168-4aff-94ae-120bb4b36ec7",
   "metadata": {},
   "outputs": [],
   "source": [
    "borderDF = pd.read_csv('Data//borderData.csv')"
   ]
  },
  {
   "cell_type": "code",
   "execution_count": 108,
   "id": "f33a675e-ad6e-4fbe-a155-e8c6b9064b92",
   "metadata": {},
   "outputs": [],
   "source": [
    "convertISO = lambda x: codeMatching[x]"
   ]
  },
  {
   "cell_type": "code",
   "execution_count": 109,
   "id": "84fcf5dc-9859-4fad-a217-50125af91954",
   "metadata": {},
   "outputs": [],
   "source": [
    "borders = {}\n",
    "borderMatching = list(borderDF.groupby('country_code'))\n",
    "for country in borderMatching:\n",
    "    iso2 = country[0]\n",
    "    for neighbor in country[1]['country_border_code']:\n",
    "        if isinstance(neighbor, str):\n",
    "            if codeMatching[iso2] in borders:\n",
    "                borders[codeMatching[iso2]].append(codeMatching[neighbor])\n",
    "            else:\n",
    "                borders[codeMatching[iso2]] = [codeMatching[neighbor]]"
   ]
  },
  {
   "cell_type": "code",
   "execution_count": 110,
   "id": "0cac08ba-71aa-47fe-9d80-7e591b263be5",
   "metadata": {},
   "outputs": [],
   "source": [
    "countryIndexes = {}\n",
    "for i in range(len(countries)):\n",
    "    countryIndexes[countries[i]] = i"
   ]
  },
  {
   "cell_type": "code",
   "execution_count": 111,
   "id": "808deb69-53a9-48d0-9de0-a5f81ebde95c",
   "metadata": {},
   "outputs": [],
   "source": [
    "borderMatrix = [[0 for i in range(len(countries))] for j in range(len(countries))]\n",
    "for countryISO in borders:\n",
    "    if countryISO in ISOCodes:\n",
    "        country = ISOCodes[countryISO]\n",
    "        for neighborISO in borders[countryISO]:\n",
    "            if neighborISO in ISOCodes:\n",
    "                neighbor = ISOCodes[neighborISO]\n",
    "                borderMatrix[countryIndexes[country]][countryIndexes[neighbor]] = 1\n",
    "                borderMatrix[countryIndexes[neighbor]][countryIndexes[country]] = 1"
   ]
  },
  {
   "cell_type": "code",
   "execution_count": 112,
   "id": "b8a5c875-ef1e-4640-a5fc-90e9c2da3156",
   "metadata": {},
   "outputs": [
    {
     "data": {
      "text/plain": [
       "<matplotlib.collections.QuadMesh at 0x1a250c2dcd0>"
      ]
     },
     "execution_count": 112,
     "metadata": {},
     "output_type": "execute_result"
    },
    {
     "data": {
      "image/png": "[encoded data removed]",
      "text/plain": [
       "<Figure size 432x288 with 1 Axes>"
      ]
     },
     "metadata": {
      "needs_background": "light"
     },
     "output_type": "display_data"
    }
   ],
   "source": [
    "plt.pcolormesh(pd.DataFrame(borderMatrix))"
   ]
  },
  {
   "cell_type": "markdown",
   "id": "52df3873-da2a-4f2c-9201-15edb565788b",
   "metadata": {},
   "source": [
    "# Capitals distance measurement"
   ]
  },
  {
   "cell_type": "code",
   "execution_count": 165,
   "id": "1c86c69a-8023-4479-9a37-9c8643018ac7",
   "metadata": {},
   "outputs": [],
   "source": [
    "from geopy import distance"
   ]
  },
  {
   "cell_type": "code",
   "execution_count": 166,
   "id": "c86ffabe-15a1-4f2f-bc29-4e2a7ec01e62",
   "metadata": {},
   "outputs": [],
   "source": [
    "with open('Data//capitals.json') as f:\n",
    "    capitalsData = json.load(f)"
   ]
  },
  {
   "cell_type": "code",
   "execution_count": 167,
   "id": "659d92f4-fbdb-4a95-8f06-ed7f17079838",
   "metadata": {},
   "outputs": [],
   "source": [
    "specialCountries = {'Republic of Congo':'Congo', 'Czech Republic':'Czechia', 'Democratic Republic of the Congo': 'Democratic Republic of Congo', 'Swaziland':'Eswatini',\n",
    "                    'The Gambia':'Gambia', 'Macedonia':'North Macedonia', 'Timor-Leste':'Timor'}\n",
    "for country in capitalsData:\n",
    "    if country['CountryName'] in specialCountries:\n",
    "        country['CountryName'] = specialCountries[country['CountryName']]"
   ]
  },
  {
   "cell_type": "code",
   "execution_count": 168,
   "id": "b6bac8f8-f42d-4df1-96e3-9b28e3af174e",
   "metadata": {},
   "outputs": [],
   "source": [
    "capitalsData = sorted(capitalsData, key=lambda d: d['CountryName']) "
   ]
  },
  {
   "cell_type": "code",
   "execution_count": 169,
   "id": "c593db7d-2713-4d6e-9a98-777ed421ac2c",
   "metadata": {},
   "outputs": [],
   "source": [
    "capitals = []\n",
    "for country in capitalsData:\n",
    "    if country['CountryName'] in countries:\n",
    "        capitals.append((country['CapitalLatitude'], country['CapitalLongitude']))\n",
    "capitals[149] = (38.883333, -77.000000)"
   ]
  },
  {
   "cell_type": "code",
   "execution_count": 170,
   "id": "ee8ae2c0-a6bd-46d3-83a7-2cd682c2c16c",
   "metadata": {},
   "outputs": [],
   "source": [
    "distancesCapitals = [[0 for i in range(len(countries))] for j in range(len(countries))]\n",
    "for i in range(len(countries)):\n",
    "    for j in range(i + 1, len(countries)):\n",
    "        dist = distance.distance(capitals[i], capitals[j]).miles\n",
    "        distancesCapitals[i][j] = dist\n",
    "        distancesCapitals[j][i] = dist"
   ]
  },
  {
   "cell_type": "code",
   "execution_count": 171,
   "id": "0d679936-bbc2-4453-8c9d-b8afed505438",
   "metadata": {},
   "outputs": [
    {
     "data": {
      "text/plain": [
       "<matplotlib.collections.QuadMesh at 0x1de38fcf2b0>"
      ]
     },
     "execution_count": 171,
     "metadata": {},
     "output_type": "execute_result"
    },
    {
     "data": {
      "image/png": "[encoded data removed]",
      "text/plain": [
       "<Figure size 432x288 with 1 Axes>"
      ]
     },
     "metadata": {
      "needs_background": "light"
     },
     "output_type": "display_data"
    }
   ],
   "source": [
    "plt.pcolormesh(pd.DataFrame(distancesCapitals))"
   ]
  },
  {
   "cell_type": "code",
   "execution_count": 172,
   "id": "5f4ba082-ba65-4eb4-91f7-61a12af0b975",
   "metadata": {},
   "outputs": [],
   "source": [
    "totalVariance = 0\n",
    "for i in range(len(distancesCapitals)):\n",
    "    for j in range(i + 1, len(distancesCapitals)):\n",
    "        totalVariance += distancesCapitals[i][j]\n",
    "withinClusterVariance = 0\n",
    "for cluster in rankClusters:\n",
    "    for i in range(len(cluster)):\n",
    "        for j in range(i + 1,len(cluster)):\n",
    "            withinClusterVariance += distancesCapitals[cluster[i]][cluster[j]]\n",
    "betweenClusterVariance = totalVariance - withinClusterVariance"
   ]
  },
  {
   "cell_type": "markdown",
   "id": "4f11e10f-42f4-425c-950a-30e90a6445fd",
   "metadata": {},
   "source": [
    "#### Ratio of Between cluster variance to total variance"
   ]
  },
  {
   "cell_type": "code",
   "execution_count": 173,
   "id": "f37524cf-bd41-40ca-90c7-e7d875567ecd",
   "metadata": {},
   "outputs": [
    {
     "data": {
      "text/plain": [
       "0.9137020258608342"
      ]
     },
     "execution_count": 173,
     "metadata": {},
     "output_type": "execute_result"
    }
   ],
   "source": [
    "betweenClusterVariance / totalVariance"
   ]
  },
  {
   "cell_type": "markdown",
   "id": "5f5f1f6b-fffd-4f84-9df5-0c1dcc826773",
   "metadata": {},
   "source": [
    "#### This result suggests that geography does have a substantial influence on a countries COVID-19 experience"
   ]
  },
  {
   "cell_type": "markdown",
   "id": "b2966c1b-a54a-4de9-ab69-ae3f586ce3b0",
   "metadata": {},
   "source": [
    "# ANOVA"
   ]
  },
  {
   "cell_type": "code",
   "execution_count": 130,
   "id": "c86f32f9-9a3e-413f-8921-5378344b7538",
   "metadata": {},
   "outputs": [],
   "source": [
    "import scipy.stats as stats\n",
    "import statsmodels.api as sm\n",
    "from statsmodels.formula.api import ols"
   ]
  },
  {
   "cell_type": "code",
   "execution_count": 132,
   "id": "c515ed3f-d4fc-4ada-a86e-e6b08803e02b",
   "metadata": {},
   "outputs": [
    {
     "data": {
      "text/html": [
       "<div>\n",
       "<style scoped>\n",
       "    .dataframe tbody tr th:only-of-type {\n",
       "        vertical-align: middle;\n",
       "    }\n",
       "\n",
       "    .dataframe tbody tr th {\n",
       "        vertical-align: top;\n",
       "    }\n",
       "\n",
       "    .dataframe thead th {\n",
       "        text-align: right;\n",
       "    }\n",
       "</style>\n",
       "<table border=\"1\" class=\"dataframe\">\n",
       "  <thead>\n",
       "    <tr style=\"text-align: right;\">\n",
       "      <th></th>\n",
       "      <th>sum_sq</th>\n",
       "      <th>df</th>\n",
       "      <th>F</th>\n",
       "      <th>PR(&gt;F)</th>\n",
       "    </tr>\n",
       "  </thead>\n",
       "  <tbody>\n",
       "    <tr>\n",
       "      <th>C(variable)</th>\n",
       "      <td>2.156303e+10</td>\n",
       "      <td>8.0</td>\n",
       "      <td>11.323127</td>\n",
       "      <td>2.284882e-12</td>\n",
       "    </tr>\n",
       "    <tr>\n",
       "      <th>Residual</th>\n",
       "      <td>3.427803e+10</td>\n",
       "      <td>144.0</td>\n",
       "      <td>NaN</td>\n",
       "      <td>NaN</td>\n",
       "    </tr>\n",
       "  </tbody>\n",
       "</table>\n",
       "</div>"
      ],
      "text/plain": [
       "                   sum_sq     df          F        PR(>F)\n",
       "C(variable)  2.156303e+10    8.0  11.323127  2.284882e-12\n",
       "Residual     3.427803e+10  144.0        NaN           NaN"
      ]
     },
     "execution_count": 132,
     "metadata": {},
     "output_type": "execute_result"
    }
   ],
   "source": [
    "model = ols('value ~ C(variable)', data=pd.DataFrame(gdpClusters).T.melt()).fit()\n",
    "anova_table = sm.stats.anova_lm(model, typ=2)\n",
    "anova_table"
   ]
  },
  {
   "cell_type": "markdown",
   "id": "4855abc4-60dc-4489-9f18-bad096bd3578",
   "metadata": {},
   "source": [
    "#### Population Density"
   ]
  },
  {
   "cell_type": "code",
   "execution_count": 177,
   "id": "f0764cc0-0090-4772-b94f-a7e55df416a4",
   "metadata": {},
   "outputs": [],
   "source": [
    "with open('Data//pop_density.json') as f:\n",
    "    popDensityData = json.load(f)"
   ]
  },
  {
   "cell_type": "code",
   "execution_count": 178,
   "id": "a85d69ab-e845-4e59-8226-5c73360afd61",
   "metadata": {},
   "outputs": [],
   "source": [
    "specialCountries2 = {'DR Congo':'Democratic Republic of Congo', 'Ivory Coast':'Cote d\\'Ivoire', 'Republic of the Congo':'Congo'}\n",
    "for country in popDensityData:\n",
    "    if country['country'] in specialCountries:\n",
    "        country['country'] = specialCountries[country['country']]\n",
    "    if country['country'] in specialCountries2:\n",
    "        country['country'] = specialCountries2[country['country']]"
   ]
  },
  {
   "cell_type": "code",
   "execution_count": 179,
   "id": "b433e89a-523e-41f1-8081-87266769a1c1",
   "metadata": {},
   "outputs": [],
   "source": [
    "popDensityData = sorted(popDensityData, key=lambda d: d['country']) "
   ]
  },
  {
   "cell_type": "code",
   "execution_count": 195,
   "id": "13dd6036-858e-40b5-8629-203e5f47c393",
   "metadata": {},
   "outputs": [],
   "source": [
    "popDensity = []\n",
    "for country in popDensityData:\n",
    "    if country['country'] in countries:\n",
    "        popDensity.append(float(country['density']))\n",
    "popDensity.insert(74, 159)"
   ]
  },
  {
   "cell_type": "code",
   "execution_count": 196,
   "id": "226f27bb-1ace-41a3-87e4-490cc0818b72",
   "metadata": {},
   "outputs": [],
   "source": [
    "popDensityClusters = []\n",
    "for cluster in rankClusters:\n",
    "    PDCluster = [popDensity[x] for x in cluster]\n",
    "    popDensityClusters.append(PDCluster)"
   ]
  },
  {
   "cell_type": "code",
   "execution_count": 198,
   "id": "33485b58-302b-4821-abd6-a124fc5e7f7c",
   "metadata": {},
   "outputs": [
    {
     "data": {
      "text/html": [
       "<div>\n",
       "<style scoped>\n",
       "    .dataframe tbody tr th:only-of-type {\n",
       "        vertical-align: middle;\n",
       "    }\n",
       "\n",
       "    .dataframe tbody tr th {\n",
       "        vertical-align: top;\n",
       "    }\n",
       "\n",
       "    .dataframe thead th {\n",
       "        text-align: right;\n",
       "    }\n",
       "</style>\n",
       "<table border=\"1\" class=\"dataframe\">\n",
       "  <thead>\n",
       "    <tr style=\"text-align: right;\">\n",
       "      <th></th>\n",
       "      <th>sum_sq</th>\n",
       "      <th>df</th>\n",
       "      <th>F</th>\n",
       "      <th>PR(&gt;F)</th>\n",
       "    </tr>\n",
       "  </thead>\n",
       "  <tbody>\n",
       "    <tr>\n",
       "      <th>C(variable)</th>\n",
       "      <td>2.138612e+07</td>\n",
       "      <td>8.0</td>\n",
       "      <td>3.982575</td>\n",
       "      <td>0.000267</td>\n",
       "    </tr>\n",
       "    <tr>\n",
       "      <th>Residual</th>\n",
       "      <td>9.934357e+07</td>\n",
       "      <td>148.0</td>\n",
       "      <td>NaN</td>\n",
       "      <td>NaN</td>\n",
       "    </tr>\n",
       "  </tbody>\n",
       "</table>\n",
       "</div>"
      ],
      "text/plain": [
       "                   sum_sq     df         F    PR(>F)\n",
       "C(variable)  2.138612e+07    8.0  3.982575  0.000267\n",
       "Residual     9.934357e+07  148.0       NaN       NaN"
      ]
     },
     "execution_count": 198,
     "metadata": {},
     "output_type": "execute_result"
    }
   ],
   "source": [
    "model = ols('value ~ C(variable)', data=pd.DataFrame(popDensityClusters).T.melt()).fit()\n",
    "anova_table = sm.stats.anova_lm(model, typ=2)\n",
    "anova_table"
   ]
  },
  {
   "cell_type": "markdown",
   "id": "9790c5e7-471c-4cad-93ff-b303c46a0a49",
   "metadata": {},
   "source": [
    "# Graph Visualization"
   ]
  },
  {
   "cell_type": "code",
   "execution_count": 206,
   "id": "7fda673e-9c52-4d2c-82e2-6d29b9d1b8c3",
   "metadata": {},
   "outputs": [],
   "source": [
    "import seaborn as sns"
   ]
  },
  {
   "cell_type": "code",
   "execution_count": 199,
   "id": "a966afcf-99e3-48b3-8ae5-e136fd8b7a46",
   "metadata": {},
   "outputs": [],
   "source": [
    "gdpDF['pop_density'] = popDensity"
   ]
  },
  {
   "cell_type": "code",
   "execution_count": 204,
   "id": "b788f7e5-290f-4839-a109-8640e512af67",
   "metadata": {},
   "outputs": [],
   "source": [
    "consolidatedDP = gdpDF.merge(mapDF, on='location')"
   ]
  },
  {
   "cell_type": "code",
   "execution_count": 217,
   "id": "590ca58a-1e9d-42d3-9119-dbedcd3bac50",
   "metadata": {},
   "outputs": [
    {
     "data": {
      "text/plain": [
       "(0.0, 1000.0)"
      ]
     },
     "execution_count": 217,
     "metadata": {},
     "output_type": "execute_result"
    },
    {
     "data": {
      "image/png": "[encoded data removed]",
      "text/plain": [
       "<Figure size 432x288 with 1 Axes>"
      ]
     },
     "metadata": {
      "needs_background": "light"
     },
     "output_type": "display_data"
    }
   ],
   "source": [
    "sns.scatterplot(x='gdp_per_capita', y='pop_density', data = consolidatedDP, hue = 'cluster')\n",
    "plt.xlim(0, 70000)\n",
    "plt.ylim(0,1000)"
   ]
  },
  {
   "cell_type": "markdown",
   "id": "386fb416-c5e8-442c-b983-91b7df1dcba2",
   "metadata": {},
   "source": [
    "### Cluster Qualities"
   ]
  },
  {
   "cell_type": "markdown",
   "id": "9cefffbb-a5a8-40e5-87d6-02e9ce70c3c9",
   "metadata": {},
   "source": [
    "* Cluster 1 (Purple) - Very low GDP per capita and a range of population densities\n",
    "* Cluster 6 (Orange) - Large range of GDP per capita, lower population density\n",
    "* Cluster 7 (Green)  - Mostly between 10k - 20k GDP per capita and lower population densities"
   ]
  },
  {
   "cell_type": "code",
   "execution_count": null,
   "id": "2a7e15a1-2ef7-40ce-be26-65a2339036b0",
   "metadata": {},
   "outputs": [],
   "source": []
  }
 ],
 "metadata": {
  "kernelspec": {
   "display_name": "Python 3 (ipykernel)",
   "language": "python",
   "name": "python3"
  },
  "language_info": {
   "codemirror_mode": {
    "name": "ipython",
    "version": 3
   },
   "file_extension": ".py",
   "mimetype": "text/x-python",
   "name": "python",
   "nbconvert_exporter": "python",
   "pygments_lexer": "ipython3",
   "version": "3.8.11"
  }
 },
 "nbformat": 4,
 "nbformat_minor": 5
}
